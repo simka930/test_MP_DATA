{
 "cells": [
  {
   "cell_type": "markdown",
   "metadata": {
    "pycharm": {
     "name": "#%% md\n"
    }
   },
   "source": [
    "# Développement d'un modèle de prédiction de la durée de carrière de joueurs de NBA\n",
    "\n",
    "Simon Bouaniche\n",
    "\n",
    "Test MP DATA\n",
    "\n",
    "<br>\n",
    "\n",
    "### Objectif\n",
    "L'objectif de ce notebook est de développer un modèle de classification binaire qui prédit si la carrière d'un jeune joueur de NBA va durer plus de 5 ans ou non. Le dataset d'entrainement est fourni par MP Data.\n",
    "\n",
    "Une fois que le modèle sera développé, un autre scipt python permettra de le déployer sous forme d'une API REST via le framework FASTAPI\n",
    "\n",
    "<br>\n",
    "\n",
    "### Import modules\n"
   ]
  },
  {
   "cell_type": "code",
   "execution_count": 1,
   "metadata": {
    "pycharm": {
     "name": "#%%\n"
    }
   },
   "outputs": [],
   "source": [
    "import numpy as np\n",
    "import pandas as pd\n",
    "import matplotlib\n",
    "from matplotlib import pyplot as plt\n",
    "from sklearn.preprocessing import MinMaxScaler, StandardScaler\n",
    "from sklearn.model_selection import KFold\n",
    "from sklearn.metrics import confusion_matrix\n",
    "from sklearn.metrics import recall_score\n",
    "from sklearn.svm import SVC\n",
    "from sklearn.ensemble import RandomForestClassifier\n",
    "from sklearn.impute import SimpleImputer\n",
    "import pickle\n",
    "import warnings"
   ]
  },
  {
   "cell_type": "markdown",
   "metadata": {
    "pycharm": {
     "name": "#%% md\n"
    }
   },
   "source": [
    "### Exploration Dataset"
   ]
  },
  {
   "cell_type": "code",
   "execution_count": 2,
   "metadata": {
    "pycharm": {
     "name": "#%%\n"
    }
   },
   "outputs": [
    {
     "name": "stdout",
     "output_type": "stream",
     "text": [
      "(1340, 21)\n"
     ]
    },
    {
     "data": {
      "text/html": [
       "<div>\n",
       "<style scoped>\n",
       "    .dataframe tbody tr th:only-of-type {\n",
       "        vertical-align: middle;\n",
       "    }\n",
       "\n",
       "    .dataframe tbody tr th {\n",
       "        vertical-align: top;\n",
       "    }\n",
       "\n",
       "    .dataframe thead th {\n",
       "        text-align: right;\n",
       "    }\n",
       "</style>\n",
       "<table border=\"1\" class=\"dataframe\">\n",
       "  <thead>\n",
       "    <tr style=\"text-align: right;\">\n",
       "      <th></th>\n",
       "      <th>Name</th>\n",
       "      <th>GP</th>\n",
       "      <th>MIN</th>\n",
       "      <th>PTS</th>\n",
       "      <th>FGM</th>\n",
       "      <th>FGA</th>\n",
       "      <th>FG%</th>\n",
       "      <th>3P Made</th>\n",
       "      <th>3PA</th>\n",
       "      <th>3P%</th>\n",
       "      <th>...</th>\n",
       "      <th>FTA</th>\n",
       "      <th>FT%</th>\n",
       "      <th>OREB</th>\n",
       "      <th>DREB</th>\n",
       "      <th>REB</th>\n",
       "      <th>AST</th>\n",
       "      <th>STL</th>\n",
       "      <th>BLK</th>\n",
       "      <th>TOV</th>\n",
       "      <th>TARGET_5Yrs</th>\n",
       "    </tr>\n",
       "  </thead>\n",
       "  <tbody>\n",
       "    <tr>\n",
       "      <th>0</th>\n",
       "      <td>Brandon Ingram</td>\n",
       "      <td>36</td>\n",
       "      <td>27.4</td>\n",
       "      <td>7.4</td>\n",
       "      <td>2.6</td>\n",
       "      <td>7.6</td>\n",
       "      <td>34.7</td>\n",
       "      <td>0.5</td>\n",
       "      <td>2.1</td>\n",
       "      <td>25.0</td>\n",
       "      <td>...</td>\n",
       "      <td>2.3</td>\n",
       "      <td>69.9</td>\n",
       "      <td>0.7</td>\n",
       "      <td>3.4</td>\n",
       "      <td>4.1</td>\n",
       "      <td>1.9</td>\n",
       "      <td>0.4</td>\n",
       "      <td>0.4</td>\n",
       "      <td>1.3</td>\n",
       "      <td>0.0</td>\n",
       "    </tr>\n",
       "    <tr>\n",
       "      <th>1</th>\n",
       "      <td>Andrew Harrison</td>\n",
       "      <td>35</td>\n",
       "      <td>26.9</td>\n",
       "      <td>7.2</td>\n",
       "      <td>2.0</td>\n",
       "      <td>6.7</td>\n",
       "      <td>29.6</td>\n",
       "      <td>0.7</td>\n",
       "      <td>2.8</td>\n",
       "      <td>23.5</td>\n",
       "      <td>...</td>\n",
       "      <td>3.4</td>\n",
       "      <td>76.5</td>\n",
       "      <td>0.5</td>\n",
       "      <td>2.0</td>\n",
       "      <td>2.4</td>\n",
       "      <td>3.7</td>\n",
       "      <td>1.1</td>\n",
       "      <td>0.5</td>\n",
       "      <td>1.6</td>\n",
       "      <td>0.0</td>\n",
       "    </tr>\n",
       "    <tr>\n",
       "      <th>2</th>\n",
       "      <td>JaKarr Sampson</td>\n",
       "      <td>74</td>\n",
       "      <td>15.3</td>\n",
       "      <td>5.2</td>\n",
       "      <td>2.0</td>\n",
       "      <td>4.7</td>\n",
       "      <td>42.2</td>\n",
       "      <td>0.4</td>\n",
       "      <td>1.7</td>\n",
       "      <td>24.4</td>\n",
       "      <td>...</td>\n",
       "      <td>1.3</td>\n",
       "      <td>67.0</td>\n",
       "      <td>0.5</td>\n",
       "      <td>1.7</td>\n",
       "      <td>2.2</td>\n",
       "      <td>1.0</td>\n",
       "      <td>0.5</td>\n",
       "      <td>0.3</td>\n",
       "      <td>1.0</td>\n",
       "      <td>0.0</td>\n",
       "    </tr>\n",
       "    <tr>\n",
       "      <th>3</th>\n",
       "      <td>Malik Sealy</td>\n",
       "      <td>58</td>\n",
       "      <td>11.6</td>\n",
       "      <td>5.7</td>\n",
       "      <td>2.3</td>\n",
       "      <td>5.5</td>\n",
       "      <td>42.6</td>\n",
       "      <td>0.1</td>\n",
       "      <td>0.5</td>\n",
       "      <td>22.6</td>\n",
       "      <td>...</td>\n",
       "      <td>1.3</td>\n",
       "      <td>68.9</td>\n",
       "      <td>1.0</td>\n",
       "      <td>0.9</td>\n",
       "      <td>1.9</td>\n",
       "      <td>0.8</td>\n",
       "      <td>0.6</td>\n",
       "      <td>0.1</td>\n",
       "      <td>1.0</td>\n",
       "      <td>1.0</td>\n",
       "    </tr>\n",
       "    <tr>\n",
       "      <th>4</th>\n",
       "      <td>Matt Geiger</td>\n",
       "      <td>48</td>\n",
       "      <td>11.5</td>\n",
       "      <td>4.5</td>\n",
       "      <td>1.6</td>\n",
       "      <td>3.0</td>\n",
       "      <td>52.4</td>\n",
       "      <td>0.0</td>\n",
       "      <td>0.1</td>\n",
       "      <td>0.0</td>\n",
       "      <td>...</td>\n",
       "      <td>1.9</td>\n",
       "      <td>67.4</td>\n",
       "      <td>1.0</td>\n",
       "      <td>1.5</td>\n",
       "      <td>2.5</td>\n",
       "      <td>0.3</td>\n",
       "      <td>0.3</td>\n",
       "      <td>0.4</td>\n",
       "      <td>0.8</td>\n",
       "      <td>1.0</td>\n",
       "    </tr>\n",
       "    <tr>\n",
       "      <th>...</th>\n",
       "      <td>...</td>\n",
       "      <td>...</td>\n",
       "      <td>...</td>\n",
       "      <td>...</td>\n",
       "      <td>...</td>\n",
       "      <td>...</td>\n",
       "      <td>...</td>\n",
       "      <td>...</td>\n",
       "      <td>...</td>\n",
       "      <td>...</td>\n",
       "      <td>...</td>\n",
       "      <td>...</td>\n",
       "      <td>...</td>\n",
       "      <td>...</td>\n",
       "      <td>...</td>\n",
       "      <td>...</td>\n",
       "      <td>...</td>\n",
       "      <td>...</td>\n",
       "      <td>...</td>\n",
       "      <td>...</td>\n",
       "      <td>...</td>\n",
       "    </tr>\n",
       "    <tr>\n",
       "      <th>1335</th>\n",
       "      <td>Chris Smith</td>\n",
       "      <td>80</td>\n",
       "      <td>15.8</td>\n",
       "      <td>4.3</td>\n",
       "      <td>1.6</td>\n",
       "      <td>3.6</td>\n",
       "      <td>43.3</td>\n",
       "      <td>0.0</td>\n",
       "      <td>0.2</td>\n",
       "      <td>14.3</td>\n",
       "      <td>...</td>\n",
       "      <td>1.5</td>\n",
       "      <td>79.2</td>\n",
       "      <td>0.4</td>\n",
       "      <td>0.8</td>\n",
       "      <td>1.2</td>\n",
       "      <td>2.5</td>\n",
       "      <td>0.6</td>\n",
       "      <td>0.2</td>\n",
       "      <td>0.8</td>\n",
       "      <td>0.0</td>\n",
       "    </tr>\n",
       "    <tr>\n",
       "      <th>1336</th>\n",
       "      <td>Brent Price</td>\n",
       "      <td>68</td>\n",
       "      <td>12.6</td>\n",
       "      <td>3.9</td>\n",
       "      <td>1.5</td>\n",
       "      <td>4.1</td>\n",
       "      <td>35.8</td>\n",
       "      <td>0.1</td>\n",
       "      <td>0.7</td>\n",
       "      <td>16.7</td>\n",
       "      <td>...</td>\n",
       "      <td>1.0</td>\n",
       "      <td>79.4</td>\n",
       "      <td>0.4</td>\n",
       "      <td>1.1</td>\n",
       "      <td>1.5</td>\n",
       "      <td>2.3</td>\n",
       "      <td>0.8</td>\n",
       "      <td>0.0</td>\n",
       "      <td>1.3</td>\n",
       "      <td>1.0</td>\n",
       "    </tr>\n",
       "    <tr>\n",
       "      <th>1337</th>\n",
       "      <td>Marlon Maxey</td>\n",
       "      <td>43</td>\n",
       "      <td>12.1</td>\n",
       "      <td>5.4</td>\n",
       "      <td>2.2</td>\n",
       "      <td>3.9</td>\n",
       "      <td>55.0</td>\n",
       "      <td>0.0</td>\n",
       "      <td>0.0</td>\n",
       "      <td>0.0</td>\n",
       "      <td>...</td>\n",
       "      <td>1.6</td>\n",
       "      <td>64.3</td>\n",
       "      <td>1.5</td>\n",
       "      <td>2.3</td>\n",
       "      <td>3.8</td>\n",
       "      <td>0.3</td>\n",
       "      <td>0.3</td>\n",
       "      <td>0.4</td>\n",
       "      <td>0.9</td>\n",
       "      <td>0.0</td>\n",
       "    </tr>\n",
       "    <tr>\n",
       "      <th>1338</th>\n",
       "      <td>Litterial Green</td>\n",
       "      <td>52</td>\n",
       "      <td>12.0</td>\n",
       "      <td>4.5</td>\n",
       "      <td>1.7</td>\n",
       "      <td>3.8</td>\n",
       "      <td>43.9</td>\n",
       "      <td>0.0</td>\n",
       "      <td>0.2</td>\n",
       "      <td>10.0</td>\n",
       "      <td>...</td>\n",
       "      <td>1.8</td>\n",
       "      <td>62.5</td>\n",
       "      <td>0.2</td>\n",
       "      <td>0.4</td>\n",
       "      <td>0.7</td>\n",
       "      <td>2.2</td>\n",
       "      <td>0.4</td>\n",
       "      <td>0.1</td>\n",
       "      <td>0.8</td>\n",
       "      <td>1.0</td>\n",
       "    </tr>\n",
       "    <tr>\n",
       "      <th>1339</th>\n",
       "      <td>Jon Barry</td>\n",
       "      <td>47</td>\n",
       "      <td>11.7</td>\n",
       "      <td>4.4</td>\n",
       "      <td>1.6</td>\n",
       "      <td>4.4</td>\n",
       "      <td>36.9</td>\n",
       "      <td>0.4</td>\n",
       "      <td>1.3</td>\n",
       "      <td>33.3</td>\n",
       "      <td>...</td>\n",
       "      <td>1.0</td>\n",
       "      <td>67.3</td>\n",
       "      <td>0.2</td>\n",
       "      <td>0.7</td>\n",
       "      <td>0.9</td>\n",
       "      <td>1.4</td>\n",
       "      <td>0.7</td>\n",
       "      <td>0.1</td>\n",
       "      <td>0.9</td>\n",
       "      <td>1.0</td>\n",
       "    </tr>\n",
       "  </tbody>\n",
       "</table>\n",
       "<p>1340 rows × 21 columns</p>\n",
       "</div>"
      ],
      "text/plain": [
       "                 Name  GP   MIN  PTS  FGM  FGA   FG%  3P Made  3PA   3P%  ...  \\\n",
       "0      Brandon Ingram  36  27.4  7.4  2.6  7.6  34.7      0.5  2.1  25.0  ...   \n",
       "1     Andrew Harrison  35  26.9  7.2  2.0  6.7  29.6      0.7  2.8  23.5  ...   \n",
       "2      JaKarr Sampson  74  15.3  5.2  2.0  4.7  42.2      0.4  1.7  24.4  ...   \n",
       "3         Malik Sealy  58  11.6  5.7  2.3  5.5  42.6      0.1  0.5  22.6  ...   \n",
       "4         Matt Geiger  48  11.5  4.5  1.6  3.0  52.4      0.0  0.1   0.0  ...   \n",
       "...               ...  ..   ...  ...  ...  ...   ...      ...  ...   ...  ...   \n",
       "1335      Chris Smith  80  15.8  4.3  1.6  3.6  43.3      0.0  0.2  14.3  ...   \n",
       "1336      Brent Price  68  12.6  3.9  1.5  4.1  35.8      0.1  0.7  16.7  ...   \n",
       "1337     Marlon Maxey  43  12.1  5.4  2.2  3.9  55.0      0.0  0.0   0.0  ...   \n",
       "1338  Litterial Green  52  12.0  4.5  1.7  3.8  43.9      0.0  0.2  10.0  ...   \n",
       "1339        Jon Barry  47  11.7  4.4  1.6  4.4  36.9      0.4  1.3  33.3  ...   \n",
       "\n",
       "      FTA   FT%  OREB  DREB  REB  AST  STL  BLK  TOV  TARGET_5Yrs  \n",
       "0     2.3  69.9   0.7   3.4  4.1  1.9  0.4  0.4  1.3          0.0  \n",
       "1     3.4  76.5   0.5   2.0  2.4  3.7  1.1  0.5  1.6          0.0  \n",
       "2     1.3  67.0   0.5   1.7  2.2  1.0  0.5  0.3  1.0          0.0  \n",
       "3     1.3  68.9   1.0   0.9  1.9  0.8  0.6  0.1  1.0          1.0  \n",
       "4     1.9  67.4   1.0   1.5  2.5  0.3  0.3  0.4  0.8          1.0  \n",
       "...   ...   ...   ...   ...  ...  ...  ...  ...  ...          ...  \n",
       "1335  1.5  79.2   0.4   0.8  1.2  2.5  0.6  0.2  0.8          0.0  \n",
       "1336  1.0  79.4   0.4   1.1  1.5  2.3  0.8  0.0  1.3          1.0  \n",
       "1337  1.6  64.3   1.5   2.3  3.8  0.3  0.3  0.4  0.9          0.0  \n",
       "1338  1.8  62.5   0.2   0.4  0.7  2.2  0.4  0.1  0.8          1.0  \n",
       "1339  1.0  67.3   0.2   0.7  0.9  1.4  0.7  0.1  0.9          1.0  \n",
       "\n",
       "[1340 rows x 21 columns]"
      ]
     },
     "execution_count": 2,
     "metadata": {},
     "output_type": "execute_result"
    }
   ],
   "source": [
    "df = pd.read_csv(\".\\\\Test Data Science/nba_logreg.csv\")\n",
    "print(df.shape)\n",
    "df"
   ]
  },
  {
   "cell_type": "code",
   "execution_count": 3,
   "metadata": {
    "pycharm": {
     "name": "#%%\n"
    }
   },
   "outputs": [
    {
     "data": {
      "text/html": [
       "<div>\n",
       "<style scoped>\n",
       "    .dataframe tbody tr th:only-of-type {\n",
       "        vertical-align: middle;\n",
       "    }\n",
       "\n",
       "    .dataframe tbody tr th {\n",
       "        vertical-align: top;\n",
       "    }\n",
       "\n",
       "    .dataframe thead th {\n",
       "        text-align: right;\n",
       "    }\n",
       "</style>\n",
       "<table border=\"1\" class=\"dataframe\">\n",
       "  <thead>\n",
       "    <tr style=\"text-align: right;\">\n",
       "      <th></th>\n",
       "      <th>GP</th>\n",
       "      <th>MIN</th>\n",
       "      <th>PTS</th>\n",
       "      <th>FGM</th>\n",
       "      <th>FGA</th>\n",
       "      <th>FG%</th>\n",
       "      <th>3P Made</th>\n",
       "      <th>3PA</th>\n",
       "      <th>3P%</th>\n",
       "      <th>FTM</th>\n",
       "      <th>FTA</th>\n",
       "      <th>FT%</th>\n",
       "      <th>OREB</th>\n",
       "      <th>DREB</th>\n",
       "      <th>REB</th>\n",
       "      <th>AST</th>\n",
       "      <th>STL</th>\n",
       "      <th>BLK</th>\n",
       "      <th>TOV</th>\n",
       "      <th>TARGET_5Yrs</th>\n",
       "    </tr>\n",
       "  </thead>\n",
       "  <tbody>\n",
       "    <tr>\n",
       "      <th>count</th>\n",
       "      <td>1340.000000</td>\n",
       "      <td>1340.000000</td>\n",
       "      <td>1340.000000</td>\n",
       "      <td>1340.000000</td>\n",
       "      <td>1340.000000</td>\n",
       "      <td>1340.000000</td>\n",
       "      <td>1340.000000</td>\n",
       "      <td>1340.000000</td>\n",
       "      <td>1329.000000</td>\n",
       "      <td>1340.000000</td>\n",
       "      <td>1340.000000</td>\n",
       "      <td>1340.000000</td>\n",
       "      <td>1340.000000</td>\n",
       "      <td>1340.000000</td>\n",
       "      <td>1340.000000</td>\n",
       "      <td>1340.000000</td>\n",
       "      <td>1340.000000</td>\n",
       "      <td>1340.000000</td>\n",
       "      <td>1340.000000</td>\n",
       "      <td>1340.000000</td>\n",
       "    </tr>\n",
       "    <tr>\n",
       "      <th>mean</th>\n",
       "      <td>60.414179</td>\n",
       "      <td>17.624627</td>\n",
       "      <td>6.801493</td>\n",
       "      <td>2.629104</td>\n",
       "      <td>5.885299</td>\n",
       "      <td>44.169403</td>\n",
       "      <td>0.247612</td>\n",
       "      <td>0.779179</td>\n",
       "      <td>19.308126</td>\n",
       "      <td>1.297687</td>\n",
       "      <td>1.821940</td>\n",
       "      <td>70.300299</td>\n",
       "      <td>1.009403</td>\n",
       "      <td>2.025746</td>\n",
       "      <td>3.034478</td>\n",
       "      <td>1.550522</td>\n",
       "      <td>0.618507</td>\n",
       "      <td>0.368582</td>\n",
       "      <td>1.193582</td>\n",
       "      <td>0.620149</td>\n",
       "    </tr>\n",
       "    <tr>\n",
       "      <th>std</th>\n",
       "      <td>17.433992</td>\n",
       "      <td>8.307964</td>\n",
       "      <td>4.357545</td>\n",
       "      <td>1.683555</td>\n",
       "      <td>3.593488</td>\n",
       "      <td>6.137679</td>\n",
       "      <td>0.383688</td>\n",
       "      <td>1.061847</td>\n",
       "      <td>16.022916</td>\n",
       "      <td>0.987246</td>\n",
       "      <td>1.322984</td>\n",
       "      <td>10.578479</td>\n",
       "      <td>0.777119</td>\n",
       "      <td>1.360008</td>\n",
       "      <td>2.057774</td>\n",
       "      <td>1.471169</td>\n",
       "      <td>0.409759</td>\n",
       "      <td>0.429049</td>\n",
       "      <td>0.722541</td>\n",
       "      <td>0.485531</td>\n",
       "    </tr>\n",
       "    <tr>\n",
       "      <th>min</th>\n",
       "      <td>11.000000</td>\n",
       "      <td>3.100000</td>\n",
       "      <td>0.700000</td>\n",
       "      <td>0.300000</td>\n",
       "      <td>0.800000</td>\n",
       "      <td>23.800000</td>\n",
       "      <td>0.000000</td>\n",
       "      <td>0.000000</td>\n",
       "      <td>0.000000</td>\n",
       "      <td>0.000000</td>\n",
       "      <td>0.000000</td>\n",
       "      <td>0.000000</td>\n",
       "      <td>0.000000</td>\n",
       "      <td>0.200000</td>\n",
       "      <td>0.300000</td>\n",
       "      <td>0.000000</td>\n",
       "      <td>0.000000</td>\n",
       "      <td>0.000000</td>\n",
       "      <td>0.100000</td>\n",
       "      <td>0.000000</td>\n",
       "    </tr>\n",
       "    <tr>\n",
       "      <th>25%</th>\n",
       "      <td>47.000000</td>\n",
       "      <td>10.875000</td>\n",
       "      <td>3.700000</td>\n",
       "      <td>1.400000</td>\n",
       "      <td>3.300000</td>\n",
       "      <td>40.200000</td>\n",
       "      <td>0.000000</td>\n",
       "      <td>0.000000</td>\n",
       "      <td>0.000000</td>\n",
       "      <td>0.600000</td>\n",
       "      <td>0.900000</td>\n",
       "      <td>64.700000</td>\n",
       "      <td>0.400000</td>\n",
       "      <td>1.000000</td>\n",
       "      <td>1.500000</td>\n",
       "      <td>0.600000</td>\n",
       "      <td>0.300000</td>\n",
       "      <td>0.100000</td>\n",
       "      <td>0.700000</td>\n",
       "      <td>0.000000</td>\n",
       "    </tr>\n",
       "    <tr>\n",
       "      <th>50%</th>\n",
       "      <td>63.000000</td>\n",
       "      <td>16.100000</td>\n",
       "      <td>5.550000</td>\n",
       "      <td>2.100000</td>\n",
       "      <td>4.800000</td>\n",
       "      <td>44.100000</td>\n",
       "      <td>0.100000</td>\n",
       "      <td>0.300000</td>\n",
       "      <td>22.400000</td>\n",
       "      <td>1.000000</td>\n",
       "      <td>1.500000</td>\n",
       "      <td>71.250000</td>\n",
       "      <td>0.800000</td>\n",
       "      <td>1.700000</td>\n",
       "      <td>2.500000</td>\n",
       "      <td>1.100000</td>\n",
       "      <td>0.500000</td>\n",
       "      <td>0.200000</td>\n",
       "      <td>1.000000</td>\n",
       "      <td>1.000000</td>\n",
       "    </tr>\n",
       "    <tr>\n",
       "      <th>75%</th>\n",
       "      <td>77.000000</td>\n",
       "      <td>22.900000</td>\n",
       "      <td>8.800000</td>\n",
       "      <td>3.400000</td>\n",
       "      <td>7.500000</td>\n",
       "      <td>47.900000</td>\n",
       "      <td>0.400000</td>\n",
       "      <td>1.200000</td>\n",
       "      <td>32.500000</td>\n",
       "      <td>1.600000</td>\n",
       "      <td>2.300000</td>\n",
       "      <td>77.600000</td>\n",
       "      <td>1.400000</td>\n",
       "      <td>2.600000</td>\n",
       "      <td>4.000000</td>\n",
       "      <td>2.000000</td>\n",
       "      <td>0.800000</td>\n",
       "      <td>0.500000</td>\n",
       "      <td>1.500000</td>\n",
       "      <td>1.000000</td>\n",
       "    </tr>\n",
       "    <tr>\n",
       "      <th>max</th>\n",
       "      <td>82.000000</td>\n",
       "      <td>40.900000</td>\n",
       "      <td>28.200000</td>\n",
       "      <td>10.200000</td>\n",
       "      <td>19.800000</td>\n",
       "      <td>73.700000</td>\n",
       "      <td>2.300000</td>\n",
       "      <td>6.500000</td>\n",
       "      <td>100.000000</td>\n",
       "      <td>7.700000</td>\n",
       "      <td>10.200000</td>\n",
       "      <td>100.000000</td>\n",
       "      <td>5.300000</td>\n",
       "      <td>9.600000</td>\n",
       "      <td>13.900000</td>\n",
       "      <td>10.600000</td>\n",
       "      <td>2.500000</td>\n",
       "      <td>3.900000</td>\n",
       "      <td>4.400000</td>\n",
       "      <td>1.000000</td>\n",
       "    </tr>\n",
       "  </tbody>\n",
       "</table>\n",
       "</div>"
      ],
      "text/plain": [
       "                GP          MIN          PTS          FGM          FGA  \\\n",
       "count  1340.000000  1340.000000  1340.000000  1340.000000  1340.000000   \n",
       "mean     60.414179    17.624627     6.801493     2.629104     5.885299   \n",
       "std      17.433992     8.307964     4.357545     1.683555     3.593488   \n",
       "min      11.000000     3.100000     0.700000     0.300000     0.800000   \n",
       "25%      47.000000    10.875000     3.700000     1.400000     3.300000   \n",
       "50%      63.000000    16.100000     5.550000     2.100000     4.800000   \n",
       "75%      77.000000    22.900000     8.800000     3.400000     7.500000   \n",
       "max      82.000000    40.900000    28.200000    10.200000    19.800000   \n",
       "\n",
       "               FG%      3P Made          3PA          3P%          FTM  \\\n",
       "count  1340.000000  1340.000000  1340.000000  1329.000000  1340.000000   \n",
       "mean     44.169403     0.247612     0.779179    19.308126     1.297687   \n",
       "std       6.137679     0.383688     1.061847    16.022916     0.987246   \n",
       "min      23.800000     0.000000     0.000000     0.000000     0.000000   \n",
       "25%      40.200000     0.000000     0.000000     0.000000     0.600000   \n",
       "50%      44.100000     0.100000     0.300000    22.400000     1.000000   \n",
       "75%      47.900000     0.400000     1.200000    32.500000     1.600000   \n",
       "max      73.700000     2.300000     6.500000   100.000000     7.700000   \n",
       "\n",
       "               FTA          FT%         OREB         DREB          REB  \\\n",
       "count  1340.000000  1340.000000  1340.000000  1340.000000  1340.000000   \n",
       "mean      1.821940    70.300299     1.009403     2.025746     3.034478   \n",
       "std       1.322984    10.578479     0.777119     1.360008     2.057774   \n",
       "min       0.000000     0.000000     0.000000     0.200000     0.300000   \n",
       "25%       0.900000    64.700000     0.400000     1.000000     1.500000   \n",
       "50%       1.500000    71.250000     0.800000     1.700000     2.500000   \n",
       "75%       2.300000    77.600000     1.400000     2.600000     4.000000   \n",
       "max      10.200000   100.000000     5.300000     9.600000    13.900000   \n",
       "\n",
       "               AST          STL          BLK          TOV  TARGET_5Yrs  \n",
       "count  1340.000000  1340.000000  1340.000000  1340.000000  1340.000000  \n",
       "mean      1.550522     0.618507     0.368582     1.193582     0.620149  \n",
       "std       1.471169     0.409759     0.429049     0.722541     0.485531  \n",
       "min       0.000000     0.000000     0.000000     0.100000     0.000000  \n",
       "25%       0.600000     0.300000     0.100000     0.700000     0.000000  \n",
       "50%       1.100000     0.500000     0.200000     1.000000     1.000000  \n",
       "75%       2.000000     0.800000     0.500000     1.500000     1.000000  \n",
       "max      10.600000     2.500000     3.900000     4.400000     1.000000  "
      ]
     },
     "execution_count": 3,
     "metadata": {},
     "output_type": "execute_result"
    }
   ],
   "source": [
    "# visualisation globale très succinte et rapide pour détecter potentielles abérations\n",
    "df.describe()"
   ]
  },
  {
   "cell_type": "markdown",
   "metadata": {
    "pycharm": {
     "name": "#%% md\n"
    }
   },
   "source": [
    "#### Nans"
   ]
  },
  {
   "cell_type": "code",
   "execution_count": 4,
   "metadata": {
    "pycharm": {
     "name": "#%%\n"
    }
   },
   "outputs": [
    {
     "data": {
      "text/html": [
       "<div>\n",
       "<style scoped>\n",
       "    .dataframe tbody tr th:only-of-type {\n",
       "        vertical-align: middle;\n",
       "    }\n",
       "\n",
       "    .dataframe tbody tr th {\n",
       "        vertical-align: top;\n",
       "    }\n",
       "\n",
       "    .dataframe thead th {\n",
       "        text-align: right;\n",
       "    }\n",
       "</style>\n",
       "<table border=\"1\" class=\"dataframe\">\n",
       "  <thead>\n",
       "    <tr style=\"text-align: right;\">\n",
       "      <th></th>\n",
       "      <th>column_name</th>\n",
       "      <th>percent_missing</th>\n",
       "    </tr>\n",
       "  </thead>\n",
       "  <tbody>\n",
       "    <tr>\n",
       "      <th>Name</th>\n",
       "      <td>Name</td>\n",
       "      <td>0.000000</td>\n",
       "    </tr>\n",
       "    <tr>\n",
       "      <th>GP</th>\n",
       "      <td>GP</td>\n",
       "      <td>0.000000</td>\n",
       "    </tr>\n",
       "    <tr>\n",
       "      <th>MIN</th>\n",
       "      <td>MIN</td>\n",
       "      <td>0.000000</td>\n",
       "    </tr>\n",
       "    <tr>\n",
       "      <th>PTS</th>\n",
       "      <td>PTS</td>\n",
       "      <td>0.000000</td>\n",
       "    </tr>\n",
       "    <tr>\n",
       "      <th>FGM</th>\n",
       "      <td>FGM</td>\n",
       "      <td>0.000000</td>\n",
       "    </tr>\n",
       "    <tr>\n",
       "      <th>FGA</th>\n",
       "      <td>FGA</td>\n",
       "      <td>0.000000</td>\n",
       "    </tr>\n",
       "    <tr>\n",
       "      <th>FG%</th>\n",
       "      <td>FG%</td>\n",
       "      <td>0.000000</td>\n",
       "    </tr>\n",
       "    <tr>\n",
       "      <th>3P Made</th>\n",
       "      <td>3P Made</td>\n",
       "      <td>0.000000</td>\n",
       "    </tr>\n",
       "    <tr>\n",
       "      <th>3PA</th>\n",
       "      <td>3PA</td>\n",
       "      <td>0.000000</td>\n",
       "    </tr>\n",
       "    <tr>\n",
       "      <th>3P%</th>\n",
       "      <td>3P%</td>\n",
       "      <td>0.820896</td>\n",
       "    </tr>\n",
       "    <tr>\n",
       "      <th>FTM</th>\n",
       "      <td>FTM</td>\n",
       "      <td>0.000000</td>\n",
       "    </tr>\n",
       "    <tr>\n",
       "      <th>FTA</th>\n",
       "      <td>FTA</td>\n",
       "      <td>0.000000</td>\n",
       "    </tr>\n",
       "    <tr>\n",
       "      <th>FT%</th>\n",
       "      <td>FT%</td>\n",
       "      <td>0.000000</td>\n",
       "    </tr>\n",
       "    <tr>\n",
       "      <th>OREB</th>\n",
       "      <td>OREB</td>\n",
       "      <td>0.000000</td>\n",
       "    </tr>\n",
       "    <tr>\n",
       "      <th>DREB</th>\n",
       "      <td>DREB</td>\n",
       "      <td>0.000000</td>\n",
       "    </tr>\n",
       "    <tr>\n",
       "      <th>REB</th>\n",
       "      <td>REB</td>\n",
       "      <td>0.000000</td>\n",
       "    </tr>\n",
       "    <tr>\n",
       "      <th>AST</th>\n",
       "      <td>AST</td>\n",
       "      <td>0.000000</td>\n",
       "    </tr>\n",
       "    <tr>\n",
       "      <th>STL</th>\n",
       "      <td>STL</td>\n",
       "      <td>0.000000</td>\n",
       "    </tr>\n",
       "    <tr>\n",
       "      <th>BLK</th>\n",
       "      <td>BLK</td>\n",
       "      <td>0.000000</td>\n",
       "    </tr>\n",
       "    <tr>\n",
       "      <th>TOV</th>\n",
       "      <td>TOV</td>\n",
       "      <td>0.000000</td>\n",
       "    </tr>\n",
       "    <tr>\n",
       "      <th>TARGET_5Yrs</th>\n",
       "      <td>TARGET_5Yrs</td>\n",
       "      <td>0.000000</td>\n",
       "    </tr>\n",
       "  </tbody>\n",
       "</table>\n",
       "</div>"
      ],
      "text/plain": [
       "             column_name  percent_missing\n",
       "Name                Name         0.000000\n",
       "GP                    GP         0.000000\n",
       "MIN                  MIN         0.000000\n",
       "PTS                  PTS         0.000000\n",
       "FGM                  FGM         0.000000\n",
       "FGA                  FGA         0.000000\n",
       "FG%                  FG%         0.000000\n",
       "3P Made          3P Made         0.000000\n",
       "3PA                  3PA         0.000000\n",
       "3P%                  3P%         0.820896\n",
       "FTM                  FTM         0.000000\n",
       "FTA                  FTA         0.000000\n",
       "FT%                  FT%         0.000000\n",
       "OREB                OREB         0.000000\n",
       "DREB                DREB         0.000000\n",
       "REB                  REB         0.000000\n",
       "AST                  AST         0.000000\n",
       "STL                  STL         0.000000\n",
       "BLK                  BLK         0.000000\n",
       "TOV                  TOV         0.000000\n",
       "TARGET_5Yrs  TARGET_5Yrs         0.000000"
      ]
     },
     "execution_count": 4,
     "metadata": {},
     "output_type": "execute_result"
    }
   ],
   "source": [
    "percent_missing = df.isnull().sum() * 100 / len(df)\n",
    "missing_value_df = pd.DataFrame({'column_name': df.columns,\n",
    "                                 'percent_missing': percent_missing})\n",
    "\n",
    "missing_value_df\n",
    "\n",
    "# Nans dans les 3P% pour ceux qui ont zero 3P"
   ]
  },
  {
   "cell_type": "code",
   "execution_count": 5,
   "metadata": {
    "pycharm": {
     "name": "#%%\n"
    }
   },
   "outputs": [
    {
     "data": {
      "text/plain": [
       "0       25.0\n",
       "1       23.5\n",
       "2       24.4\n",
       "3       22.6\n",
       "4        0.0\n",
       "        ... \n",
       "1335    14.3\n",
       "1336    16.7\n",
       "1337     0.0\n",
       "1338    10.0\n",
       "1339    33.3\n",
       "Name: 3P%, Length: 1340, dtype: float64"
      ]
     },
     "execution_count": 5,
     "metadata": {},
     "output_type": "execute_result"
    }
   ],
   "source": [
    "imputer = SimpleImputer(strategy=\"constant\", fill_value=0)\n",
    "df[\"3P%\"] = imputer.fit_transform(df[\"3P%\"].to_frame())\n",
    "df[\"3P%\"].astype(\"float64\") #Imputer peut convertir float en objets\n"
   ]
  },
  {
   "cell_type": "code",
   "execution_count": 6,
   "metadata": {
    "pycharm": {
     "name": "#%%\n"
    }
   },
   "outputs": [
    {
     "data": {
      "text/html": [
       "<div>\n",
       "<style scoped>\n",
       "    .dataframe tbody tr th:only-of-type {\n",
       "        vertical-align: middle;\n",
       "    }\n",
       "\n",
       "    .dataframe tbody tr th {\n",
       "        vertical-align: top;\n",
       "    }\n",
       "\n",
       "    .dataframe thead th {\n",
       "        text-align: right;\n",
       "    }\n",
       "</style>\n",
       "<table border=\"1\" class=\"dataframe\">\n",
       "  <thead>\n",
       "    <tr style=\"text-align: right;\">\n",
       "      <th></th>\n",
       "      <th>column_name</th>\n",
       "      <th>percent_missing</th>\n",
       "    </tr>\n",
       "  </thead>\n",
       "  <tbody>\n",
       "    <tr>\n",
       "      <th>Name</th>\n",
       "      <td>Name</td>\n",
       "      <td>0.0</td>\n",
       "    </tr>\n",
       "    <tr>\n",
       "      <th>GP</th>\n",
       "      <td>GP</td>\n",
       "      <td>0.0</td>\n",
       "    </tr>\n",
       "    <tr>\n",
       "      <th>MIN</th>\n",
       "      <td>MIN</td>\n",
       "      <td>0.0</td>\n",
       "    </tr>\n",
       "    <tr>\n",
       "      <th>PTS</th>\n",
       "      <td>PTS</td>\n",
       "      <td>0.0</td>\n",
       "    </tr>\n",
       "    <tr>\n",
       "      <th>FGM</th>\n",
       "      <td>FGM</td>\n",
       "      <td>0.0</td>\n",
       "    </tr>\n",
       "    <tr>\n",
       "      <th>FGA</th>\n",
       "      <td>FGA</td>\n",
       "      <td>0.0</td>\n",
       "    </tr>\n",
       "    <tr>\n",
       "      <th>FG%</th>\n",
       "      <td>FG%</td>\n",
       "      <td>0.0</td>\n",
       "    </tr>\n",
       "    <tr>\n",
       "      <th>3P Made</th>\n",
       "      <td>3P Made</td>\n",
       "      <td>0.0</td>\n",
       "    </tr>\n",
       "    <tr>\n",
       "      <th>3PA</th>\n",
       "      <td>3PA</td>\n",
       "      <td>0.0</td>\n",
       "    </tr>\n",
       "    <tr>\n",
       "      <th>3P%</th>\n",
       "      <td>3P%</td>\n",
       "      <td>0.0</td>\n",
       "    </tr>\n",
       "    <tr>\n",
       "      <th>FTM</th>\n",
       "      <td>FTM</td>\n",
       "      <td>0.0</td>\n",
       "    </tr>\n",
       "    <tr>\n",
       "      <th>FTA</th>\n",
       "      <td>FTA</td>\n",
       "      <td>0.0</td>\n",
       "    </tr>\n",
       "    <tr>\n",
       "      <th>FT%</th>\n",
       "      <td>FT%</td>\n",
       "      <td>0.0</td>\n",
       "    </tr>\n",
       "    <tr>\n",
       "      <th>OREB</th>\n",
       "      <td>OREB</td>\n",
       "      <td>0.0</td>\n",
       "    </tr>\n",
       "    <tr>\n",
       "      <th>DREB</th>\n",
       "      <td>DREB</td>\n",
       "      <td>0.0</td>\n",
       "    </tr>\n",
       "    <tr>\n",
       "      <th>REB</th>\n",
       "      <td>REB</td>\n",
       "      <td>0.0</td>\n",
       "    </tr>\n",
       "    <tr>\n",
       "      <th>AST</th>\n",
       "      <td>AST</td>\n",
       "      <td>0.0</td>\n",
       "    </tr>\n",
       "    <tr>\n",
       "      <th>STL</th>\n",
       "      <td>STL</td>\n",
       "      <td>0.0</td>\n",
       "    </tr>\n",
       "    <tr>\n",
       "      <th>BLK</th>\n",
       "      <td>BLK</td>\n",
       "      <td>0.0</td>\n",
       "    </tr>\n",
       "    <tr>\n",
       "      <th>TOV</th>\n",
       "      <td>TOV</td>\n",
       "      <td>0.0</td>\n",
       "    </tr>\n",
       "    <tr>\n",
       "      <th>TARGET_5Yrs</th>\n",
       "      <td>TARGET_5Yrs</td>\n",
       "      <td>0.0</td>\n",
       "    </tr>\n",
       "  </tbody>\n",
       "</table>\n",
       "</div>"
      ],
      "text/plain": [
       "             column_name  percent_missing\n",
       "Name                Name              0.0\n",
       "GP                    GP              0.0\n",
       "MIN                  MIN              0.0\n",
       "PTS                  PTS              0.0\n",
       "FGM                  FGM              0.0\n",
       "FGA                  FGA              0.0\n",
       "FG%                  FG%              0.0\n",
       "3P Made          3P Made              0.0\n",
       "3PA                  3PA              0.0\n",
       "3P%                  3P%              0.0\n",
       "FTM                  FTM              0.0\n",
       "FTA                  FTA              0.0\n",
       "FT%                  FT%              0.0\n",
       "OREB                OREB              0.0\n",
       "DREB                DREB              0.0\n",
       "REB                  REB              0.0\n",
       "AST                  AST              0.0\n",
       "STL                  STL              0.0\n",
       "BLK                  BLK              0.0\n",
       "TOV                  TOV              0.0\n",
       "TARGET_5Yrs  TARGET_5Yrs              0.0"
      ]
     },
     "execution_count": 6,
     "metadata": {},
     "output_type": "execute_result"
    }
   ],
   "source": [
    "# Nans présents pour seule colonne \"nombre de 3P marqués\".\n",
    "# On fixe à 0 cette valeur quand non présente.\n",
    "\n",
    "imputer = SimpleImputer(strategy=\"constant\", fill_value=0)\n",
    "df[\"3P%\"] = imputer.fit_transform(df[\"3P%\"].to_frame())\n",
    "\n",
    "df[\"3P%\"].astype(\"float64\") #Imputer peut convertir float en objets\n",
    "\n",
    "\n",
    "percent_missing = df.isnull().sum() * 100 / len(df)\n",
    "missing_value_df = pd.DataFrame({'column_name': df.columns,\n",
    "                                 'percent_missing': percent_missing})\n",
    "missing_value_df\n"
   ]
  },
  {
   "cell_type": "markdown",
   "metadata": {
    "pycharm": {
     "name": "#%% md\n"
    }
   },
   "source": [
    "#### Box plot & distribution pour chaque variable\n",
    "\n",
    "permet de détecter des outliers, ce qui servira dans le choix du scaler à utiliser (MinMax, Standard, Robust ...)"
   ]
  },
  {
   "cell_type": "code",
   "execution_count": 7,
   "metadata": {
    "pycharm": {
     "name": "#%%\n"
    }
   },
   "outputs": [
    {
     "data": {
      "image/png": "[encoded data removed]",
      "text/plain": [
       "<Figure size 432x288 with 2 Axes>"
      ]
     },
     "metadata": {
      "needs_background": "light"
     },
     "output_type": "display_data"
    },
    {
     "data": {
      "image/png": "[encoded data removed]",
      "text/plain": [
       "<Figure size 432x288 with 2 Axes>"
      ]
     },
     "metadata": {
      "needs_background": "light"
     },
     "output_type": "display_data"
    },
    {
     "data": {
      "image/png": "[encoded data removed]",
      "text/plain": [
       "<Figure size 432x288 with 2 Axes>"
      ]
     },
     "metadata": {
      "needs_background": "light"
     },
     "output_type": "display_data"
    },
    {
     "data": {
      "image/png": "[encoded data removed]",
      "text/plain": [
       "<Figure size 432x288 with 2 Axes>"
      ]
     },
     "metadata": {
      "needs_background": "light"
     },
     "output_type": "display_data"
    },
    {
     "data": {
      "image/png": "[encoded data removed]",
      "text/plain": [
       "<Figure size 432x288 with 2 Axes>"
      ]
     },
     "metadata": {
      "needs_background": "light"
     },
     "output_type": "display_data"
    },
    {
     "data": {
      "image/png": "[encoded data removed]",
      "text/plain": [
       "<Figure size 432x288 with 2 Axes>"
      ]
     },
     "metadata": {
      "needs_background": "light"
     },
     "output_type": "display_data"
    },
    {
     "data": {
      "image/png": "[encoded data removed]",
      "text/plain": [
       "<Figure size 432x288 with 2 Axes>"
      ]
     },
     "metadata": {
      "needs_background": "light"
     },
     "output_type": "display_data"
    },
    {
     "data": {
      "image/png": "[encoded data removed]",
      "text/plain": [
       "<Figure size 432x288 with 2 Axes>"
      ]
     },
     "metadata": {
      "needs_background": "light"
     },
     "output_type": "display_data"
    },
    {
     "data": {
      "image/png": "[encoded data removed]",
      "text/plain": [
       "<Figure size 432x288 with 2 Axes>"
      ]
     },
     "metadata": {
      "needs_background": "light"
     },
     "output_type": "display_data"
    },
    {
     "data": {
      "image/png": "[encoded data removed]",
      "text/plain": [
       "<Figure size 432x288 with 2 Axes>"
      ]
     },
     "metadata": {
      "needs_background": "light"
     },
     "output_type": "display_data"
    },
    {
     "data": {
      "image/png": "[encoded data removed]",
      "text/plain": [
       "<Figure size 432x288 with 2 Axes>"
      ]
     },
     "metadata": {
      "needs_background": "light"
     },
     "output_type": "display_data"
    },
    {
     "data": {
      "image/png": "[encoded data removed]",
      "text/plain": [
       "<Figure size 432x288 with 2 Axes>"
      ]
     },
     "metadata": {
      "needs_background": "light"
     },
     "output_type": "display_data"
    },
    {
     "data": {
      "image/png": "[encoded data removed]",
      "text/plain": [
       "<Figure size 432x288 with 2 Axes>"
      ]
     },
     "metadata": {
      "needs_background": "light"
     },
     "output_type": "display_data"
    },
    {
     "data": {
      "image/png": "[encoded data removed]",
      "text/plain": [
       "<Figure size 432x288 with 2 Axes>"
      ]
     },
     "metadata": {
      "needs_background": "light"
     },
     "output_type": "display_data"
    },
    {
     "data": {
      "image/png": "[encoded data removed]",
      "text/plain": [
       "<Figure size 432x288 with 2 Axes>"
      ]
     },
     "metadata": {
      "needs_background": "light"
     },
     "output_type": "display_data"
    },
    {
     "data": {
      "image/png": "[encoded data removed]",
      "text/plain": [
       "<Figure size 432x288 with 2 Axes>"
      ]
     },
     "metadata": {
      "needs_background": "light"
     },
     "output_type": "display_data"
    },
    {
     "data": {
      "image/png": "[encoded data removed]",
      "text/plain": [
       "<Figure size 432x288 with 2 Axes>"
      ]
     },
     "metadata": {
      "needs_background": "light"
     },
     "output_type": "display_data"
    },
    {
     "data": {
      "image/png": "[encoded data removed]",
      "text/plain": [
       "<Figure size 432x288 with 2 Axes>"
      ]
     },
     "metadata": {
      "needs_background": "light"
     },
     "output_type": "display_data"
    },
    {
     "data": {
      "image/png": "[encoded data removed]",
      "text/plain": [
       "<Figure size 432x288 with 2 Axes>"
      ]
     },
     "metadata": {
      "needs_background": "light"
     },
     "output_type": "display_data"
    },
    {
     "data": {
      "image/png": "[encoded data removed]",
      "text/plain": [
       "<Figure size 432x288 with 2 Axes>"
      ]
     },
     "metadata": {
      "needs_background": "light"
     },
     "output_type": "display_data"
    }
   ],
   "source": [
    "for column in df.select_dtypes(include=np.number).columns.to_list():\n",
    "    plt.figure()\n",
    "    plt.subplot(1,2,1)\n",
    "    plt.boxplot(df[column])\n",
    "    plt.title(f\"boxplot {column}\")\n",
    "\n",
    "    plt.subplot(1,2,2)\n",
    "    plt.hist(df[column])\n",
    "    plt.title(f\"distribution {column}\")\n",
    "\n",
    "plt.show()"
   ]
  },
  {
   "cell_type": "markdown",
   "metadata": {
    "pycharm": {
     "name": "#%% md\n"
    }
   },
   "source": [
    "distributions vraisemblables. Pas d'outliers détectés. Le scaler MinMax sera utilisé pour l'apprentissage"
   ]
  },
  {
   "cell_type": "markdown",
   "metadata": {
    "pycharm": {
     "name": "#%% md\n"
    }
   },
   "source": [
    "#### Equilibrage du dataset\n",
    "\n",
    "Il faut vérifier que le dataset est équilibré (classes target 0 et 1 a peu près équivalentes en terme de population)"
   ]
  },
  {
   "cell_type": "code",
   "execution_count": 8,
   "metadata": {
    "pycharm": {
     "name": "#%%\n"
    }
   },
   "outputs": [
    {
     "data": {
      "image/png": "[encoded data removed]",
      "text/plain": [
       "<Figure size 432x288 with 1 Axes>"
      ]
     },
     "metadata": {
      "needs_background": "light"
     },
     "output_type": "display_data"
    },
    {
     "name": "stdout",
     "output_type": "stream",
     "text": [
      "1.0    831\n",
      "0.0    509\n",
      "Name: TARGET_5Yrs, dtype: int64\n"
     ]
    }
   ],
   "source": [
    "import seaborn as sns\n",
    "sns.countplot(x='TARGET_5Yrs', data=df)\n",
    "plt.title(\"Distribution variable TARGET\")\n",
    "plt.show()\n",
    "print(df[\"TARGET_5Yrs\"].value_counts())"
   ]
  },
  {
   "cell_type": "markdown",
   "metadata": {
    "pycharm": {
     "name": "#%% md\n"
    }
   },
   "source": [
    "OK, classes à peu près équivalentes (dataset considéré déséquilibré quand une des classes représente moins de 25% de la population totale)"
   ]
  },
  {
   "cell_type": "markdown",
   "metadata": {
    "pycharm": {
     "name": "#%% md\n"
    }
   },
   "source": [
    "### Fonction de Scoring\n",
    "\n",
    "Quelle métrique de scoring allons-nous utiliser pour déterminer les performances de notre modèle ? souhaitons-nous maximiser l'accuracy, la précision, le rappel, le f1 score ?\n",
    "\n",
    "Afin de répondre à cette question il faut s'intéresser à notre objectif final.\n",
    "\n",
    "Des investisseurs souhaitent connaître les futurs talents sur lesquels investir.\n",
    "Tout est une question d'argent. Quel est le coût d'un joueur sur lequel on a investi, qui part tôt de la NBA (faux positif) ? quel est le coût d'un faux négatif, que rapporte un vrai positif ?\n",
    "\n",
    "Cette question devrait en condition réelle être longuement étudiée. Est ce que le retour sur investissement 1:1 est atteint au bout de 5 ans ?\n",
    "\n",
    "Dans le doute sur cette question, je préfère utiliser le F1 score, qui fait l'équilibre entre la précision et le rappel. De plus, il y a un très léger déséquilibre dans les classes (37% de négatifs seulement) ce qui penche en faveur de l'utilisation simultanée de la précision et du rappel.\n",
    "\n",
    "\n",
    "\n",
    "\n",
    "\n",
    "\n",
    "\n"
   ]
  },
  {
   "cell_type": "markdown",
   "metadata": {
    "pycharm": {
     "name": "#%% md\n"
    }
   },
   "source": [
    "### Préparation du dataset pour détermination du modèle"
   ]
  },
  {
   "cell_type": "code",
   "execution_count": 9,
   "metadata": {
    "pycharm": {
     "name": "#%%\n"
    }
   },
   "outputs": [],
   "source": [
    "from sklearn.model_selection import train_test_split\n",
    "\n",
    "X = df.drop([\"TARGET_5Yrs\", \"Name\"], axis = 1)\n",
    "y = df[\"TARGET_5Yrs\"]\n",
    "y = y.astype(int)\n",
    "\n",
    "X_train, X_test, y_train, y_test = train_test_split(X, y, test_size=0.25, random_state=4, shuffle=True)\n",
    "\n",
    "scaler = MinMaxScaler()\n",
    "\n",
    "scaler.fit(X_train)\n",
    "X_train = scaler.transform(X_train)\n",
    "X_test = scaler.transform(X_test)"
   ]
  },
  {
   "cell_type": "code",
   "execution_count": 10,
   "metadata": {},
   "outputs": [],
   "source": [
    "# enregistrement du scaler\n",
    "pickle.dump(scaler, open(\"scaler_MinMax\", \"wb\"))"
   ]
  },
  {
   "cell_type": "markdown",
   "metadata": {
    "pycharm": {
     "name": "#%% md\n"
    }
   },
   "source": [
    "### F1 score Algortihme Naïf\n",
    "\n",
    "#### Dummy classifier\n",
    "\n",
    " Nous savons qu'un modèle qui prédit toujours la même classe majoritaire, possède un f1 score maximum de 2*p / (p+1), où p est la proportion de positifs dans notre échantillon. Ici cette valeur vaut 0.78.\n"
   ]
  },
  {
   "cell_type": "markdown",
   "metadata": {
    "pycharm": {
     "name": "#%% md\n"
    }
   },
   "source": [
    "**Vérification**"
   ]
  },
  {
   "cell_type": "code",
   "execution_count": 10,
   "metadata": {
    "pycharm": {
     "name": "#%%\n"
    }
   },
   "outputs": [
    {
     "data": {
      "text/plain": [
       "0.7818181818181819"
      ]
     },
     "execution_count": 10,
     "metadata": {},
     "output_type": "execute_result"
    }
   ],
   "source": [
    "p = y_test.value_counts()[1] / y_test.count()\n",
    "2*p / (p+1)"
   ]
  },
  {
   "cell_type": "code",
   "execution_count": 11,
   "metadata": {
    "pycharm": {
     "name": "#%%\n"
    }
   },
   "outputs": [
    {
     "data": {
      "text/plain": [
       "0.7818181818181819"
      ]
     },
     "execution_count": 11,
     "metadata": {},
     "output_type": "execute_result"
    }
   ],
   "source": [
    "from sklearn.dummy import DummyClassifier\n",
    "from sklearn.metrics import f1_score\n",
    "naivemodel = DummyClassifier()\n",
    "naivemodel.fit(X_train, y_train)\n",
    "f1_score(y_test, naivemodel.predict(X_test))"
   ]
  },
  {
   "cell_type": "markdown",
   "metadata": {
    "pycharm": {
     "name": "#%% md\n"
    }
   },
   "source": [
    "#### Naive bayes classifier\n",
    "estimation avec un autre algorithme naif"
   ]
  },
  {
   "cell_type": "code",
   "execution_count": 49,
   "metadata": {
    "pycharm": {
     "name": "#%%\n"
    }
   },
   "outputs": [
    {
     "data": {
      "text/plain": [
       "0.6610169491525425"
      ]
     },
     "execution_count": 49,
     "metadata": {},
     "output_type": "execute_result"
    }
   ],
   "source": [
    "from sklearn.naive_bayes import GaussianNB\n",
    "\n",
    "model_naive_bayes = GaussianNB()\n",
    "\n",
    "model_naive_bayes.fit(X_train, y_train)\n",
    "\n",
    "f1_score(y_test, model_naive_bayes.predict(X_test))"
   ]
  },
  {
   "cell_type": "markdown",
   "metadata": {
    "pycharm": {
     "name": "#%% md\n"
    }
   },
   "source": [
    "Le score du naive bayes classifier est bien mons bon que le dummy classifier. Cela peut etre du a la grande corrélation (dépendance) des variables entre elles. En effet l'utilisation du naive bayes classifier présuppose l'indépendance des variables entre elles."
   ]
  },
  {
   "cell_type": "code",
   "execution_count": 50,
   "metadata": {
    "pycharm": {
     "name": "#%%\n"
    }
   },
   "outputs": [
    {
     "data": {
      "text/plain": [
       "array([0, 0, 0, 0, 1, 0, 0, 0, 0, 1, 0, 1, 1, 1, 1, 1, 1, 0, 0, 0, 0, 1,\n",
       "       0, 0, 0, 0, 1, 1, 0, 1, 0, 0, 0, 1, 0, 1, 0, 0, 1, 0, 1, 1, 0, 0,\n",
       "       0, 1, 1, 0, 0, 0, 1, 0, 0, 0, 0, 0, 1, 0, 1, 0, 1, 0, 1, 0, 1, 1,\n",
       "       1, 1, 0, 0, 1, 1, 0, 0, 0, 0, 1, 0, 1, 0, 0, 0, 1, 1, 1, 1, 0, 1,\n",
       "       1, 0, 1, 0, 1, 0, 0, 1, 0, 1, 1, 1, 0, 0, 1, 0, 0, 1, 1, 1, 1, 0,\n",
       "       0, 0, 1, 0, 1, 1, 0, 0, 1, 0, 0, 0, 0, 0, 0, 1, 0, 1, 0, 1, 1, 0,\n",
       "       1, 0, 1, 0, 0, 1, 0, 1, 1, 0, 0, 0, 0, 0, 1, 0, 0, 1, 0, 0, 1, 1,\n",
       "       0, 1, 0, 1, 0, 1, 1, 0, 0, 0, 1, 1, 0, 0, 1, 0, 1, 1, 1, 0, 1, 1,\n",
       "       0, 0, 0, 0, 0, 1, 0, 0, 1, 0, 1, 1, 1, 1, 0, 1, 1, 0, 0, 0, 1, 1,\n",
       "       0, 0, 1, 0, 0, 1, 0, 1, 1, 0, 1, 0, 1, 1, 0, 0, 0, 0, 1, 0, 1, 0,\n",
       "       1, 1, 0, 1, 1, 0, 1, 0, 0, 1, 0, 0, 0, 0, 0, 1, 0, 0, 1, 1, 0, 1,\n",
       "       0, 0, 1, 0, 1, 0, 0, 0, 0, 0, 1, 1, 1, 0, 1, 0, 0, 1, 1, 1, 1, 1,\n",
       "       0, 1, 1, 0, 1, 0, 0, 0, 1, 0, 1, 0, 0, 0, 0, 0, 0, 0, 0, 1, 0, 1,\n",
       "       0, 0, 0, 0, 0, 1, 1, 0, 0, 0, 0, 1, 1, 0, 1, 0, 1, 0, 0, 0, 0, 1,\n",
       "       1, 0, 0, 1, 0, 1, 0, 1, 0, 0, 0, 0, 0, 0, 0, 0, 1, 0, 1, 0, 0, 0,\n",
       "       0, 0, 0, 0, 1])"
      ]
     },
     "execution_count": 50,
     "metadata": {},
     "output_type": "execute_result"
    }
   ],
   "source": [
    "model_naive_bayes.predict(X_test)"
   ]
  },
  {
   "cell_type": "markdown",
   "metadata": {
    "pycharm": {
     "name": "#%% md\n"
    }
   },
   "source": [
    "### Régression logistique\n",
    "\n",
    "Recherche des meilleurs paramètres d'une régression logistique à l'aide d'un grid search\n",
    "\n"
   ]
  },
  {
   "cell_type": "code",
   "execution_count": 12,
   "metadata": {
    "pycharm": {
     "name": "#%%\n"
    }
   },
   "outputs": [
    {
     "name": "stdout",
     "output_type": "stream",
     "text": [
      "Fitting 4 folds for each of 30 candidates, totalling 120 fits\n",
      "[CV 1/4] END ..........................C=0.0001;, score=0.759 total time=   0.0s\n",
      "[CV 2/4] END ..........................C=0.0001;, score=0.760 total time=   0.0s\n",
      "[CV 3/4] END ..........................C=0.0001;, score=0.760 total time=   0.0s\n",
      "[CV 4/4] END ..........................C=0.0001;, score=0.760 total time=   0.0s\n",
      "[CV 1/4] END ..........C=0.00018873918221350977;, score=0.759 total time=   0.0s\n",
      "[CV 2/4] END ..........C=0.00018873918221350977;, score=0.760 total time=   0.0s\n",
      "[CV 3/4] END ..........C=0.00018873918221350977;, score=0.760 total time=   0.0s\n",
      "[CV 4/4] END ..........C=0.00018873918221350977;, score=0.760 total time=   0.0s\n",
      "[CV 1/4] END ...........C=0.0003562247890262444;, score=0.759 total time=   0.0s\n",
      "[CV 2/4] END ...........C=0.0003562247890262444;, score=0.760 total time=   0.0s\n",
      "[CV 3/4] END ...........C=0.0003562247890262444;, score=0.760 total time=   0.0s\n",
      "[CV 4/4] END ...........C=0.0003562247890262444;, score=0.760 total time=   0.0s\n",
      "[CV 1/4] END ...........C=0.0006723357536499335;, score=0.759 total time=   0.0s\n",
      "[CV 2/4] END ...........C=0.0006723357536499335;, score=0.760 total time=   0.0s\n",
      "[CV 3/4] END ...........C=0.0006723357536499335;, score=0.760 total time=   0.0s\n",
      "[CV 4/4] END ...........C=0.0006723357536499335;, score=0.760 total time=   0.0s\n",
      "[CV 1/4] END ...........C=0.0012689610031679222;, score=0.759 total time=   0.0s\n",
      "[CV 2/4] END ...........C=0.0012689610031679222;, score=0.760 total time=   0.0s\n",
      "[CV 3/4] END ...........C=0.0012689610031679222;, score=0.760 total time=   0.0s\n",
      "[CV 4/4] END ...........C=0.0012689610031679222;, score=0.760 total time=   0.0s\n",
      "[CV 1/4] END ............C=0.002395026619987486;, score=0.759 total time=   0.0s\n",
      "[CV 2/4] END ............C=0.002395026619987486;, score=0.760 total time=   0.0s\n",
      "[CV 3/4] END ............C=0.002395026619987486;, score=0.760 total time=   0.0s\n",
      "[CV 4/4] END ............C=0.002395026619987486;, score=0.760 total time=   0.0s\n",
      "[CV 1/4] END ............C=0.004520353656360241;, score=0.759 total time=   0.0s\n",
      "[CV 2/4] END ............C=0.004520353656360241;, score=0.760 total time=   0.0s\n",
      "[CV 3/4] END ............C=0.004520353656360241;, score=0.760 total time=   0.0s\n",
      "[CV 4/4] END ............C=0.004520353656360241;, score=0.760 total time=   0.0s\n",
      "[CV 1/4] END ............C=0.008531678524172805;, score=0.759 total time=   0.0s\n",
      "[CV 2/4] END ............C=0.008531678524172805;, score=0.760 total time=   0.0s\n",
      "[CV 3/4] END ............C=0.008531678524172805;, score=0.760 total time=   0.0s\n",
      "[CV 4/4] END ............C=0.008531678524172805;, score=0.760 total time=   0.0s\n",
      "[CV 1/4] END .............C=0.01610262027560939;, score=0.755 total time=   0.0s\n",
      "[CV 2/4] END .............C=0.01610262027560939;, score=0.768 total time=   0.0s\n",
      "[CV 3/4] END .............C=0.01610262027560939;, score=0.754 total time=   0.0s\n",
      "[CV 4/4] END .............C=0.01610262027560939;, score=0.773 total time=   0.0s\n",
      "[CV 1/4] END .............C=0.03039195382313198;, score=0.744 total time=   0.0s\n",
      "[CV 2/4] END .............C=0.03039195382313198;, score=0.777 total time=   0.0s\n",
      "[CV 3/4] END .............C=0.03039195382313198;, score=0.776 total time=   0.0s\n",
      "[CV 4/4] END .............C=0.03039195382313198;, score=0.773 total time=   0.0s\n",
      "[CV 1/4] END .............C=0.05736152510448681;, score=0.748 total time=   0.0s\n",
      "[CV 2/4] END .............C=0.05736152510448681;, score=0.797 total time=   0.0s\n",
      "[CV 3/4] END .............C=0.05736152510448681;, score=0.774 total time=   0.0s\n",
      "[CV 4/4] END .............C=0.05736152510448681;, score=0.777 total time=   0.0s\n",
      "[CV 1/4] END ..............C=0.1082636733874054;, score=0.743 total time=   0.0s\n",
      "[CV 2/4] END ..............C=0.1082636733874054;, score=0.789 total time=   0.0s\n",
      "[CV 3/4] END ..............C=0.1082636733874054;, score=0.779 total time=   0.0s\n",
      "[CV 4/4] END ..............C=0.1082636733874054;, score=0.768 total time=   0.0s\n",
      "[CV 1/4] END .............C=0.20433597178569418;, score=0.744 total time=   0.0s\n",
      "[CV 2/4] END .............C=0.20433597178569418;, score=0.789 total time=   0.0s\n",
      "[CV 3/4] END .............C=0.20433597178569418;, score=0.773 total time=   0.0s\n",
      "[CV 4/4] END .............C=0.20433597178569418;, score=0.775 total time=   0.0s\n",
      "[CV 1/4] END .............C=0.38566204211634725;, score=0.748 total time=   0.0s\n",
      "[CV 2/4] END .............C=0.38566204211634725;, score=0.787 total time=   0.0s\n",
      "[CV 3/4] END .............C=0.38566204211634725;, score=0.774 total time=   0.0s\n",
      "[CV 4/4] END .............C=0.38566204211634725;, score=0.786 total time=   0.0s\n",
      "[CV 1/4] END ..............C=0.7278953843983146;, score=0.750 total time=   0.0s\n",
      "[CV 2/4] END ..............C=0.7278953843983146;, score=0.788 total time=   0.0s\n",
      "[CV 3/4] END ..............C=0.7278953843983146;, score=0.774 total time=   0.0s\n",
      "[CV 4/4] END ..............C=0.7278953843983146;, score=0.790 total time=   0.0s\n",
      "[CV 1/4] END ..............C=1.3738237958832638;, score=0.749 total time=   0.0s\n",
      "[CV 2/4] END ..............C=1.3738237958832638;, score=0.788 total time=   0.0s\n",
      "[CV 3/4] END ..............C=1.3738237958832638;, score=0.777 total time=   0.0s\n",
      "[CV 4/4] END ..............C=1.3738237958832638;, score=0.791 total time=   0.0s\n",
      "[CV 1/4] END ...............C=2.592943797404667;, score=0.749 total time=   0.0s\n",
      "[CV 2/4] END ...............C=2.592943797404667;, score=0.788 total time=   0.0s\n",
      "[CV 3/4] END ...............C=2.592943797404667;, score=0.769 total time=   0.0s\n",
      "[CV 4/4] END ...............C=2.592943797404667;, score=0.792 total time=   0.0s\n",
      "[CV 1/4] END ...............C=4.893900918477489;, score=0.746 total time=   0.0s\n",
      "[CV 2/4] END ...............C=4.893900918477489;, score=0.781 total time=   0.0s\n",
      "[CV 3/4] END ...............C=4.893900918477489;, score=0.763 total time=   0.0s\n",
      "[CV 4/4] END ...............C=4.893900918477489;, score=0.785 total time=   0.0s\n",
      "[CV 1/4] END ...............C=9.236708571873866;, score=0.746 total time=   0.0s\n",
      "[CV 2/4] END ...............C=9.236708571873866;, score=0.781 total time=   0.0s\n",
      "[CV 3/4] END ...............C=9.236708571873866;, score=0.772 total time=   0.0s\n",
      "[CV 4/4] END ...............C=9.236708571873866;, score=0.785 total time=   0.0s\n",
      "[CV 1/4] END ..............C=17.433288221999874;, score=0.751 total time=   0.0s\n",
      "[CV 2/4] END ..............C=17.433288221999874;, score=0.785 total time=   0.0s\n",
      "[CV 3/4] END ..............C=17.433288221999874;, score=0.765 total time=   0.0s\n",
      "[CV 4/4] END ..............C=17.433288221999874;, score=0.785 total time=   0.0s\n",
      "[CV 1/4] END ...............C=32.90344562312671;, score=0.750 total time=   0.0s\n",
      "[CV 2/4] END ...............C=32.90344562312671;, score=0.794 total time=   0.0s\n",
      "[CV 3/4] END ...............C=32.90344562312671;, score=0.761 total time=   0.0s\n",
      "[CV 4/4] END ...............C=32.90344562312671;, score=0.785 total time=   0.0s\n",
      "[CV 1/4] END ...............C=62.10169418915616;, score=0.750 total time=   0.0s\n",
      "[CV 2/4] END ...............C=62.10169418915616;, score=0.789 total time=   0.0s\n",
      "[CV 3/4] END ...............C=62.10169418915616;, score=0.758 total time=   0.0s\n",
      "[CV 4/4] END ...............C=62.10169418915616;, score=0.787 total time=   0.0s\n",
      "[CV 1/4] END ..............C=117.21022975334793;, score=0.746 total time=   0.0s\n",
      "[CV 2/4] END ..............C=117.21022975334793;, score=0.789 total time=   0.0s\n",
      "[CV 3/4] END ..............C=117.21022975334793;, score=0.758 total time=   0.0s\n",
      "[CV 4/4] END ..............C=117.21022975334793;, score=0.785 total time=   0.0s\n",
      "[CV 1/4] END ..............C=221.22162910704503;, score=0.746 total time=   0.0s\n",
      "[CV 2/4] END ..............C=221.22162910704503;, score=0.785 total time=   0.0s\n",
      "[CV 3/4] END ..............C=221.22162910704503;, score=0.756 total time=   0.0s\n",
      "[CV 4/4] END ..............C=221.22162910704503;, score=0.778 total time=   0.0s\n",
      "[CV 1/4] END ..............C=417.53189365604004;, score=0.751 total time=   0.0s\n",
      "[CV 2/4] END ..............C=417.53189365604004;, score=0.785 total time=   0.0s\n",
      "[CV 3/4] END ..............C=417.53189365604004;, score=0.756 total time=   0.0s\n",
      "[CV 4/4] END ..............C=417.53189365604004;, score=0.776 total time=   0.0s\n",
      "[CV 1/4] END ...............C=788.0462815669904;, score=0.751 total time=   0.0s\n",
      "[CV 2/4] END ...............C=788.0462815669904;, score=0.785 total time=   0.0s\n",
      "[CV 3/4] END ...............C=788.0462815669904;, score=0.758 total time=   0.0s\n",
      "[CV 4/4] END ...............C=788.0462815669904;, score=0.776 total time=   0.0s\n",
      "[CV 1/4] END ..............C=1487.3521072935118;, score=0.751 total time=   0.0s\n",
      "[CV 2/4] END ..............C=1487.3521072935118;, score=0.785 total time=   0.0s\n",
      "[CV 3/4] END ..............C=1487.3521072935118;, score=0.758 total time=   0.0s\n",
      "[CV 4/4] END ..............C=1487.3521072935118;, score=0.776 total time=   0.0s\n",
      "[CV 1/4] END ..............C=2807.2162039411755;, score=0.749 total time=   0.0s\n",
      "[CV 2/4] END ..............C=2807.2162039411755;, score=0.785 total time=   0.0s\n",
      "[CV 3/4] END ..............C=2807.2162039411755;, score=0.762 total time=   0.0s\n",
      "[CV 4/4] END ..............C=2807.2162039411755;, score=0.775 total time=   0.0s\n",
      "[CV 1/4] END ...............C=5298.316906283702;, score=0.751 total time=   0.0s\n",
      "[CV 2/4] END ...............C=5298.316906283702;, score=0.785 total time=   0.0s\n",
      "[CV 3/4] END ...............C=5298.316906283702;, score=0.765 total time=   0.0s\n",
      "[CV 4/4] END ...............C=5298.316906283702;, score=0.777 total time=   0.0s\n",
      "[CV 1/4] END .........................C=10000.0;, score=0.751 total time=   0.0s\n",
      "[CV 2/4] END .........................C=10000.0;, score=0.785 total time=   0.0s\n",
      "[CV 3/4] END .........................C=10000.0;, score=0.762 total time=   0.0s\n",
      "[CV 4/4] END .........................C=10000.0;, score=0.777 total time=   0.0s\n"
     ]
    },
    {
     "data": {
      "text/html": [
       "<style>#sk-container-id-1 {color: black;background-color: white;}#sk-container-id-1 pre{padding: 0;}#sk-container-id-1 div.sk-toggleable {background-color: white;}#sk-container-id-1 label.sk-toggleable__label {cursor: pointer;display: block;width: 100%;margin-bottom: 0;padding: 0.3em;box-sizing: border-box;text-align: center;}#sk-container-id-1 label.sk-toggleable__label-arrow:before {content: \"▸\";float: left;margin-right: 0.25em;color: #696969;}#sk-container-id-1 label.sk-toggleable__label-arrow:hover:before {color: black;}#sk-container-id-1 div.sk-estimator:hover label.sk-toggleable__label-arrow:before {color: black;}#sk-container-id-1 div.sk-toggleable__content {max-height: 0;max-width: 0;overflow: hidden;text-align: left;background-color: #f0f8ff;}#sk-container-id-1 div.sk-toggleable__content pre {margin: 0.2em;color: black;border-radius: 0.25em;background-color: #f0f8ff;}#sk-container-id-1 input.sk-toggleable__control:checked~div.sk-toggleable__content {max-height: 200px;max-width: 100%;overflow: auto;}#sk-container-id-1 input.sk-toggleable__control:checked~label.sk-toggleable__label-arrow:before {content: \"▾\";}#sk-container-id-1 div.sk-estimator input.sk-toggleable__control:checked~label.sk-toggleable__label {background-color: #d4ebff;}#sk-container-id-1 div.sk-label input.sk-toggleable__control:checked~label.sk-toggleable__label {background-color: #d4ebff;}#sk-container-id-1 input.sk-hidden--visually {border: 0;clip: rect(1px 1px 1px 1px);clip: rect(1px, 1px, 1px, 1px);height: 1px;margin: -1px;overflow: hidden;padding: 0;position: absolute;width: 1px;}#sk-container-id-1 div.sk-estimator {font-family: monospace;background-color: #f0f8ff;border: 1px dotted black;border-radius: 0.25em;box-sizing: border-box;margin-bottom: 0.5em;}#sk-container-id-1 div.sk-estimator:hover {background-color: #d4ebff;}#sk-container-id-1 div.sk-parallel-item::after {content: \"\";width: 100%;border-bottom: 1px solid gray;flex-grow: 1;}#sk-container-id-1 div.sk-label:hover label.sk-toggleable__label {background-color: #d4ebff;}#sk-container-id-1 div.sk-serial::before {content: \"\";position: absolute;border-left: 1px solid gray;box-sizing: border-box;top: 0;bottom: 0;left: 50%;z-index: 0;}#sk-container-id-1 div.sk-serial {display: flex;flex-direction: column;align-items: center;background-color: white;padding-right: 0.2em;padding-left: 0.2em;position: relative;}#sk-container-id-1 div.sk-item {position: relative;z-index: 1;}#sk-container-id-1 div.sk-parallel {display: flex;align-items: stretch;justify-content: center;background-color: white;position: relative;}#sk-container-id-1 div.sk-item::before, #sk-container-id-1 div.sk-parallel-item::before {content: \"\";position: absolute;border-left: 1px solid gray;box-sizing: border-box;top: 0;bottom: 0;left: 50%;z-index: -1;}#sk-container-id-1 div.sk-parallel-item {display: flex;flex-direction: column;z-index: 1;position: relative;background-color: white;}#sk-container-id-1 div.sk-parallel-item:first-child::after {align-self: flex-end;width: 50%;}#sk-container-id-1 div.sk-parallel-item:last-child::after {align-self: flex-start;width: 50%;}#sk-container-id-1 div.sk-parallel-item:only-child::after {width: 0;}#sk-container-id-1 div.sk-dashed-wrapped {border: 1px dashed gray;margin: 0 0.4em 0.5em 0.4em;box-sizing: border-box;padding-bottom: 0.4em;background-color: white;}#sk-container-id-1 div.sk-label label {font-family: monospace;font-weight: bold;display: inline-block;line-height: 1.2em;}#sk-container-id-1 div.sk-label-container {text-align: center;}#sk-container-id-1 div.sk-container {/* jupyter's `normalize.less` sets `[hidden] { display: none; }` but bootstrap.min.css set `[hidden] { display: none !important; }` so we also need the `!important` here to be able to override the default hidden behavior on the sphinx rendered scikit-learn.org. See: https://github.com/scikit-learn/scikit-learn/issues/21755 */display: inline-block !important;position: relative;}#sk-container-id-1 div.sk-text-repr-fallback {display: none;}</style><div id=\"sk-container-id-1\" class=\"sk-top-container\"><div class=\"sk-text-repr-fallback\"><pre>GridSearchCV(cv=StratifiedKFold(n_splits=4, random_state=27, shuffle=True),\n",
       "             estimator=LogisticRegression(), n_jobs=1,\n",
       "             param_grid={&#x27;C&#x27;: array([1.00000000e-04, 1.88739182e-04, 3.56224789e-04, 6.72335754e-04,\n",
       "       1.26896100e-03, 2.39502662e-03, 4.52035366e-03, 8.53167852e-03,\n",
       "       1.61026203e-02, 3.03919538e-02, 5.73615251e-02, 1.08263673e-01,\n",
       "       2.04335972e-01, 3.85662042e-01, 7.27895384e-01, 1.37382380e+00,\n",
       "       2.59294380e+00, 4.89390092e+00, 9.23670857e+00, 1.74332882e+01,\n",
       "       3.29034456e+01, 6.21016942e+01, 1.17210230e+02, 2.21221629e+02,\n",
       "       4.17531894e+02, 7.88046282e+02, 1.48735211e+03, 2.80721620e+03,\n",
       "       5.29831691e+03, 1.00000000e+04])},\n",
       "             scoring=&#x27;f1&#x27;, verbose=3)</pre><b>In a Jupyter environment, please rerun this cell to show the HTML representation or trust the notebook. <br />On GitHub, the HTML representation is unable to render, please try loading this page with nbviewer.org.</b></div><div class=\"sk-container\" hidden><div class=\"sk-item sk-dashed-wrapped\"><div class=\"sk-label-container\"><div class=\"sk-label sk-toggleable\"><input class=\"sk-toggleable__control sk-hidden--visually\" id=\"sk-estimator-id-1\" type=\"checkbox\" ><label for=\"sk-estimator-id-1\" class=\"sk-toggleable__label sk-toggleable__label-arrow\">GridSearchCV</label><div class=\"sk-toggleable__content\"><pre>GridSearchCV(cv=StratifiedKFold(n_splits=4, random_state=27, shuffle=True),\n",
       "             estimator=LogisticRegression(), n_jobs=1,\n",
       "             param_grid={&#x27;C&#x27;: array([1.00000000e-04, 1.88739182e-04, 3.56224789e-04, 6.72335754e-04,\n",
       "       1.26896100e-03, 2.39502662e-03, 4.52035366e-03, 8.53167852e-03,\n",
       "       1.61026203e-02, 3.03919538e-02, 5.73615251e-02, 1.08263673e-01,\n",
       "       2.04335972e-01, 3.85662042e-01, 7.27895384e-01, 1.37382380e+00,\n",
       "       2.59294380e+00, 4.89390092e+00, 9.23670857e+00, 1.74332882e+01,\n",
       "       3.29034456e+01, 6.21016942e+01, 1.17210230e+02, 2.21221629e+02,\n",
       "       4.17531894e+02, 7.88046282e+02, 1.48735211e+03, 2.80721620e+03,\n",
       "       5.29831691e+03, 1.00000000e+04])},\n",
       "             scoring=&#x27;f1&#x27;, verbose=3)</pre></div></div></div><div class=\"sk-parallel\"><div class=\"sk-parallel-item\"><div class=\"sk-item\"><div class=\"sk-label-container\"><div class=\"sk-label sk-toggleable\"><input class=\"sk-toggleable__control sk-hidden--visually\" id=\"sk-estimator-id-2\" type=\"checkbox\" ><label for=\"sk-estimator-id-2\" class=\"sk-toggleable__label sk-toggleable__label-arrow\">estimator: LogisticRegression</label><div class=\"sk-toggleable__content\"><pre>LogisticRegression()</pre></div></div></div><div class=\"sk-serial\"><div class=\"sk-item\"><div class=\"sk-estimator sk-toggleable\"><input class=\"sk-toggleable__control sk-hidden--visually\" id=\"sk-estimator-id-3\" type=\"checkbox\" ><label for=\"sk-estimator-id-3\" class=\"sk-toggleable__label sk-toggleable__label-arrow\">LogisticRegression</label><div class=\"sk-toggleable__content\"><pre>LogisticRegression()</pre></div></div></div></div></div></div></div></div></div></div>"
      ],
      "text/plain": [
       "GridSearchCV(cv=StratifiedKFold(n_splits=4, random_state=27, shuffle=True),\n",
       "             estimator=LogisticRegression(), n_jobs=1,\n",
       "             param_grid={'C': array([1.00000000e-04, 1.88739182e-04, 3.56224789e-04, 6.72335754e-04,\n",
       "       1.26896100e-03, 2.39502662e-03, 4.52035366e-03, 8.53167852e-03,\n",
       "       1.61026203e-02, 3.03919538e-02, 5.73615251e-02, 1.08263673e-01,\n",
       "       2.04335972e-01, 3.85662042e-01, 7.27895384e-01, 1.37382380e+00,\n",
       "       2.59294380e+00, 4.89390092e+00, 9.23670857e+00, 1.74332882e+01,\n",
       "       3.29034456e+01, 6.21016942e+01, 1.17210230e+02, 2.21221629e+02,\n",
       "       4.17531894e+02, 7.88046282e+02, 1.48735211e+03, 2.80721620e+03,\n",
       "       5.29831691e+03, 1.00000000e+04])},\n",
       "             scoring='f1', verbose=3)"
      ]
     },
     "execution_count": 12,
     "metadata": {},
     "output_type": "execute_result"
    }
   ],
   "source": [
    "from sklearn.linear_model import LogisticRegression\n",
    "from sklearn.model_selection import StratifiedKFold, GridSearchCV\n",
    "import warnings\n",
    "warnings.filterwarnings(\"ignore\")\n",
    "#warnings.filterwarnings(\"default\")\n",
    "\n",
    "parameters = { \"C\" : np.logspace(-4,4,30)}\n",
    "\n",
    "stratified_kfold = StratifiedKFold(n_splits=4,\n",
    "                                   shuffle=True,\n",
    "                                   random_state=27)\n",
    "\n",
    "grid_search_logreg = GridSearchCV(estimator=LogisticRegression(),\n",
    "                                 param_grid=parameters,\n",
    "                                 scoring=\"f1\",\n",
    "                                 cv=stratified_kfold,\n",
    "                                 n_jobs=1,\n",
    "                                 verbose = 3)\n",
    "\n",
    "grid_search_logreg.fit(X_train, y_train)"
   ]
  },
  {
   "cell_type": "code",
   "execution_count": 13,
   "metadata": {
    "pycharm": {
     "name": "#%%\n"
    }
   },
   "outputs": [
    {
     "data": {
      "text/html": [
       "<style>#sk-container-id-2 {color: black;background-color: white;}#sk-container-id-2 pre{padding: 0;}#sk-container-id-2 div.sk-toggleable {background-color: white;}#sk-container-id-2 label.sk-toggleable__label {cursor: pointer;display: block;width: 100%;margin-bottom: 0;padding: 0.3em;box-sizing: border-box;text-align: center;}#sk-container-id-2 label.sk-toggleable__label-arrow:before {content: \"▸\";float: left;margin-right: 0.25em;color: #696969;}#sk-container-id-2 label.sk-toggleable__label-arrow:hover:before {color: black;}#sk-container-id-2 div.sk-estimator:hover label.sk-toggleable__label-arrow:before {color: black;}#sk-container-id-2 div.sk-toggleable__content {max-height: 0;max-width: 0;overflow: hidden;text-align: left;background-color: #f0f8ff;}#sk-container-id-2 div.sk-toggleable__content pre {margin: 0.2em;color: black;border-radius: 0.25em;background-color: #f0f8ff;}#sk-container-id-2 input.sk-toggleable__control:checked~div.sk-toggleable__content {max-height: 200px;max-width: 100%;overflow: auto;}#sk-container-id-2 input.sk-toggleable__control:checked~label.sk-toggleable__label-arrow:before {content: \"▾\";}#sk-container-id-2 div.sk-estimator input.sk-toggleable__control:checked~label.sk-toggleable__label {background-color: #d4ebff;}#sk-container-id-2 div.sk-label input.sk-toggleable__control:checked~label.sk-toggleable__label {background-color: #d4ebff;}#sk-container-id-2 input.sk-hidden--visually {border: 0;clip: rect(1px 1px 1px 1px);clip: rect(1px, 1px, 1px, 1px);height: 1px;margin: -1px;overflow: hidden;padding: 0;position: absolute;width: 1px;}#sk-container-id-2 div.sk-estimator {font-family: monospace;background-color: #f0f8ff;border: 1px dotted black;border-radius: 0.25em;box-sizing: border-box;margin-bottom: 0.5em;}#sk-container-id-2 div.sk-estimator:hover {background-color: #d4ebff;}#sk-container-id-2 div.sk-parallel-item::after {content: \"\";width: 100%;border-bottom: 1px solid gray;flex-grow: 1;}#sk-container-id-2 div.sk-label:hover label.sk-toggleable__label {background-color: #d4ebff;}#sk-container-id-2 div.sk-serial::before {content: \"\";position: absolute;border-left: 1px solid gray;box-sizing: border-box;top: 0;bottom: 0;left: 50%;z-index: 0;}#sk-container-id-2 div.sk-serial {display: flex;flex-direction: column;align-items: center;background-color: white;padding-right: 0.2em;padding-left: 0.2em;position: relative;}#sk-container-id-2 div.sk-item {position: relative;z-index: 1;}#sk-container-id-2 div.sk-parallel {display: flex;align-items: stretch;justify-content: center;background-color: white;position: relative;}#sk-container-id-2 div.sk-item::before, #sk-container-id-2 div.sk-parallel-item::before {content: \"\";position: absolute;border-left: 1px solid gray;box-sizing: border-box;top: 0;bottom: 0;left: 50%;z-index: -1;}#sk-container-id-2 div.sk-parallel-item {display: flex;flex-direction: column;z-index: 1;position: relative;background-color: white;}#sk-container-id-2 div.sk-parallel-item:first-child::after {align-self: flex-end;width: 50%;}#sk-container-id-2 div.sk-parallel-item:last-child::after {align-self: flex-start;width: 50%;}#sk-container-id-2 div.sk-parallel-item:only-child::after {width: 0;}#sk-container-id-2 div.sk-dashed-wrapped {border: 1px dashed gray;margin: 0 0.4em 0.5em 0.4em;box-sizing: border-box;padding-bottom: 0.4em;background-color: white;}#sk-container-id-2 div.sk-label label {font-family: monospace;font-weight: bold;display: inline-block;line-height: 1.2em;}#sk-container-id-2 div.sk-label-container {text-align: center;}#sk-container-id-2 div.sk-container {/* jupyter's `normalize.less` sets `[hidden] { display: none; }` but bootstrap.min.css set `[hidden] { display: none !important; }` so we also need the `!important` here to be able to override the default hidden behavior on the sphinx rendered scikit-learn.org. See: https://github.com/scikit-learn/scikit-learn/issues/21755 */display: inline-block !important;position: relative;}#sk-container-id-2 div.sk-text-repr-fallback {display: none;}</style><div id=\"sk-container-id-2\" class=\"sk-top-container\"><div class=\"sk-text-repr-fallback\"><pre>LogisticRegression(C=1.3738237958832638)</pre><b>In a Jupyter environment, please rerun this cell to show the HTML representation or trust the notebook. <br />On GitHub, the HTML representation is unable to render, please try loading this page with nbviewer.org.</b></div><div class=\"sk-container\" hidden><div class=\"sk-item\"><div class=\"sk-estimator sk-toggleable\"><input class=\"sk-toggleable__control sk-hidden--visually\" id=\"sk-estimator-id-4\" type=\"checkbox\" checked><label for=\"sk-estimator-id-4\" class=\"sk-toggleable__label sk-toggleable__label-arrow\">LogisticRegression</label><div class=\"sk-toggleable__content\"><pre>LogisticRegression(C=1.3738237958832638)</pre></div></div></div></div></div>"
      ],
      "text/plain": [
       "LogisticRegression(C=1.3738237958832638)"
      ]
     },
     "execution_count": 13,
     "metadata": {},
     "output_type": "execute_result"
    }
   ],
   "source": [
    "grid_search_logreg.best_estimator_"
   ]
  },
  {
   "cell_type": "code",
   "execution_count": 14,
   "metadata": {
    "pycharm": {
     "name": "#%%\n"
    }
   },
   "outputs": [
    {
     "data": {
      "text/plain": [
       "0.7955555555555556"
      ]
     },
     "execution_count": 14,
     "metadata": {},
     "output_type": "execute_result"
    }
   ],
   "source": [
    "from sklearn.metrics import f1_score\n",
    "f1_score(y_test,grid_search_logreg.best_estimator_.predict(X_test))"
   ]
  },
  {
   "cell_type": "markdown",
   "metadata": {
    "pycharm": {
     "name": "#%% md\n"
    }
   },
   "source": [
    "Meilleur score de 0.79, obtenu pour C = 1.3. Il n'est pas nécéssaire d'effectuer une grille plus précise car les paramètres C proches aboutissent à des scores très proches, la grille était déjà assez fine."
   ]
  },
  {
   "cell_type": "markdown",
   "metadata": {
    "pycharm": {
     "name": "#%% md\n"
    }
   },
   "source": [
    "### Random Forest Classifier"
   ]
  },
  {
   "cell_type": "code",
   "execution_count": 15,
   "metadata": {
    "pycharm": {
     "name": "#%%\n"
    }
   },
   "outputs": [
    {
     "name": "stdout",
     "output_type": "stream",
     "text": [
      "Fitting 4 folds for each of 120 candidates, totalling 480 fits\n",
      "[CV 1/4] END criterion=gini, max_depth=4, max_features=auto, n_estimators=50;, score=0.747 total time=   0.1s\n",
      "[CV 2/4] END criterion=gini, max_depth=4, max_features=auto, n_estimators=50;, score=0.788 total time=   0.1s\n",
      "[CV 3/4] END criterion=gini, max_depth=4, max_features=auto, n_estimators=50;, score=0.768 total time=   0.0s\n",
      "[CV 4/4] END criterion=gini, max_depth=4, max_features=auto, n_estimators=50;, score=0.765 total time=   0.1s\n",
      "[CV 1/4] END criterion=gini, max_depth=4, max_features=auto, n_estimators=100;, score=0.742 total time=   0.2s\n",
      "[CV 2/4] END criterion=gini, max_depth=4, max_features=auto, n_estimators=100;, score=0.768 total time=   0.2s\n",
      "[CV 3/4] END criterion=gini, max_depth=4, max_features=auto, n_estimators=100;, score=0.755 total time=   0.2s\n",
      "[CV 4/4] END criterion=gini, max_depth=4, max_features=auto, n_estimators=100;, score=0.751 total time=   0.2s\n",
      "[CV 1/4] END criterion=gini, max_depth=4, max_features=auto, n_estimators=200;, score=0.747 total time=   0.8s\n",
      "[CV 2/4] END criterion=gini, max_depth=4, max_features=auto, n_estimators=200;, score=0.765 total time=   0.5s\n",
      "[CV 3/4] END criterion=gini, max_depth=4, max_features=auto, n_estimators=200;, score=0.759 total time=   0.5s\n",
      "[CV 4/4] END criterion=gini, max_depth=4, max_features=auto, n_estimators=200;, score=0.766 total time=   0.6s\n",
      "[CV 1/4] END criterion=gini, max_depth=4, max_features=auto, n_estimators=500;, score=0.744 total time=   1.7s\n",
      "[CV 2/4] END criterion=gini, max_depth=4, max_features=auto, n_estimators=500;, score=0.783 total time=   1.8s\n",
      "[CV 3/4] END criterion=gini, max_depth=4, max_features=auto, n_estimators=500;, score=0.766 total time=   1.5s\n",
      "[CV 4/4] END criterion=gini, max_depth=4, max_features=auto, n_estimators=500;, score=0.769 total time=   1.5s\n",
      "[CV 1/4] END criterion=gini, max_depth=4, max_features=sqrt, n_estimators=50;, score=0.752 total time=   0.1s\n",
      "[CV 2/4] END criterion=gini, max_depth=4, max_features=sqrt, n_estimators=50;, score=0.763 total time=   0.1s\n",
      "[CV 3/4] END criterion=gini, max_depth=4, max_features=sqrt, n_estimators=50;, score=0.736 total time=   0.0s\n",
      "[CV 4/4] END criterion=gini, max_depth=4, max_features=sqrt, n_estimators=50;, score=0.754 total time=   0.0s\n",
      "[CV 1/4] END criterion=gini, max_depth=4, max_features=sqrt, n_estimators=100;, score=0.744 total time=   0.2s\n",
      "[CV 2/4] END criterion=gini, max_depth=4, max_features=sqrt, n_estimators=100;, score=0.765 total time=   0.1s\n",
      "[CV 3/4] END criterion=gini, max_depth=4, max_features=sqrt, n_estimators=100;, score=0.738 total time=   0.1s\n",
      "[CV 4/4] END criterion=gini, max_depth=4, max_features=sqrt, n_estimators=100;, score=0.765 total time=   0.2s\n",
      "[CV 1/4] END criterion=gini, max_depth=4, max_features=sqrt, n_estimators=200;, score=0.749 total time=   0.7s\n",
      "[CV 2/4] END criterion=gini, max_depth=4, max_features=sqrt, n_estimators=200;, score=0.773 total time=   0.8s\n",
      "[CV 3/4] END criterion=gini, max_depth=4, max_features=sqrt, n_estimators=200;, score=0.751 total time=   0.4s\n",
      "[CV 4/4] END criterion=gini, max_depth=4, max_features=sqrt, n_estimators=200;, score=0.771 total time=   0.4s\n",
      "[CV 1/4] END criterion=gini, max_depth=4, max_features=sqrt, n_estimators=500;, score=0.752 total time=   1.3s\n",
      "[CV 2/4] END criterion=gini, max_depth=4, max_features=sqrt, n_estimators=500;, score=0.773 total time=   1.1s\n",
      "[CV 3/4] END criterion=gini, max_depth=4, max_features=sqrt, n_estimators=500;, score=0.759 total time=   1.2s\n",
      "[CV 4/4] END criterion=gini, max_depth=4, max_features=sqrt, n_estimators=500;, score=0.759 total time=   1.1s\n",
      "[CV 1/4] END criterion=gini, max_depth=4, max_features=log2, n_estimators=50;, score=0.748 total time=   0.0s\n",
      "[CV 2/4] END criterion=gini, max_depth=4, max_features=log2, n_estimators=50;, score=0.786 total time=   0.0s\n",
      "[CV 3/4] END criterion=gini, max_depth=4, max_features=log2, n_estimators=50;, score=0.770 total time=   0.0s\n",
      "[CV 4/4] END criterion=gini, max_depth=4, max_features=log2, n_estimators=50;, score=0.760 total time=   0.0s\n",
      "[CV 1/4] END criterion=gini, max_depth=4, max_features=log2, n_estimators=100;, score=0.749 total time=   0.1s\n",
      "[CV 2/4] END criterion=gini, max_depth=4, max_features=log2, n_estimators=100;, score=0.774 total time=   0.1s\n",
      "[CV 3/4] END criterion=gini, max_depth=4, max_features=log2, n_estimators=100;, score=0.754 total time=   0.1s\n",
      "[CV 4/4] END criterion=gini, max_depth=4, max_features=log2, n_estimators=100;, score=0.770 total time=   0.2s\n",
      "[CV 1/4] END criterion=gini, max_depth=4, max_features=log2, n_estimators=200;, score=0.749 total time=   0.5s\n",
      "[CV 2/4] END criterion=gini, max_depth=4, max_features=log2, n_estimators=200;, score=0.778 total time=   0.5s\n",
      "[CV 3/4] END criterion=gini, max_depth=4, max_features=log2, n_estimators=200;, score=0.759 total time=   0.5s\n",
      "[CV 4/4] END criterion=gini, max_depth=4, max_features=log2, n_estimators=200;, score=0.771 total time=   0.5s\n",
      "[CV 1/4] END criterion=gini, max_depth=4, max_features=log2, n_estimators=500;, score=0.749 total time=   2.4s\n",
      "[CV 2/4] END criterion=gini, max_depth=4, max_features=log2, n_estimators=500;, score=0.770 total time=   1.7s\n",
      "[CV 3/4] END criterion=gini, max_depth=4, max_features=log2, n_estimators=500;, score=0.755 total time=   1.5s\n",
      "[CV 4/4] END criterion=gini, max_depth=4, max_features=log2, n_estimators=500;, score=0.765 total time=   1.4s\n",
      "[CV 1/4] END criterion=gini, max_depth=5, max_features=auto, n_estimators=50;, score=0.749 total time=   0.0s\n",
      "[CV 2/4] END criterion=gini, max_depth=5, max_features=auto, n_estimators=50;, score=0.770 total time=   0.0s\n",
      "[CV 3/4] END criterion=gini, max_depth=5, max_features=auto, n_estimators=50;, score=0.768 total time=   0.0s\n",
      "[CV 4/4] END criterion=gini, max_depth=5, max_features=auto, n_estimators=50;, score=0.767 total time=   0.1s\n",
      "[CV 1/4] END criterion=gini, max_depth=5, max_features=auto, n_estimators=100;, score=0.746 total time=   0.3s\n",
      "[CV 2/4] END criterion=gini, max_depth=5, max_features=auto, n_estimators=100;, score=0.771 total time=   0.4s\n",
      "[CV 3/4] END criterion=gini, max_depth=5, max_features=auto, n_estimators=100;, score=0.754 total time=   0.4s\n",
      "[CV 4/4] END criterion=gini, max_depth=5, max_features=auto, n_estimators=100;, score=0.762 total time=   0.5s\n",
      "[CV 1/4] END criterion=gini, max_depth=5, max_features=auto, n_estimators=200;, score=0.740 total time=   1.0s\n",
      "[CV 2/4] END criterion=gini, max_depth=5, max_features=auto, n_estimators=200;, score=0.770 total time=   0.8s\n",
      "[CV 3/4] END criterion=gini, max_depth=5, max_features=auto, n_estimators=200;, score=0.751 total time=   0.8s\n",
      "[CV 4/4] END criterion=gini, max_depth=5, max_features=auto, n_estimators=200;, score=0.752 total time=   0.9s\n",
      "[CV 1/4] END criterion=gini, max_depth=5, max_features=auto, n_estimators=500;, score=0.746 total time=   2.3s\n",
      "[CV 2/4] END criterion=gini, max_depth=5, max_features=auto, n_estimators=500;, score=0.778 total time=   3.1s\n",
      "[CV 3/4] END criterion=gini, max_depth=5, max_features=auto, n_estimators=500;, score=0.755 total time=   2.7s\n",
      "[CV 4/4] END criterion=gini, max_depth=5, max_features=auto, n_estimators=500;, score=0.762 total time=   1.9s\n",
      "[CV 1/4] END criterion=gini, max_depth=5, max_features=sqrt, n_estimators=50;, score=0.757 total time=   0.1s\n",
      "[CV 2/4] END criterion=gini, max_depth=5, max_features=sqrt, n_estimators=50;, score=0.773 total time=   0.1s\n",
      "[CV 3/4] END criterion=gini, max_depth=5, max_features=sqrt, n_estimators=50;, score=0.749 total time=   0.1s\n",
      "[CV 4/4] END criterion=gini, max_depth=5, max_features=sqrt, n_estimators=50;, score=0.759 total time=   0.1s\n",
      "[CV 1/4] END criterion=gini, max_depth=5, max_features=sqrt, n_estimators=100;, score=0.745 total time=   0.3s\n",
      "[CV 2/4] END criterion=gini, max_depth=5, max_features=sqrt, n_estimators=100;, score=0.777 total time=   0.4s\n",
      "[CV 3/4] END criterion=gini, max_depth=5, max_features=sqrt, n_estimators=100;, score=0.763 total time=   0.5s\n",
      "[CV 4/4] END criterion=gini, max_depth=5, max_features=sqrt, n_estimators=100;, score=0.758 total time=   0.6s\n",
      "[CV 1/4] END criterion=gini, max_depth=5, max_features=sqrt, n_estimators=200;, score=0.754 total time=   1.2s\n",
      "[CV 2/4] END criterion=gini, max_depth=5, max_features=sqrt, n_estimators=200;, score=0.783 total time=   1.0s\n",
      "[CV 3/4] END criterion=gini, max_depth=5, max_features=sqrt, n_estimators=200;, score=0.748 total time=   1.1s\n",
      "[CV 4/4] END criterion=gini, max_depth=5, max_features=sqrt, n_estimators=200;, score=0.774 total time=   0.7s\n",
      "[CV 1/4] END criterion=gini, max_depth=5, max_features=sqrt, n_estimators=500;, score=0.746 total time=   1.9s\n",
      "[CV 2/4] END criterion=gini, max_depth=5, max_features=sqrt, n_estimators=500;, score=0.765 total time=   2.0s\n",
      "[CV 3/4] END criterion=gini, max_depth=5, max_features=sqrt, n_estimators=500;, score=0.753 total time=   3.0s\n",
      "[CV 4/4] END criterion=gini, max_depth=5, max_features=sqrt, n_estimators=500;, score=0.754 total time=   2.5s\n",
      "[CV 1/4] END criterion=gini, max_depth=5, max_features=log2, n_estimators=50;, score=0.740 total time=   0.1s\n",
      "[CV 2/4] END criterion=gini, max_depth=5, max_features=log2, n_estimators=50;, score=0.794 total time=   0.1s\n",
      "[CV 3/4] END criterion=gini, max_depth=5, max_features=log2, n_estimators=50;, score=0.762 total time=   0.1s\n",
      "[CV 4/4] END criterion=gini, max_depth=5, max_features=log2, n_estimators=50;, score=0.752 total time=   0.1s\n",
      "[CV 1/4] END criterion=gini, max_depth=5, max_features=log2, n_estimators=100;, score=0.736 total time=   0.2s\n",
      "[CV 2/4] END criterion=gini, max_depth=5, max_features=log2, n_estimators=100;, score=0.768 total time=   0.3s\n",
      "[CV 3/4] END criterion=gini, max_depth=5, max_features=log2, n_estimators=100;, score=0.752 total time=   0.3s\n",
      "[CV 4/4] END criterion=gini, max_depth=5, max_features=log2, n_estimators=100;, score=0.761 total time=   0.5s\n",
      "[CV 1/4] END criterion=gini, max_depth=5, max_features=log2, n_estimators=200;, score=0.751 total time=   0.7s\n",
      "[CV 2/4] END criterion=gini, max_depth=5, max_features=log2, n_estimators=200;, score=0.772 total time=   0.9s\n",
      "[CV 3/4] END criterion=gini, max_depth=5, max_features=log2, n_estimators=200;, score=0.759 total time=   1.2s\n",
      "[CV 4/4] END criterion=gini, max_depth=5, max_features=log2, n_estimators=200;, score=0.752 total time=   1.1s\n",
      "[CV 1/4] END criterion=gini, max_depth=5, max_features=log2, n_estimators=500;, score=0.746 total time=   2.9s\n",
      "[CV 2/4] END criterion=gini, max_depth=5, max_features=log2, n_estimators=500;, score=0.766 total time=   1.7s\n",
      "[CV 3/4] END criterion=gini, max_depth=5, max_features=log2, n_estimators=500;, score=0.762 total time=   1.7s\n",
      "[CV 4/4] END criterion=gini, max_depth=5, max_features=log2, n_estimators=500;, score=0.761 total time=   2.3s\n",
      "[CV 1/4] END criterion=gini, max_depth=6, max_features=auto, n_estimators=50;, score=0.754 total time=   0.2s\n",
      "[CV 2/4] END criterion=gini, max_depth=6, max_features=auto, n_estimators=50;, score=0.785 total time=   0.2s\n",
      "[CV 3/4] END criterion=gini, max_depth=6, max_features=auto, n_estimators=50;, score=0.762 total time=   0.2s\n",
      "[CV 4/4] END criterion=gini, max_depth=6, max_features=auto, n_estimators=50;, score=0.765 total time=   0.3s\n",
      "[CV 1/4] END criterion=gini, max_depth=6, max_features=auto, n_estimators=100;, score=0.743 total time=   0.5s\n",
      "[CV 2/4] END criterion=gini, max_depth=6, max_features=auto, n_estimators=100;, score=0.777 total time=   0.4s\n",
      "[CV 3/4] END criterion=gini, max_depth=6, max_features=auto, n_estimators=100;, score=0.752 total time=   0.6s\n",
      "[CV 4/4] END criterion=gini, max_depth=6, max_features=auto, n_estimators=100;, score=0.753 total time=   0.4s\n",
      "[CV 1/4] END criterion=gini, max_depth=6, max_features=auto, n_estimators=200;, score=0.749 total time=   0.7s\n",
      "[CV 2/4] END criterion=gini, max_depth=6, max_features=auto, n_estimators=200;, score=0.760 total time=   0.7s\n",
      "[CV 3/4] END criterion=gini, max_depth=6, max_features=auto, n_estimators=200;, score=0.762 total time=   0.7s\n",
      "[CV 4/4] END criterion=gini, max_depth=6, max_features=auto, n_estimators=200;, score=0.761 total time=   0.8s\n",
      "[CV 1/4] END criterion=gini, max_depth=6, max_features=auto, n_estimators=500;, score=0.760 total time=   2.1s\n",
      "[CV 2/4] END criterion=gini, max_depth=6, max_features=auto, n_estimators=500;, score=0.773 total time=   1.4s\n",
      "[CV 3/4] END criterion=gini, max_depth=6, max_features=auto, n_estimators=500;, score=0.750 total time=   1.4s\n",
      "[CV 4/4] END criterion=gini, max_depth=6, max_features=auto, n_estimators=500;, score=0.752 total time=   1.3s\n",
      "[CV 1/4] END criterion=gini, max_depth=6, max_features=sqrt, n_estimators=50;, score=0.752 total time=   0.1s\n",
      "[CV 2/4] END criterion=gini, max_depth=6, max_features=sqrt, n_estimators=50;, score=0.786 total time=   0.1s\n",
      "[CV 3/4] END criterion=gini, max_depth=6, max_features=sqrt, n_estimators=50;, score=0.751 total time=   0.1s\n",
      "[CV 4/4] END criterion=gini, max_depth=6, max_features=sqrt, n_estimators=50;, score=0.782 total time=   0.1s\n",
      "[CV 1/4] END criterion=gini, max_depth=6, max_features=sqrt, n_estimators=100;, score=0.753 total time=   0.2s\n",
      "[CV 2/4] END criterion=gini, max_depth=6, max_features=sqrt, n_estimators=100;, score=0.786 total time=   0.3s\n",
      "[CV 3/4] END criterion=gini, max_depth=6, max_features=sqrt, n_estimators=100;, score=0.764 total time=   0.3s\n",
      "[CV 4/4] END criterion=gini, max_depth=6, max_features=sqrt, n_estimators=100;, score=0.764 total time=   0.4s\n",
      "[CV 1/4] END criterion=gini, max_depth=6, max_features=sqrt, n_estimators=200;, score=0.754 total time=   0.7s\n",
      "[CV 2/4] END criterion=gini, max_depth=6, max_features=sqrt, n_estimators=200;, score=0.780 total time=   0.5s\n",
      "[CV 3/4] END criterion=gini, max_depth=6, max_features=sqrt, n_estimators=200;, score=0.761 total time=   0.6s\n",
      "[CV 4/4] END criterion=gini, max_depth=6, max_features=sqrt, n_estimators=200;, score=0.748 total time=   0.7s\n",
      "[CV 1/4] END criterion=gini, max_depth=6, max_features=sqrt, n_estimators=500;, score=0.749 total time=   1.4s\n",
      "[CV 2/4] END criterion=gini, max_depth=6, max_features=sqrt, n_estimators=500;, score=0.791 total time=   1.1s\n",
      "[CV 3/4] END criterion=gini, max_depth=6, max_features=sqrt, n_estimators=500;, score=0.751 total time=   1.2s\n",
      "[CV 4/4] END criterion=gini, max_depth=6, max_features=sqrt, n_estimators=500;, score=0.748 total time=   1.6s\n",
      "[CV 1/4] END criterion=gini, max_depth=6, max_features=log2, n_estimators=50;, score=0.731 total time=   0.0s\n",
      "[CV 2/4] END criterion=gini, max_depth=6, max_features=log2, n_estimators=50;, score=0.768 total time=   0.2s\n",
      "[CV 3/4] END criterion=gini, max_depth=6, max_features=log2, n_estimators=50;, score=0.765 total time=   0.1s\n",
      "[CV 4/4] END criterion=gini, max_depth=6, max_features=log2, n_estimators=50;, score=0.764 total time=   0.1s\n",
      "[CV 1/4] END criterion=gini, max_depth=6, max_features=log2, n_estimators=100;, score=0.760 total time=   0.2s\n",
      "[CV 2/4] END criterion=gini, max_depth=6, max_features=log2, n_estimators=100;, score=0.768 total time=   0.2s\n",
      "[CV 3/4] END criterion=gini, max_depth=6, max_features=log2, n_estimators=100;, score=0.762 total time=   0.2s\n",
      "[CV 4/4] END criterion=gini, max_depth=6, max_features=log2, n_estimators=100;, score=0.760 total time=   0.2s\n",
      "[CV 1/4] END criterion=gini, max_depth=6, max_features=log2, n_estimators=200;, score=0.759 total time=   0.4s\n",
      "[CV 2/4] END criterion=gini, max_depth=6, max_features=log2, n_estimators=200;, score=0.791 total time=   0.4s\n",
      "[CV 3/4] END criterion=gini, max_depth=6, max_features=log2, n_estimators=200;, score=0.764 total time=   0.4s\n",
      "[CV 4/4] END criterion=gini, max_depth=6, max_features=log2, n_estimators=200;, score=0.752 total time=   0.5s\n",
      "[CV 1/4] END criterion=gini, max_depth=6, max_features=log2, n_estimators=500;, score=0.751 total time=   1.1s\n",
      "[CV 2/4] END criterion=gini, max_depth=6, max_features=log2, n_estimators=500;, score=0.784 total time=   1.0s\n",
      "[CV 3/4] END criterion=gini, max_depth=6, max_features=log2, n_estimators=500;, score=0.767 total time=   0.9s\n",
      "[CV 4/4] END criterion=gini, max_depth=6, max_features=log2, n_estimators=500;, score=0.755 total time=   1.1s\n",
      "[CV 1/4] END criterion=gini, max_depth=7, max_features=auto, n_estimators=50;, score=0.746 total time=   0.0s\n",
      "[CV 2/4] END criterion=gini, max_depth=7, max_features=auto, n_estimators=50;, score=0.769 total time=   0.0s\n",
      "[CV 3/4] END criterion=gini, max_depth=7, max_features=auto, n_estimators=50;, score=0.764 total time=   0.0s\n",
      "[CV 4/4] END criterion=gini, max_depth=7, max_features=auto, n_estimators=50;, score=0.762 total time=   0.0s\n",
      "[CV 1/4] END criterion=gini, max_depth=7, max_features=auto, n_estimators=100;, score=0.745 total time=   0.2s\n",
      "[CV 2/4] END criterion=gini, max_depth=7, max_features=auto, n_estimators=100;, score=0.785 total time=   0.2s\n",
      "[CV 3/4] END criterion=gini, max_depth=7, max_features=auto, n_estimators=100;, score=0.778 total time=   0.2s\n",
      "[CV 4/4] END criterion=gini, max_depth=7, max_features=auto, n_estimators=100;, score=0.750 total time=   0.2s\n",
      "[CV 1/4] END criterion=gini, max_depth=7, max_features=auto, n_estimators=200;, score=0.751 total time=   0.5s\n",
      "[CV 2/4] END criterion=gini, max_depth=7, max_features=auto, n_estimators=200;, score=0.790 total time=   0.5s\n",
      "[CV 3/4] END criterion=gini, max_depth=7, max_features=auto, n_estimators=200;, score=0.758 total time=   0.6s\n",
      "[CV 4/4] END criterion=gini, max_depth=7, max_features=auto, n_estimators=200;, score=0.762 total time=   0.5s\n",
      "[CV 1/4] END criterion=gini, max_depth=7, max_features=auto, n_estimators=500;, score=0.754 total time=   1.6s\n",
      "[CV 2/4] END criterion=gini, max_depth=7, max_features=auto, n_estimators=500;, score=0.784 total time=   1.1s\n",
      "[CV 3/4] END criterion=gini, max_depth=7, max_features=auto, n_estimators=500;, score=0.756 total time=   1.0s\n",
      "[CV 4/4] END criterion=gini, max_depth=7, max_features=auto, n_estimators=500;, score=0.754 total time=   1.2s\n",
      "[CV 1/4] END criterion=gini, max_depth=7, max_features=sqrt, n_estimators=50;, score=0.751 total time=   0.1s\n",
      "[CV 2/4] END criterion=gini, max_depth=7, max_features=sqrt, n_estimators=50;, score=0.781 total time=   0.0s\n",
      "[CV 3/4] END criterion=gini, max_depth=7, max_features=sqrt, n_estimators=50;, score=0.775 total time=   0.0s\n",
      "[CV 4/4] END criterion=gini, max_depth=7, max_features=sqrt, n_estimators=50;, score=0.756 total time=   0.1s\n",
      "[CV 1/4] END criterion=gini, max_depth=7, max_features=sqrt, n_estimators=100;, score=0.745 total time=   0.2s\n",
      "[CV 2/4] END criterion=gini, max_depth=7, max_features=sqrt, n_estimators=100;, score=0.777 total time=   0.2s\n",
      "[CV 3/4] END criterion=gini, max_depth=7, max_features=sqrt, n_estimators=100;, score=0.775 total time=   0.2s\n",
      "[CV 4/4] END criterion=gini, max_depth=7, max_features=sqrt, n_estimators=100;, score=0.759 total time=   0.2s\n",
      "[CV 1/4] END criterion=gini, max_depth=7, max_features=sqrt, n_estimators=200;, score=0.751 total time=   0.5s\n",
      "[CV 2/4] END criterion=gini, max_depth=7, max_features=sqrt, n_estimators=200;, score=0.772 total time=   0.9s\n",
      "[CV 3/4] END criterion=gini, max_depth=7, max_features=sqrt, n_estimators=200;, score=0.756 total time=   0.8s\n",
      "[CV 4/4] END criterion=gini, max_depth=7, max_features=sqrt, n_estimators=200;, score=0.752 total time=   0.5s\n",
      "[CV 1/4] END criterion=gini, max_depth=7, max_features=sqrt, n_estimators=500;, score=0.749 total time=   1.3s\n",
      "[CV 2/4] END criterion=gini, max_depth=7, max_features=sqrt, n_estimators=500;, score=0.780 total time=   1.1s\n",
      "[CV 3/4] END criterion=gini, max_depth=7, max_features=sqrt, n_estimators=500;, score=0.764 total time=   1.0s\n",
      "[CV 4/4] END criterion=gini, max_depth=7, max_features=sqrt, n_estimators=500;, score=0.751 total time=   1.0s\n",
      "[CV 1/4] END criterion=gini, max_depth=7, max_features=log2, n_estimators=50;, score=0.751 total time=   0.0s\n",
      "[CV 2/4] END criterion=gini, max_depth=7, max_features=log2, n_estimators=50;, score=0.763 total time=   0.0s\n",
      "[CV 3/4] END criterion=gini, max_depth=7, max_features=log2, n_estimators=50;, score=0.760 total time=   0.0s\n",
      "[CV 4/4] END criterion=gini, max_depth=7, max_features=log2, n_estimators=50;, score=0.756 total time=   0.0s\n",
      "[CV 1/4] END criterion=gini, max_depth=7, max_features=log2, n_estimators=100;, score=0.743 total time=   0.1s\n",
      "[CV 2/4] END criterion=gini, max_depth=7, max_features=log2, n_estimators=100;, score=0.780 total time=   0.2s\n",
      "[CV 3/4] END criterion=gini, max_depth=7, max_features=log2, n_estimators=100;, score=0.752 total time=   0.2s\n",
      "[CV 4/4] END criterion=gini, max_depth=7, max_features=log2, n_estimators=100;, score=0.750 total time=   0.2s\n",
      "[CV 1/4] END criterion=gini, max_depth=7, max_features=log2, n_estimators=200;, score=0.743 total time=   0.4s\n",
      "[CV 2/4] END criterion=gini, max_depth=7, max_features=log2, n_estimators=200;, score=0.776 total time=   0.5s\n",
      "[CV 3/4] END criterion=gini, max_depth=7, max_features=log2, n_estimators=200;, score=0.759 total time=   0.4s\n",
      "[CV 4/4] END criterion=gini, max_depth=7, max_features=log2, n_estimators=200;, score=0.759 total time=   0.4s\n",
      "[CV 1/4] END criterion=gini, max_depth=7, max_features=log2, n_estimators=500;, score=0.754 total time=   1.1s\n",
      "[CV 2/4] END criterion=gini, max_depth=7, max_features=log2, n_estimators=500;, score=0.788 total time=   1.1s\n",
      "[CV 3/4] END criterion=gini, max_depth=7, max_features=log2, n_estimators=500;, score=0.767 total time=   0.9s\n",
      "[CV 4/4] END criterion=gini, max_depth=7, max_features=log2, n_estimators=500;, score=0.751 total time=   1.1s\n",
      "[CV 1/4] END criterion=gini, max_depth=8, max_features=auto, n_estimators=50;, score=0.754 total time=   0.0s\n",
      "[CV 2/4] END criterion=gini, max_depth=8, max_features=auto, n_estimators=50;, score=0.737 total time=   0.0s\n",
      "[CV 3/4] END criterion=gini, max_depth=8, max_features=auto, n_estimators=50;, score=0.773 total time=   0.0s\n",
      "[CV 4/4] END criterion=gini, max_depth=8, max_features=auto, n_estimators=50;, score=0.763 total time=   0.0s\n",
      "[CV 1/4] END criterion=gini, max_depth=8, max_features=auto, n_estimators=100;, score=0.762 total time=   0.1s\n",
      "[CV 2/4] END criterion=gini, max_depth=8, max_features=auto, n_estimators=100;, score=0.756 total time=   0.2s\n",
      "[CV 3/4] END criterion=gini, max_depth=8, max_features=auto, n_estimators=100;, score=0.757 total time=   0.2s\n",
      "[CV 4/4] END criterion=gini, max_depth=8, max_features=auto, n_estimators=100;, score=0.741 total time=   0.1s\n",
      "[CV 1/4] END criterion=gini, max_depth=8, max_features=auto, n_estimators=200;, score=0.735 total time=   0.5s\n",
      "[CV 2/4] END criterion=gini, max_depth=8, max_features=auto, n_estimators=200;, score=0.783 total time=   0.5s\n",
      "[CV 3/4] END criterion=gini, max_depth=8, max_features=auto, n_estimators=200;, score=0.757 total time=   0.6s\n",
      "[CV 4/4] END criterion=gini, max_depth=8, max_features=auto, n_estimators=200;, score=0.757 total time=   0.6s\n",
      "[CV 1/4] END criterion=gini, max_depth=8, max_features=auto, n_estimators=500;, score=0.745 total time=   1.4s\n",
      "[CV 2/4] END criterion=gini, max_depth=8, max_features=auto, n_estimators=500;, score=0.775 total time=   1.0s\n",
      "[CV 3/4] END criterion=gini, max_depth=8, max_features=auto, n_estimators=500;, score=0.767 total time=   1.1s\n",
      "[CV 4/4] END criterion=gini, max_depth=8, max_features=auto, n_estimators=500;, score=0.752 total time=   2.9s\n",
      "[CV 1/4] END criterion=gini, max_depth=8, max_features=sqrt, n_estimators=50;, score=0.756 total time=   0.2s\n",
      "[CV 2/4] END criterion=gini, max_depth=8, max_features=sqrt, n_estimators=50;, score=0.771 total time=   0.1s\n",
      "[CV 3/4] END criterion=gini, max_depth=8, max_features=sqrt, n_estimators=50;, score=0.749 total time=   0.2s\n",
      "[CV 4/4] END criterion=gini, max_depth=8, max_features=sqrt, n_estimators=50;, score=0.750 total time=   0.3s\n",
      "[CV 1/4] END criterion=gini, max_depth=8, max_features=sqrt, n_estimators=100;, score=0.754 total time=   0.5s\n",
      "[CV 2/4] END criterion=gini, max_depth=8, max_features=sqrt, n_estimators=100;, score=0.776 total time=   0.5s\n",
      "[CV 3/4] END criterion=gini, max_depth=8, max_features=sqrt, n_estimators=100;, score=0.752 total time=   0.4s\n",
      "[CV 4/4] END criterion=gini, max_depth=8, max_features=sqrt, n_estimators=100;, score=0.753 total time=   0.3s\n",
      "[CV 1/4] END criterion=gini, max_depth=8, max_features=sqrt, n_estimators=200;, score=0.746 total time=   0.8s\n",
      "[CV 2/4] END criterion=gini, max_depth=8, max_features=sqrt, n_estimators=200;, score=0.762 total time=   0.7s\n",
      "[CV 3/4] END criterion=gini, max_depth=8, max_features=sqrt, n_estimators=200;, score=0.744 total time=   0.6s\n",
      "[CV 4/4] END criterion=gini, max_depth=8, max_features=sqrt, n_estimators=200;, score=0.761 total time=   0.5s\n",
      "[CV 1/4] END criterion=gini, max_depth=8, max_features=sqrt, n_estimators=500;, score=0.744 total time=   1.2s\n",
      "[CV 2/4] END criterion=gini, max_depth=8, max_features=sqrt, n_estimators=500;, score=0.766 total time=   1.1s\n",
      "[CV 3/4] END criterion=gini, max_depth=8, max_features=sqrt, n_estimators=500;, score=0.771 total time=   1.3s\n",
      "[CV 4/4] END criterion=gini, max_depth=8, max_features=sqrt, n_estimators=500;, score=0.746 total time=   1.4s\n",
      "[CV 1/4] END criterion=gini, max_depth=8, max_features=log2, n_estimators=50;, score=0.748 total time=   0.1s\n",
      "[CV 2/4] END criterion=gini, max_depth=8, max_features=log2, n_estimators=50;, score=0.741 total time=   0.1s\n",
      "[CV 3/4] END criterion=gini, max_depth=8, max_features=log2, n_estimators=50;, score=0.765 total time=   0.1s\n",
      "[CV 4/4] END criterion=gini, max_depth=8, max_features=log2, n_estimators=50;, score=0.757 total time=   0.1s\n",
      "[CV 1/4] END criterion=gini, max_depth=8, max_features=log2, n_estimators=100;, score=0.751 total time=   0.2s\n",
      "[CV 2/4] END criterion=gini, max_depth=8, max_features=log2, n_estimators=100;, score=0.782 total time=   0.2s\n",
      "[CV 3/4] END criterion=gini, max_depth=8, max_features=log2, n_estimators=100;, score=0.771 total time=   0.2s\n",
      "[CV 4/4] END criterion=gini, max_depth=8, max_features=log2, n_estimators=100;, score=0.757 total time=   0.2s\n",
      "[CV 1/4] END criterion=gini, max_depth=8, max_features=log2, n_estimators=200;, score=0.742 total time=   0.6s\n",
      "[CV 2/4] END criterion=gini, max_depth=8, max_features=log2, n_estimators=200;, score=0.775 total time=   0.6s\n",
      "[CV 3/4] END criterion=gini, max_depth=8, max_features=log2, n_estimators=200;, score=0.759 total time=   0.7s\n",
      "[CV 4/4] END criterion=gini, max_depth=8, max_features=log2, n_estimators=200;, score=0.761 total time=   0.4s\n",
      "[CV 1/4] END criterion=gini, max_depth=8, max_features=log2, n_estimators=500;, score=0.751 total time=   1.2s\n",
      "[CV 2/4] END criterion=gini, max_depth=8, max_features=log2, n_estimators=500;, score=0.784 total time=   1.3s\n",
      "[CV 3/4] END criterion=gini, max_depth=8, max_features=log2, n_estimators=500;, score=0.774 total time=   1.5s\n",
      "[CV 4/4] END criterion=gini, max_depth=8, max_features=log2, n_estimators=500;, score=0.758 total time=   1.6s\n",
      "[CV 1/4] END criterion=entropy, max_depth=4, max_features=auto, n_estimators=50;, score=0.736 total time=   0.1s\n",
      "[CV 2/4] END criterion=entropy, max_depth=4, max_features=auto, n_estimators=50;, score=0.768 total time=   0.1s\n",
      "[CV 3/4] END criterion=entropy, max_depth=4, max_features=auto, n_estimators=50;, score=0.749 total time=   0.0s\n",
      "[CV 4/4] END criterion=entropy, max_depth=4, max_features=auto, n_estimators=50;, score=0.762 total time=   0.0s\n",
      "[CV 1/4] END criterion=entropy, max_depth=4, max_features=auto, n_estimators=100;, score=0.740 total time=   0.2s\n",
      "[CV 2/4] END criterion=entropy, max_depth=4, max_features=auto, n_estimators=100;, score=0.774 total time=   0.3s\n",
      "[CV 3/4] END criterion=entropy, max_depth=4, max_features=auto, n_estimators=100;, score=0.756 total time=   0.2s\n",
      "[CV 4/4] END criterion=entropy, max_depth=4, max_features=auto, n_estimators=100;, score=0.766 total time=   0.3s\n",
      "[CV 1/4] END criterion=entropy, max_depth=4, max_features=auto, n_estimators=200;, score=0.746 total time=   0.6s\n",
      "[CV 2/4] END criterion=entropy, max_depth=4, max_features=auto, n_estimators=200;, score=0.773 total time=   0.4s\n",
      "[CV 3/4] END criterion=entropy, max_depth=4, max_features=auto, n_estimators=200;, score=0.751 total time=   0.5s\n",
      "[CV 4/4] END criterion=entropy, max_depth=4, max_features=auto, n_estimators=200;, score=0.767 total time=   0.4s\n",
      "[CV 1/4] END criterion=entropy, max_depth=4, max_features=auto, n_estimators=500;, score=0.749 total time=   1.4s\n",
      "[CV 2/4] END criterion=entropy, max_depth=4, max_features=auto, n_estimators=500;, score=0.779 total time=   1.4s\n",
      "[CV 3/4] END criterion=entropy, max_depth=4, max_features=auto, n_estimators=500;, score=0.752 total time=   2.6s\n",
      "[CV 4/4] END criterion=entropy, max_depth=4, max_features=auto, n_estimators=500;, score=0.758 total time=   2.2s\n",
      "[CV 1/4] END criterion=entropy, max_depth=4, max_features=sqrt, n_estimators=50;, score=0.748 total time=   0.1s\n",
      "[CV 2/4] END criterion=entropy, max_depth=4, max_features=sqrt, n_estimators=50;, score=0.779 total time=   0.1s\n",
      "[CV 3/4] END criterion=entropy, max_depth=4, max_features=sqrt, n_estimators=50;, score=0.744 total time=   0.1s\n",
      "[CV 4/4] END criterion=entropy, max_depth=4, max_features=sqrt, n_estimators=50;, score=0.758 total time=   0.1s\n",
      "[CV 1/4] END criterion=entropy, max_depth=4, max_features=sqrt, n_estimators=100;, score=0.746 total time=   0.2s\n",
      "[CV 2/4] END criterion=entropy, max_depth=4, max_features=sqrt, n_estimators=100;, score=0.768 total time=   0.3s\n",
      "[CV 3/4] END criterion=entropy, max_depth=4, max_features=sqrt, n_estimators=100;, score=0.759 total time=   0.4s\n",
      "[CV 4/4] END criterion=entropy, max_depth=4, max_features=sqrt, n_estimators=100;, score=0.765 total time=   0.5s\n",
      "[CV 1/4] END criterion=entropy, max_depth=4, max_features=sqrt, n_estimators=200;, score=0.744 total time=   1.2s\n",
      "[CV 2/4] END criterion=entropy, max_depth=4, max_features=sqrt, n_estimators=200;, score=0.782 total time=   1.1s\n",
      "[CV 3/4] END criterion=entropy, max_depth=4, max_features=sqrt, n_estimators=200;, score=0.752 total time=   1.1s\n",
      "[CV 4/4] END criterion=entropy, max_depth=4, max_features=sqrt, n_estimators=200;, score=0.765 total time=   1.0s\n",
      "[CV 1/4] END criterion=entropy, max_depth=4, max_features=sqrt, n_estimators=500;, score=0.749 total time=   2.1s\n",
      "[CV 2/4] END criterion=entropy, max_depth=4, max_features=sqrt, n_estimators=500;, score=0.773 total time=   1.7s\n",
      "[CV 3/4] END criterion=entropy, max_depth=4, max_features=sqrt, n_estimators=500;, score=0.755 total time=   2.7s\n",
      "[CV 4/4] END criterion=entropy, max_depth=4, max_features=sqrt, n_estimators=500;, score=0.757 total time=   2.8s\n",
      "[CV 1/4] END criterion=entropy, max_depth=4, max_features=log2, n_estimators=50;, score=0.739 total time=   0.1s\n",
      "[CV 2/4] END criterion=entropy, max_depth=4, max_features=log2, n_estimators=50;, score=0.761 total time=   0.1s\n",
      "[CV 3/4] END criterion=entropy, max_depth=4, max_features=log2, n_estimators=50;, score=0.744 total time=   0.1s\n",
      "[CV 4/4] END criterion=entropy, max_depth=4, max_features=log2, n_estimators=50;, score=0.759 total time=   0.1s\n",
      "[CV 1/4] END criterion=entropy, max_depth=4, max_features=log2, n_estimators=100;, score=0.747 total time=   0.2s\n",
      "[CV 2/4] END criterion=entropy, max_depth=4, max_features=log2, n_estimators=100;, score=0.773 total time=   0.2s\n",
      "[CV 3/4] END criterion=entropy, max_depth=4, max_features=log2, n_estimators=100;, score=0.741 total time=   0.2s\n",
      "[CV 4/4] END criterion=entropy, max_depth=4, max_features=log2, n_estimators=100;, score=0.762 total time=   0.2s\n",
      "[CV 1/4] END criterion=entropy, max_depth=4, max_features=log2, n_estimators=200;, score=0.742 total time=   0.7s\n",
      "[CV 2/4] END criterion=entropy, max_depth=4, max_features=log2, n_estimators=200;, score=0.773 total time=   0.7s\n",
      "[CV 3/4] END criterion=entropy, max_depth=4, max_features=log2, n_estimators=200;, score=0.752 total time=   0.6s\n",
      "[CV 4/4] END criterion=entropy, max_depth=4, max_features=log2, n_estimators=200;, score=0.769 total time=   1.2s\n",
      "[CV 1/4] END criterion=entropy, max_depth=4, max_features=log2, n_estimators=500;, score=0.742 total time=   2.5s\n",
      "[CV 2/4] END criterion=entropy, max_depth=4, max_features=log2, n_estimators=500;, score=0.773 total time=   2.2s\n",
      "[CV 3/4] END criterion=entropy, max_depth=4, max_features=log2, n_estimators=500;, score=0.756 total time=   1.6s\n",
      "[CV 4/4] END criterion=entropy, max_depth=4, max_features=log2, n_estimators=500;, score=0.777 total time=   2.3s\n",
      "[CV 1/4] END criterion=entropy, max_depth=5, max_features=auto, n_estimators=50;, score=0.749 total time=   0.2s\n",
      "[CV 2/4] END criterion=entropy, max_depth=5, max_features=auto, n_estimators=50;, score=0.762 total time=   0.2s\n",
      "[CV 3/4] END criterion=entropy, max_depth=5, max_features=auto, n_estimators=50;, score=0.762 total time=   0.2s\n",
      "[CV 4/4] END criterion=entropy, max_depth=5, max_features=auto, n_estimators=50;, score=0.771 total time=   0.2s\n",
      "[CV 1/4] END criterion=entropy, max_depth=5, max_features=auto, n_estimators=100;, score=0.759 total time=   0.5s\n",
      "[CV 2/4] END criterion=entropy, max_depth=5, max_features=auto, n_estimators=100;, score=0.773 total time=   0.5s\n",
      "[CV 3/4] END criterion=entropy, max_depth=5, max_features=auto, n_estimators=100;, score=0.767 total time=   0.4s\n",
      "[CV 4/4] END criterion=entropy, max_depth=5, max_features=auto, n_estimators=100;, score=0.775 total time=   0.5s\n",
      "[CV 1/4] END criterion=entropy, max_depth=5, max_features=auto, n_estimators=200;, score=0.760 total time=   0.9s\n",
      "[CV 2/4] END criterion=entropy, max_depth=5, max_features=auto, n_estimators=200;, score=0.775 total time=   0.7s\n",
      "[CV 3/4] END criterion=entropy, max_depth=5, max_features=auto, n_estimators=200;, score=0.747 total time=   0.7s\n",
      "[CV 4/4] END criterion=entropy, max_depth=5, max_features=auto, n_estimators=200;, score=0.766 total time=   0.6s\n",
      "[CV 1/4] END criterion=entropy, max_depth=5, max_features=auto, n_estimators=500;, score=0.750 total time=   1.7s\n",
      "[CV 2/4] END criterion=entropy, max_depth=5, max_features=auto, n_estimators=500;, score=0.773 total time=   2.7s\n",
      "[CV 3/4] END criterion=entropy, max_depth=5, max_features=auto, n_estimators=500;, score=0.766 total time=   2.5s\n",
      "[CV 4/4] END criterion=entropy, max_depth=5, max_features=auto, n_estimators=500;, score=0.755 total time=   2.0s\n",
      "[CV 1/4] END criterion=entropy, max_depth=5, max_features=sqrt, n_estimators=50;, score=0.750 total time=   0.1s\n",
      "[CV 2/4] END criterion=entropy, max_depth=5, max_features=sqrt, n_estimators=50;, score=0.776 total time=   0.1s\n",
      "[CV 3/4] END criterion=entropy, max_depth=5, max_features=sqrt, n_estimators=50;, score=0.759 total time=   0.1s\n",
      "[CV 4/4] END criterion=entropy, max_depth=5, max_features=sqrt, n_estimators=50;, score=0.766 total time=   0.1s\n",
      "[CV 1/4] END criterion=entropy, max_depth=5, max_features=sqrt, n_estimators=100;, score=0.752 total time=   0.2s\n",
      "[CV 2/4] END criterion=entropy, max_depth=5, max_features=sqrt, n_estimators=100;, score=0.773 total time=   0.5s\n",
      "[CV 3/4] END criterion=entropy, max_depth=5, max_features=sqrt, n_estimators=100;, score=0.746 total time=   0.5s\n",
      "[CV 4/4] END criterion=entropy, max_depth=5, max_features=sqrt, n_estimators=100;, score=0.755 total time=   0.5s\n",
      "[CV 1/4] END criterion=entropy, max_depth=5, max_features=sqrt, n_estimators=200;, score=0.751 total time=   1.0s\n",
      "[CV 2/4] END criterion=entropy, max_depth=5, max_features=sqrt, n_estimators=200;, score=0.770 total time=   1.1s\n",
      "[CV 3/4] END criterion=entropy, max_depth=5, max_features=sqrt, n_estimators=200;, score=0.755 total time=   1.0s\n",
      "[CV 4/4] END criterion=entropy, max_depth=5, max_features=sqrt, n_estimators=200;, score=0.753 total time=   1.0s\n",
      "[CV 1/4] END criterion=entropy, max_depth=5, max_features=sqrt, n_estimators=500;, score=0.750 total time=   1.6s\n",
      "[CV 2/4] END criterion=entropy, max_depth=5, max_features=sqrt, n_estimators=500;, score=0.773 total time=   1.9s\n",
      "[CV 3/4] END criterion=entropy, max_depth=5, max_features=sqrt, n_estimators=500;, score=0.754 total time=   2.7s\n",
      "[CV 4/4] END criterion=entropy, max_depth=5, max_features=sqrt, n_estimators=500;, score=0.767 total time=   2.3s\n",
      "[CV 1/4] END criterion=entropy, max_depth=5, max_features=log2, n_estimators=50;, score=0.737 total time=   0.1s\n",
      "[CV 2/4] END criterion=entropy, max_depth=5, max_features=log2, n_estimators=50;, score=0.751 total time=   0.1s\n",
      "[CV 3/4] END criterion=entropy, max_depth=5, max_features=log2, n_estimators=50;, score=0.743 total time=   0.1s\n",
      "[CV 4/4] END criterion=entropy, max_depth=5, max_features=log2, n_estimators=50;, score=0.743 total time=   0.1s\n",
      "[CV 1/4] END criterion=entropy, max_depth=5, max_features=log2, n_estimators=100;, score=0.742 total time=   0.2s\n",
      "[CV 2/4] END criterion=entropy, max_depth=5, max_features=log2, n_estimators=100;, score=0.773 total time=   0.2s\n",
      "[CV 3/4] END criterion=entropy, max_depth=5, max_features=log2, n_estimators=100;, score=0.759 total time=   0.2s\n",
      "[CV 4/4] END criterion=entropy, max_depth=5, max_features=log2, n_estimators=100;, score=0.763 total time=   0.3s\n",
      "[CV 1/4] END criterion=entropy, max_depth=5, max_features=log2, n_estimators=200;, score=0.745 total time=   0.6s\n",
      "[CV 2/4] END criterion=entropy, max_depth=5, max_features=log2, n_estimators=200;, score=0.781 total time=   0.7s\n",
      "[CV 3/4] END criterion=entropy, max_depth=5, max_features=log2, n_estimators=200;, score=0.751 total time=   1.0s\n",
      "[CV 4/4] END criterion=entropy, max_depth=5, max_features=log2, n_estimators=200;, score=0.753 total time=   1.0s\n",
      "[CV 1/4] END criterion=entropy, max_depth=5, max_features=log2, n_estimators=500;, score=0.746 total time=   2.6s\n",
      "[CV 2/4] END criterion=entropy, max_depth=5, max_features=log2, n_estimators=500;, score=0.785 total time=   1.7s\n",
      "[CV 3/4] END criterion=entropy, max_depth=5, max_features=log2, n_estimators=500;, score=0.759 total time=   1.9s\n",
      "[CV 4/4] END criterion=entropy, max_depth=5, max_features=log2, n_estimators=500;, score=0.762 total time=   2.7s\n",
      "[CV 1/4] END criterion=entropy, max_depth=6, max_features=auto, n_estimators=50;, score=0.753 total time=   0.2s\n",
      "[CV 2/4] END criterion=entropy, max_depth=6, max_features=auto, n_estimators=50;, score=0.785 total time=   0.2s\n",
      "[CV 3/4] END criterion=entropy, max_depth=6, max_features=auto, n_estimators=50;, score=0.767 total time=   0.2s\n",
      "[CV 4/4] END criterion=entropy, max_depth=6, max_features=auto, n_estimators=50;, score=0.765 total time=   0.2s\n",
      "[CV 1/4] END criterion=entropy, max_depth=6, max_features=auto, n_estimators=100;, score=0.749 total time=   0.4s\n",
      "[CV 2/4] END criterion=entropy, max_depth=6, max_features=auto, n_estimators=100;, score=0.779 total time=   0.4s\n",
      "[CV 3/4] END criterion=entropy, max_depth=6, max_features=auto, n_estimators=100;, score=0.758 total time=   0.4s\n",
      "[CV 4/4] END criterion=entropy, max_depth=6, max_features=auto, n_estimators=100;, score=0.755 total time=   0.2s\n",
      "[CV 1/4] END criterion=entropy, max_depth=6, max_features=auto, n_estimators=200;, score=0.755 total time=   0.5s\n",
      "[CV 2/4] END criterion=entropy, max_depth=6, max_features=auto, n_estimators=200;, score=0.791 total time=   0.5s\n",
      "[CV 3/4] END criterion=entropy, max_depth=6, max_features=auto, n_estimators=200;, score=0.755 total time=   0.5s\n",
      "[CV 4/4] END criterion=entropy, max_depth=6, max_features=auto, n_estimators=200;, score=0.761 total time=   0.6s\n",
      "[CV 1/4] END criterion=entropy, max_depth=6, max_features=auto, n_estimators=500;, score=0.753 total time=   2.2s\n",
      "[CV 2/4] END criterion=entropy, max_depth=6, max_features=auto, n_estimators=500;, score=0.772 total time=   1.4s\n",
      "[CV 3/4] END criterion=entropy, max_depth=6, max_features=auto, n_estimators=500;, score=0.752 total time=   1.2s\n",
      "[CV 4/4] END criterion=entropy, max_depth=6, max_features=auto, n_estimators=500;, score=0.762 total time=   1.1s\n",
      "[CV 1/4] END criterion=entropy, max_depth=6, max_features=sqrt, n_estimators=50;, score=0.747 total time=   0.0s\n",
      "[CV 2/4] END criterion=entropy, max_depth=6, max_features=sqrt, n_estimators=50;, score=0.788 total time=   0.0s\n",
      "[CV 3/4] END criterion=entropy, max_depth=6, max_features=sqrt, n_estimators=50;, score=0.758 total time=   0.1s\n",
      "[CV 4/4] END criterion=entropy, max_depth=6, max_features=sqrt, n_estimators=50;, score=0.763 total time=   0.1s\n",
      "[CV 1/4] END criterion=entropy, max_depth=6, max_features=sqrt, n_estimators=100;, score=0.744 total time=   0.2s\n",
      "[CV 2/4] END criterion=entropy, max_depth=6, max_features=sqrt, n_estimators=100;, score=0.779 total time=   0.2s\n",
      "[CV 3/4] END criterion=entropy, max_depth=6, max_features=sqrt, n_estimators=100;, score=0.759 total time=   0.2s\n",
      "[CV 4/4] END criterion=entropy, max_depth=6, max_features=sqrt, n_estimators=100;, score=0.750 total time=   0.2s\n",
      "[CV 1/4] END criterion=entropy, max_depth=6, max_features=sqrt, n_estimators=200;, score=0.741 total time=   0.7s\n",
      "[CV 2/4] END criterion=entropy, max_depth=6, max_features=sqrt, n_estimators=200;, score=0.788 total time=   0.9s\n",
      "[CV 3/4] END criterion=entropy, max_depth=6, max_features=sqrt, n_estimators=200;, score=0.758 total time=   0.6s\n",
      "[CV 4/4] END criterion=entropy, max_depth=6, max_features=sqrt, n_estimators=200;, score=0.750 total time=   0.6s\n",
      "[CV 1/4] END criterion=entropy, max_depth=6, max_features=sqrt, n_estimators=500;, score=0.751 total time=   1.5s\n",
      "[CV 2/4] END criterion=entropy, max_depth=6, max_features=sqrt, n_estimators=500;, score=0.778 total time=   1.7s\n",
      "[CV 3/4] END criterion=entropy, max_depth=6, max_features=sqrt, n_estimators=500;, score=0.760 total time=   1.6s\n",
      "[CV 4/4] END criterion=entropy, max_depth=6, max_features=sqrt, n_estimators=500;, score=0.764 total time=   1.6s\n",
      "[CV 1/4] END criterion=entropy, max_depth=6, max_features=log2, n_estimators=50;, score=0.766 total time=   0.1s\n",
      "[CV 2/4] END criterion=entropy, max_depth=6, max_features=log2, n_estimators=50;, score=0.769 total time=   0.2s\n",
      "[CV 3/4] END criterion=entropy, max_depth=6, max_features=log2, n_estimators=50;, score=0.752 total time=   0.1s\n",
      "[CV 4/4] END criterion=entropy, max_depth=6, max_features=log2, n_estimators=50;, score=0.756 total time=   0.1s\n",
      "[CV 1/4] END criterion=entropy, max_depth=6, max_features=log2, n_estimators=100;, score=0.751 total time=   0.3s\n",
      "[CV 2/4] END criterion=entropy, max_depth=6, max_features=log2, n_estimators=100;, score=0.774 total time=   0.3s\n",
      "[CV 3/4] END criterion=entropy, max_depth=6, max_features=log2, n_estimators=100;, score=0.752 total time=   0.3s\n",
      "[CV 4/4] END criterion=entropy, max_depth=6, max_features=log2, n_estimators=100;, score=0.755 total time=   0.2s\n",
      "[CV 1/4] END criterion=entropy, max_depth=6, max_features=log2, n_estimators=200;, score=0.747 total time=   0.7s\n",
      "[CV 2/4] END criterion=entropy, max_depth=6, max_features=log2, n_estimators=200;, score=0.769 total time=   0.7s\n",
      "[CV 3/4] END criterion=entropy, max_depth=6, max_features=log2, n_estimators=200;, score=0.761 total time=   0.6s\n",
      "[CV 4/4] END criterion=entropy, max_depth=6, max_features=log2, n_estimators=200;, score=0.765 total time=   0.6s\n",
      "[CV 1/4] END criterion=entropy, max_depth=6, max_features=log2, n_estimators=500;, score=0.751 total time=   1.6s\n",
      "[CV 2/4] END criterion=entropy, max_depth=6, max_features=log2, n_estimators=500;, score=0.779 total time=   1.4s\n",
      "[CV 3/4] END criterion=entropy, max_depth=6, max_features=log2, n_estimators=500;, score=0.756 total time=   1.8s\n",
      "[CV 4/4] END criterion=entropy, max_depth=6, max_features=log2, n_estimators=500;, score=0.759 total time=   2.0s\n",
      "[CV 1/4] END criterion=entropy, max_depth=7, max_features=auto, n_estimators=50;, score=0.746 total time=   0.1s\n",
      "[CV 2/4] END criterion=entropy, max_depth=7, max_features=auto, n_estimators=50;, score=0.776 total time=   0.1s\n",
      "[CV 3/4] END criterion=entropy, max_depth=7, max_features=auto, n_estimators=50;, score=0.765 total time=   0.1s\n",
      "[CV 4/4] END criterion=entropy, max_depth=7, max_features=auto, n_estimators=50;, score=0.752 total time=   0.1s\n",
      "[CV 1/4] END criterion=entropy, max_depth=7, max_features=auto, n_estimators=100;, score=0.758 total time=   0.2s\n",
      "[CV 2/4] END criterion=entropy, max_depth=7, max_features=auto, n_estimators=100;, score=0.762 total time=   0.3s\n",
      "[CV 3/4] END criterion=entropy, max_depth=7, max_features=auto, n_estimators=100;, score=0.760 total time=   0.3s\n",
      "[CV 4/4] END criterion=entropy, max_depth=7, max_features=auto, n_estimators=100;, score=0.763 total time=   0.3s\n",
      "[CV 1/4] END criterion=entropy, max_depth=7, max_features=auto, n_estimators=200;, score=0.750 total time=   0.5s\n",
      "[CV 2/4] END criterion=entropy, max_depth=7, max_features=auto, n_estimators=200;, score=0.786 total time=   0.6s\n",
      "[CV 3/4] END criterion=entropy, max_depth=7, max_features=auto, n_estimators=200;, score=0.750 total time=   0.7s\n",
      "[CV 4/4] END criterion=entropy, max_depth=7, max_features=auto, n_estimators=200;, score=0.757 total time=   0.5s\n",
      "[CV 1/4] END criterion=entropy, max_depth=7, max_features=auto, n_estimators=500;, score=0.752 total time=   1.9s\n",
      "[CV 2/4] END criterion=entropy, max_depth=7, max_features=auto, n_estimators=500;, score=0.766 total time=   2.3s\n",
      "[CV 3/4] END criterion=entropy, max_depth=7, max_features=auto, n_estimators=500;, score=0.762 total time=   2.5s\n",
      "[CV 4/4] END criterion=entropy, max_depth=7, max_features=auto, n_estimators=500;, score=0.761 total time=   2.1s\n",
      "[CV 1/4] END criterion=entropy, max_depth=7, max_features=sqrt, n_estimators=50;, score=0.733 total time=   0.1s\n",
      "[CV 2/4] END criterion=entropy, max_depth=7, max_features=sqrt, n_estimators=50;, score=0.774 total time=   0.1s\n",
      "[CV 3/4] END criterion=entropy, max_depth=7, max_features=sqrt, n_estimators=50;, score=0.762 total time=   0.0s\n",
      "[CV 4/4] END criterion=entropy, max_depth=7, max_features=sqrt, n_estimators=50;, score=0.735 total time=   0.0s\n",
      "[CV 1/4] END criterion=entropy, max_depth=7, max_features=sqrt, n_estimators=100;, score=0.738 total time=   0.3s\n",
      "[CV 2/4] END criterion=entropy, max_depth=7, max_features=sqrt, n_estimators=100;, score=0.779 total time=   0.3s\n",
      "[CV 3/4] END criterion=entropy, max_depth=7, max_features=sqrt, n_estimators=100;, score=0.751 total time=   0.3s\n",
      "[CV 4/4] END criterion=entropy, max_depth=7, max_features=sqrt, n_estimators=100;, score=0.767 total time=   0.2s\n",
      "[CV 1/4] END criterion=entropy, max_depth=7, max_features=sqrt, n_estimators=200;, score=0.740 total time=   0.5s\n",
      "[CV 2/4] END criterion=entropy, max_depth=7, max_features=sqrt, n_estimators=200;, score=0.770 total time=   0.5s\n",
      "[CV 3/4] END criterion=entropy, max_depth=7, max_features=sqrt, n_estimators=200;, score=0.759 total time=   0.7s\n",
      "[CV 4/4] END criterion=entropy, max_depth=7, max_features=sqrt, n_estimators=200;, score=0.758 total time=   0.9s\n",
      "[CV 1/4] END criterion=entropy, max_depth=7, max_features=sqrt, n_estimators=500;, score=0.757 total time=   2.3s\n",
      "[CV 2/4] END criterion=entropy, max_depth=7, max_features=sqrt, n_estimators=500;, score=0.783 total time=   1.8s\n",
      "[CV 3/4] END criterion=entropy, max_depth=7, max_features=sqrt, n_estimators=500;, score=0.757 total time=   2.2s\n",
      "[CV 4/4] END criterion=entropy, max_depth=7, max_features=sqrt, n_estimators=500;, score=0.759 total time=   2.4s\n",
      "[CV 1/4] END criterion=entropy, max_depth=7, max_features=log2, n_estimators=50;, score=0.750 total time=   0.2s\n",
      "[CV 2/4] END criterion=entropy, max_depth=7, max_features=log2, n_estimators=50;, score=0.788 total time=   0.1s\n",
      "[CV 3/4] END criterion=entropy, max_depth=7, max_features=log2, n_estimators=50;, score=0.744 total time=   0.2s\n",
      "[CV 4/4] END criterion=entropy, max_depth=7, max_features=log2, n_estimators=50;, score=0.750 total time=   0.2s\n",
      "[CV 1/4] END criterion=entropy, max_depth=7, max_features=log2, n_estimators=100;, score=0.754 total time=   0.4s\n",
      "[CV 2/4] END criterion=entropy, max_depth=7, max_features=log2, n_estimators=100;, score=0.770 total time=   0.4s\n",
      "[CV 3/4] END criterion=entropy, max_depth=7, max_features=log2, n_estimators=100;, score=0.780 total time=   0.4s\n",
      "[CV 4/4] END criterion=entropy, max_depth=7, max_features=log2, n_estimators=100;, score=0.761 total time=   0.4s\n",
      "[CV 1/4] END criterion=entropy, max_depth=7, max_features=log2, n_estimators=200;, score=0.756 total time=   0.9s\n",
      "[CV 2/4] END criterion=entropy, max_depth=7, max_features=log2, n_estimators=200;, score=0.772 total time=   0.8s\n",
      "[CV 3/4] END criterion=entropy, max_depth=7, max_features=log2, n_estimators=200;, score=0.758 total time=   0.6s\n",
      "[CV 4/4] END criterion=entropy, max_depth=7, max_features=log2, n_estimators=200;, score=0.757 total time=   0.6s\n",
      "[CV 1/4] END criterion=entropy, max_depth=7, max_features=log2, n_estimators=500;, score=0.756 total time=   2.2s\n",
      "[CV 2/4] END criterion=entropy, max_depth=7, max_features=log2, n_estimators=500;, score=0.770 total time=   2.3s\n",
      "[CV 3/4] END criterion=entropy, max_depth=7, max_features=log2, n_estimators=500;, score=0.757 total time=   2.4s\n",
      "[CV 4/4] END criterion=entropy, max_depth=7, max_features=log2, n_estimators=500;, score=0.759 total time=   2.0s\n",
      "[CV 1/4] END criterion=entropy, max_depth=8, max_features=auto, n_estimators=50;, score=0.740 total time=   0.0s\n",
      "[CV 2/4] END criterion=entropy, max_depth=8, max_features=auto, n_estimators=50;, score=0.771 total time=   0.1s\n",
      "[CV 3/4] END criterion=entropy, max_depth=8, max_features=auto, n_estimators=50;, score=0.751 total time=   0.1s\n",
      "[CV 4/4] END criterion=entropy, max_depth=8, max_features=auto, n_estimators=50;, score=0.736 total time=   0.1s\n",
      "[CV 1/4] END criterion=entropy, max_depth=8, max_features=auto, n_estimators=100;, score=0.743 total time=   0.3s\n",
      "[CV 2/4] END criterion=entropy, max_depth=8, max_features=auto, n_estimators=100;, score=0.755 total time=   0.3s\n",
      "[CV 3/4] END criterion=entropy, max_depth=8, max_features=auto, n_estimators=100;, score=0.750 total time=   0.3s\n",
      "[CV 4/4] END criterion=entropy, max_depth=8, max_features=auto, n_estimators=100;, score=0.739 total time=   0.3s\n",
      "[CV 1/4] END criterion=entropy, max_depth=8, max_features=auto, n_estimators=200;, score=0.757 total time=   0.5s\n",
      "[CV 2/4] END criterion=entropy, max_depth=8, max_features=auto, n_estimators=200;, score=0.786 total time=   0.7s\n",
      "[CV 3/4] END criterion=entropy, max_depth=8, max_features=auto, n_estimators=200;, score=0.765 total time=   0.8s\n",
      "[CV 4/4] END criterion=entropy, max_depth=8, max_features=auto, n_estimators=200;, score=0.743 total time=   0.9s\n",
      "[CV 1/4] END criterion=entropy, max_depth=8, max_features=auto, n_estimators=500;, score=0.754 total time=   2.4s\n",
      "[CV 2/4] END criterion=entropy, max_depth=8, max_features=auto, n_estimators=500;, score=0.768 total time=   1.8s\n",
      "[CV 3/4] END criterion=entropy, max_depth=8, max_features=auto, n_estimators=500;, score=0.761 total time=   2.0s\n",
      "[CV 4/4] END criterion=entropy, max_depth=8, max_features=auto, n_estimators=500;, score=0.767 total time=   2.2s\n",
      "[CV 1/4] END criterion=entropy, max_depth=8, max_features=sqrt, n_estimators=50;, score=0.749 total time=   0.1s\n",
      "[CV 2/4] END criterion=entropy, max_depth=8, max_features=sqrt, n_estimators=50;, score=0.761 total time=   0.2s\n",
      "[CV 3/4] END criterion=entropy, max_depth=8, max_features=sqrt, n_estimators=50;, score=0.773 total time=   0.2s\n",
      "[CV 4/4] END criterion=entropy, max_depth=8, max_features=sqrt, n_estimators=50;, score=0.745 total time=   0.2s\n",
      "[CV 1/4] END criterion=entropy, max_depth=8, max_features=sqrt, n_estimators=100;, score=0.747 total time=   0.4s\n",
      "[CV 2/4] END criterion=entropy, max_depth=8, max_features=sqrt, n_estimators=100;, score=0.759 total time=   0.4s\n",
      "[CV 3/4] END criterion=entropy, max_depth=8, max_features=sqrt, n_estimators=100;, score=0.766 total time=   0.4s\n",
      "[CV 4/4] END criterion=entropy, max_depth=8, max_features=sqrt, n_estimators=100;, score=0.752 total time=   0.5s\n",
      "[CV 1/4] END criterion=entropy, max_depth=8, max_features=sqrt, n_estimators=200;, score=0.752 total time=   0.6s\n",
      "[CV 2/4] END criterion=entropy, max_depth=8, max_features=sqrt, n_estimators=200;, score=0.776 total time=   0.5s\n",
      "[CV 3/4] END criterion=entropy, max_depth=8, max_features=sqrt, n_estimators=200;, score=0.762 total time=   0.5s\n",
      "[CV 4/4] END criterion=entropy, max_depth=8, max_features=sqrt, n_estimators=200;, score=0.761 total time=   0.5s\n",
      "[CV 1/4] END criterion=entropy, max_depth=8, max_features=sqrt, n_estimators=500;, score=0.756 total time=   2.1s\n",
      "[CV 2/4] END criterion=entropy, max_depth=8, max_features=sqrt, n_estimators=500;, score=0.775 total time=   2.4s\n",
      "[CV 3/4] END criterion=entropy, max_depth=8, max_features=sqrt, n_estimators=500;, score=0.759 total time=   2.4s\n",
      "[CV 4/4] END criterion=entropy, max_depth=8, max_features=sqrt, n_estimators=500;, score=0.743 total time=   1.8s\n",
      "[CV 1/4] END criterion=entropy, max_depth=8, max_features=log2, n_estimators=50;, score=0.754 total time=   0.2s\n",
      "[CV 2/4] END criterion=entropy, max_depth=8, max_features=log2, n_estimators=50;, score=0.777 total time=   0.2s\n",
      "[CV 3/4] END criterion=entropy, max_depth=8, max_features=log2, n_estimators=50;, score=0.773 total time=   0.2s\n",
      "[CV 4/4] END criterion=entropy, max_depth=8, max_features=log2, n_estimators=50;, score=0.758 total time=   0.2s\n",
      "[CV 1/4] END criterion=entropy, max_depth=8, max_features=log2, n_estimators=100;, score=0.752 total time=   0.4s\n",
      "[CV 2/4] END criterion=entropy, max_depth=8, max_features=log2, n_estimators=100;, score=0.781 total time=   0.5s\n",
      "[CV 3/4] END criterion=entropy, max_depth=8, max_features=log2, n_estimators=100;, score=0.745 total time=   0.5s\n",
      "[CV 4/4] END criterion=entropy, max_depth=8, max_features=log2, n_estimators=100;, score=0.762 total time=   0.4s\n",
      "[CV 1/4] END criterion=entropy, max_depth=8, max_features=log2, n_estimators=200;, score=0.745 total time=   1.0s\n",
      "[CV 2/4] END criterion=entropy, max_depth=8, max_features=log2, n_estimators=200;, score=0.763 total time=   0.9s\n",
      "[CV 3/4] END criterion=entropy, max_depth=8, max_features=log2, n_estimators=200;, score=0.753 total time=   0.8s\n",
      "[CV 4/4] END criterion=entropy, max_depth=8, max_features=log2, n_estimators=200;, score=0.749 total time=   1.0s\n",
      "[CV 1/4] END criterion=entropy, max_depth=8, max_features=log2, n_estimators=500;, score=0.746 total time=   1.9s\n",
      "[CV 2/4] END criterion=entropy, max_depth=8, max_features=log2, n_estimators=500;, score=0.786 total time=   1.9s\n",
      "[CV 3/4] END criterion=entropy, max_depth=8, max_features=log2, n_estimators=500;, score=0.766 total time=   2.3s\n",
      "[CV 4/4] END criterion=entropy, max_depth=8, max_features=log2, n_estimators=500;, score=0.763 total time=   2.3s\n"
     ]
    },
    {
     "data": {
      "text/html": [
       "<style>#sk-container-id-3 {color: black;background-color: white;}#sk-container-id-3 pre{padding: 0;}#sk-container-id-3 div.sk-toggleable {background-color: white;}#sk-container-id-3 label.sk-toggleable__label {cursor: pointer;display: block;width: 100%;margin-bottom: 0;padding: 0.3em;box-sizing: border-box;text-align: center;}#sk-container-id-3 label.sk-toggleable__label-arrow:before {content: \"▸\";float: left;margin-right: 0.25em;color: #696969;}#sk-container-id-3 label.sk-toggleable__label-arrow:hover:before {color: black;}#sk-container-id-3 div.sk-estimator:hover label.sk-toggleable__label-arrow:before {color: black;}#sk-container-id-3 div.sk-toggleable__content {max-height: 0;max-width: 0;overflow: hidden;text-align: left;background-color: #f0f8ff;}#sk-container-id-3 div.sk-toggleable__content pre {margin: 0.2em;color: black;border-radius: 0.25em;background-color: #f0f8ff;}#sk-container-id-3 input.sk-toggleable__control:checked~div.sk-toggleable__content {max-height: 200px;max-width: 100%;overflow: auto;}#sk-container-id-3 input.sk-toggleable__control:checked~label.sk-toggleable__label-arrow:before {content: \"▾\";}#sk-container-id-3 div.sk-estimator input.sk-toggleable__control:checked~label.sk-toggleable__label {background-color: #d4ebff;}#sk-container-id-3 div.sk-label input.sk-toggleable__control:checked~label.sk-toggleable__label {background-color: #d4ebff;}#sk-container-id-3 input.sk-hidden--visually {border: 0;clip: rect(1px 1px 1px 1px);clip: rect(1px, 1px, 1px, 1px);height: 1px;margin: -1px;overflow: hidden;padding: 0;position: absolute;width: 1px;}#sk-container-id-3 div.sk-estimator {font-family: monospace;background-color: #f0f8ff;border: 1px dotted black;border-radius: 0.25em;box-sizing: border-box;margin-bottom: 0.5em;}#sk-container-id-3 div.sk-estimator:hover {background-color: #d4ebff;}#sk-container-id-3 div.sk-parallel-item::after {content: \"\";width: 100%;border-bottom: 1px solid gray;flex-grow: 1;}#sk-container-id-3 div.sk-label:hover label.sk-toggleable__label {background-color: #d4ebff;}#sk-container-id-3 div.sk-serial::before {content: \"\";position: absolute;border-left: 1px solid gray;box-sizing: border-box;top: 0;bottom: 0;left: 50%;z-index: 0;}#sk-container-id-3 div.sk-serial {display: flex;flex-direction: column;align-items: center;background-color: white;padding-right: 0.2em;padding-left: 0.2em;position: relative;}#sk-container-id-3 div.sk-item {position: relative;z-index: 1;}#sk-container-id-3 div.sk-parallel {display: flex;align-items: stretch;justify-content: center;background-color: white;position: relative;}#sk-container-id-3 div.sk-item::before, #sk-container-id-3 div.sk-parallel-item::before {content: \"\";position: absolute;border-left: 1px solid gray;box-sizing: border-box;top: 0;bottom: 0;left: 50%;z-index: -1;}#sk-container-id-3 div.sk-parallel-item {display: flex;flex-direction: column;z-index: 1;position: relative;background-color: white;}#sk-container-id-3 div.sk-parallel-item:first-child::after {align-self: flex-end;width: 50%;}#sk-container-id-3 div.sk-parallel-item:last-child::after {align-self: flex-start;width: 50%;}#sk-container-id-3 div.sk-parallel-item:only-child::after {width: 0;}#sk-container-id-3 div.sk-dashed-wrapped {border: 1px dashed gray;margin: 0 0.4em 0.5em 0.4em;box-sizing: border-box;padding-bottom: 0.4em;background-color: white;}#sk-container-id-3 div.sk-label label {font-family: monospace;font-weight: bold;display: inline-block;line-height: 1.2em;}#sk-container-id-3 div.sk-label-container {text-align: center;}#sk-container-id-3 div.sk-container {/* jupyter's `normalize.less` sets `[hidden] { display: none; }` but bootstrap.min.css set `[hidden] { display: none !important; }` so we also need the `!important` here to be able to override the default hidden behavior on the sphinx rendered scikit-learn.org. See: https://github.com/scikit-learn/scikit-learn/issues/21755 */display: inline-block !important;position: relative;}#sk-container-id-3 div.sk-text-repr-fallback {display: none;}</style><div id=\"sk-container-id-3\" class=\"sk-top-container\"><div class=\"sk-text-repr-fallback\"><pre>GridSearchCV(cv=StratifiedKFold(n_splits=4, random_state=27, shuffle=True),\n",
       "             estimator=RandomForestClassifier(), n_jobs=1,\n",
       "             param_grid={&#x27;criterion&#x27;: [&#x27;gini&#x27;, &#x27;entropy&#x27;],\n",
       "                         &#x27;max_depth&#x27;: [4, 5, 6, 7, 8],\n",
       "                         &#x27;max_features&#x27;: [&#x27;auto&#x27;, &#x27;sqrt&#x27;, &#x27;log2&#x27;],\n",
       "                         &#x27;n_estimators&#x27;: [50, 100, 200, 500]},\n",
       "             scoring=&#x27;f1&#x27;, verbose=3)</pre><b>In a Jupyter environment, please rerun this cell to show the HTML representation or trust the notebook. <br />On GitHub, the HTML representation is unable to render, please try loading this page with nbviewer.org.</b></div><div class=\"sk-container\" hidden><div class=\"sk-item sk-dashed-wrapped\"><div class=\"sk-label-container\"><div class=\"sk-label sk-toggleable\"><input class=\"sk-toggleable__control sk-hidden--visually\" id=\"sk-estimator-id-5\" type=\"checkbox\" ><label for=\"sk-estimator-id-5\" class=\"sk-toggleable__label sk-toggleable__label-arrow\">GridSearchCV</label><div class=\"sk-toggleable__content\"><pre>GridSearchCV(cv=StratifiedKFold(n_splits=4, random_state=27, shuffle=True),\n",
       "             estimator=RandomForestClassifier(), n_jobs=1,\n",
       "             param_grid={&#x27;criterion&#x27;: [&#x27;gini&#x27;, &#x27;entropy&#x27;],\n",
       "                         &#x27;max_depth&#x27;: [4, 5, 6, 7, 8],\n",
       "                         &#x27;max_features&#x27;: [&#x27;auto&#x27;, &#x27;sqrt&#x27;, &#x27;log2&#x27;],\n",
       "                         &#x27;n_estimators&#x27;: [50, 100, 200, 500]},\n",
       "             scoring=&#x27;f1&#x27;, verbose=3)</pre></div></div></div><div class=\"sk-parallel\"><div class=\"sk-parallel-item\"><div class=\"sk-item\"><div class=\"sk-label-container\"><div class=\"sk-label sk-toggleable\"><input class=\"sk-toggleable__control sk-hidden--visually\" id=\"sk-estimator-id-6\" type=\"checkbox\" ><label for=\"sk-estimator-id-6\" class=\"sk-toggleable__label sk-toggleable__label-arrow\">estimator: RandomForestClassifier</label><div class=\"sk-toggleable__content\"><pre>RandomForestClassifier()</pre></div></div></div><div class=\"sk-serial\"><div class=\"sk-item\"><div class=\"sk-estimator sk-toggleable\"><input class=\"sk-toggleable__control sk-hidden--visually\" id=\"sk-estimator-id-7\" type=\"checkbox\" ><label for=\"sk-estimator-id-7\" class=\"sk-toggleable__label sk-toggleable__label-arrow\">RandomForestClassifier</label><div class=\"sk-toggleable__content\"><pre>RandomForestClassifier()</pre></div></div></div></div></div></div></div></div></div></div>"
      ],
      "text/plain": [
       "GridSearchCV(cv=StratifiedKFold(n_splits=4, random_state=27, shuffle=True),\n",
       "             estimator=RandomForestClassifier(), n_jobs=1,\n",
       "             param_grid={'criterion': ['gini', 'entropy'],\n",
       "                         'max_depth': [4, 5, 6, 7, 8],\n",
       "                         'max_features': ['auto', 'sqrt', 'log2'],\n",
       "                         'n_estimators': [50, 100, 200, 500]},\n",
       "             scoring='f1', verbose=3)"
      ]
     },
     "execution_count": 15,
     "metadata": {},
     "output_type": "execute_result"
    }
   ],
   "source": [
    "from sklearn.ensemble import RandomForestClassifier\n",
    "\n",
    "warnings.filterwarnings(\"ignore\")\n",
    "#warnings.filterwarnings(\"default\")\n",
    "\n",
    "parameters = { \"n_estimators\" : [50,100,200,500],\n",
    "               'max_features': ['auto', 'sqrt', 'log2'],\n",
    "               'max_depth' : [4,5,6,7,8],\n",
    "               'criterion' :['gini', 'entropy']\n",
    "               }\n",
    "\n",
    "stratified_kfold = StratifiedKFold(n_splits=4,\n",
    "                                   shuffle=True,\n",
    "                                   random_state=27)\n",
    "\n",
    "grid_search_rfc = GridSearchCV(estimator=RandomForestClassifier(),\n",
    "                                  param_grid=parameters,\n",
    "                                  scoring=\"f1\",\n",
    "                                  cv=stratified_kfold,\n",
    "                                  n_jobs=1,\n",
    "                                  verbose = 3)\n",
    "\n",
    "grid_search_rfc.fit(X_train, y_train)"
   ]
  },
  {
   "cell_type": "code",
   "execution_count": 16,
   "metadata": {
    "pycharm": {
     "name": "#%%\n"
    }
   },
   "outputs": [
    {
     "data": {
      "text/plain": [
       "{'criterion': 'entropy',\n",
       " 'max_depth': 5,\n",
       " 'max_features': 'auto',\n",
       " 'n_estimators': 100}"
      ]
     },
     "execution_count": 16,
     "metadata": {},
     "output_type": "execute_result"
    }
   ],
   "source": [
    "grid_search_rfc.best_params_"
   ]
  },
  {
   "cell_type": "markdown",
   "metadata": {
    "pycharm": {
     "name": "#%% md\n"
    }
   },
   "source": []
  },
  {
   "cell_type": "code",
   "execution_count": 17,
   "metadata": {
    "pycharm": {
     "name": "#%%\n"
    }
   },
   "outputs": [
    {
     "data": {
      "text/plain": [
       "0.7826086956521738"
      ]
     },
     "execution_count": 17,
     "metadata": {},
     "output_type": "execute_result"
    }
   ],
   "source": [
    "f1_score(y_test,grid_search_rfc.best_estimator_.predict(X_test))"
   ]
  },
  {
   "cell_type": "markdown",
   "metadata": {
    "pycharm": {
     "name": "#%% md\n"
    }
   },
   "source": [
    "### Gradient Boosting Classifier"
   ]
  },
  {
   "cell_type": "code",
   "execution_count": 41,
   "metadata": {
    "pycharm": {
     "name": "#%%\n"
    }
   },
   "outputs": [
    {
     "data": {
      "text/html": [
       "<style>#sk-container-id-10 {color: black;background-color: white;}#sk-container-id-10 pre{padding: 0;}#sk-container-id-10 div.sk-toggleable {background-color: white;}#sk-container-id-10 label.sk-toggleable__label {cursor: pointer;display: block;width: 100%;margin-bottom: 0;padding: 0.3em;box-sizing: border-box;text-align: center;}#sk-container-id-10 label.sk-toggleable__label-arrow:before {content: \"▸\";float: left;margin-right: 0.25em;color: #696969;}#sk-container-id-10 label.sk-toggleable__label-arrow:hover:before {color: black;}#sk-container-id-10 div.sk-estimator:hover label.sk-toggleable__label-arrow:before {color: black;}#sk-container-id-10 div.sk-toggleable__content {max-height: 0;max-width: 0;overflow: hidden;text-align: left;background-color: #f0f8ff;}#sk-container-id-10 div.sk-toggleable__content pre {margin: 0.2em;color: black;border-radius: 0.25em;background-color: #f0f8ff;}#sk-container-id-10 input.sk-toggleable__control:checked~div.sk-toggleable__content {max-height: 200px;max-width: 100%;overflow: auto;}#sk-container-id-10 input.sk-toggleable__control:checked~label.sk-toggleable__label-arrow:before {content: \"▾\";}#sk-container-id-10 div.sk-estimator input.sk-toggleable__control:checked~label.sk-toggleable__label {background-color: #d4ebff;}#sk-container-id-10 div.sk-label input.sk-toggleable__control:checked~label.sk-toggleable__label {background-color: #d4ebff;}#sk-container-id-10 input.sk-hidden--visually {border: 0;clip: rect(1px 1px 1px 1px);clip: rect(1px, 1px, 1px, 1px);height: 1px;margin: -1px;overflow: hidden;padding: 0;position: absolute;width: 1px;}#sk-container-id-10 div.sk-estimator {font-family: monospace;background-color: #f0f8ff;border: 1px dotted black;border-radius: 0.25em;box-sizing: border-box;margin-bottom: 0.5em;}#sk-container-id-10 div.sk-estimator:hover {background-color: #d4ebff;}#sk-container-id-10 div.sk-parallel-item::after {content: \"\";width: 100%;border-bottom: 1px solid gray;flex-grow: 1;}#sk-container-id-10 div.sk-label:hover label.sk-toggleable__label {background-color: #d4ebff;}#sk-container-id-10 div.sk-serial::before {content: \"\";position: absolute;border-left: 1px solid gray;box-sizing: border-box;top: 0;bottom: 0;left: 50%;z-index: 0;}#sk-container-id-10 div.sk-serial {display: flex;flex-direction: column;align-items: center;background-color: white;padding-right: 0.2em;padding-left: 0.2em;position: relative;}#sk-container-id-10 div.sk-item {position: relative;z-index: 1;}#sk-container-id-10 div.sk-parallel {display: flex;align-items: stretch;justify-content: center;background-color: white;position: relative;}#sk-container-id-10 div.sk-item::before, #sk-container-id-10 div.sk-parallel-item::before {content: \"\";position: absolute;border-left: 1px solid gray;box-sizing: border-box;top: 0;bottom: 0;left: 50%;z-index: -1;}#sk-container-id-10 div.sk-parallel-item {display: flex;flex-direction: column;z-index: 1;position: relative;background-color: white;}#sk-container-id-10 div.sk-parallel-item:first-child::after {align-self: flex-end;width: 50%;}#sk-container-id-10 div.sk-parallel-item:last-child::after {align-self: flex-start;width: 50%;}#sk-container-id-10 div.sk-parallel-item:only-child::after {width: 0;}#sk-container-id-10 div.sk-dashed-wrapped {border: 1px dashed gray;margin: 0 0.4em 0.5em 0.4em;box-sizing: border-box;padding-bottom: 0.4em;background-color: white;}#sk-container-id-10 div.sk-label label {font-family: monospace;font-weight: bold;display: inline-block;line-height: 1.2em;}#sk-container-id-10 div.sk-label-container {text-align: center;}#sk-container-id-10 div.sk-container {/* jupyter's `normalize.less` sets `[hidden] { display: none; }` but bootstrap.min.css set `[hidden] { display: none !important; }` so we also need the `!important` here to be able to override the default hidden behavior on the sphinx rendered scikit-learn.org. See: https://github.com/scikit-learn/scikit-learn/issues/21755 */display: inline-block !important;position: relative;}#sk-container-id-10 div.sk-text-repr-fallback {display: none;}</style><div id=\"sk-container-id-10\" class=\"sk-top-container\"><div class=\"sk-text-repr-fallback\"><pre>GridSearchCV(cv=StratifiedKFold(n_splits=3, random_state=27, shuffle=True),\n",
       "             estimator=GradientBoostingClassifier(), n_jobs=1,\n",
       "             param_grid={&#x27;learning_rate&#x27;: [0.01, 0.05, 0.1, 0.2, 0.5, 1],\n",
       "                         &#x27;max_depth&#x27;: [2, 3, 4, 5, 6],\n",
       "                         &#x27;min_samples_leaf&#x27;: [2, 3, 4, 5, 6],\n",
       "                         &#x27;n_estimators&#x27;: [25, 50, 100, 200],\n",
       "                         &#x27;tol&#x27;: array([0.0001, 0.001 , 0.01  , 0.1   ])},\n",
       "             scoring=&#x27;f1&#x27;)</pre><b>In a Jupyter environment, please rerun this cell to show the HTML representation or trust the notebook. <br />On GitHub, the HTML representation is unable to render, please try loading this page with nbviewer.org.</b></div><div class=\"sk-container\" hidden><div class=\"sk-item sk-dashed-wrapped\"><div class=\"sk-label-container\"><div class=\"sk-label sk-toggleable\"><input class=\"sk-toggleable__control sk-hidden--visually\" id=\"sk-estimator-id-26\" type=\"checkbox\" ><label for=\"sk-estimator-id-26\" class=\"sk-toggleable__label sk-toggleable__label-arrow\">GridSearchCV</label><div class=\"sk-toggleable__content\"><pre>GridSearchCV(cv=StratifiedKFold(n_splits=3, random_state=27, shuffle=True),\n",
       "             estimator=GradientBoostingClassifier(), n_jobs=1,\n",
       "             param_grid={&#x27;learning_rate&#x27;: [0.01, 0.05, 0.1, 0.2, 0.5, 1],\n",
       "                         &#x27;max_depth&#x27;: [2, 3, 4, 5, 6],\n",
       "                         &#x27;min_samples_leaf&#x27;: [2, 3, 4, 5, 6],\n",
       "                         &#x27;n_estimators&#x27;: [25, 50, 100, 200],\n",
       "                         &#x27;tol&#x27;: array([0.0001, 0.001 , 0.01  , 0.1   ])},\n",
       "             scoring=&#x27;f1&#x27;)</pre></div></div></div><div class=\"sk-parallel\"><div class=\"sk-parallel-item\"><div class=\"sk-item\"><div class=\"sk-label-container\"><div class=\"sk-label sk-toggleable\"><input class=\"sk-toggleable__control sk-hidden--visually\" id=\"sk-estimator-id-27\" type=\"checkbox\" ><label for=\"sk-estimator-id-27\" class=\"sk-toggleable__label sk-toggleable__label-arrow\">estimator: GradientBoostingClassifier</label><div class=\"sk-toggleable__content\"><pre>GradientBoostingClassifier()</pre></div></div></div><div class=\"sk-serial\"><div class=\"sk-item\"><div class=\"sk-estimator sk-toggleable\"><input class=\"sk-toggleable__control sk-hidden--visually\" id=\"sk-estimator-id-28\" type=\"checkbox\" ><label for=\"sk-estimator-id-28\" class=\"sk-toggleable__label sk-toggleable__label-arrow\">GradientBoostingClassifier</label><div class=\"sk-toggleable__content\"><pre>GradientBoostingClassifier()</pre></div></div></div></div></div></div></div></div></div></div>"
      ],
      "text/plain": [
       "GridSearchCV(cv=StratifiedKFold(n_splits=3, random_state=27, shuffle=True),\n",
       "             estimator=GradientBoostingClassifier(), n_jobs=1,\n",
       "             param_grid={'learning_rate': [0.01, 0.05, 0.1, 0.2, 0.5, 1],\n",
       "                         'max_depth': [2, 3, 4, 5, 6],\n",
       "                         'min_samples_leaf': [2, 3, 4, 5, 6],\n",
       "                         'n_estimators': [25, 50, 100, 200],\n",
       "                         'tol': array([0.0001, 0.001 , 0.01  , 0.1   ])},\n",
       "             scoring='f1')"
      ]
     },
     "execution_count": 41,
     "metadata": {},
     "output_type": "execute_result"
    }
   ],
   "source": [
    "from sklearn.ensemble import GradientBoostingClassifier\n",
    "\n",
    "warnings.filterwarnings(\"ignore\")\n",
    "#warnings.filterwarnings(\"default\")\n",
    "\n",
    "parameters = {\n",
    "\n",
    "    'learning_rate': [0.01,0.05,0.1,0.2,0.5,1],\n",
    "    'max_depth': [2,3,4,5,6],\n",
    "    'min_samples_leaf': [2,3,4,5,6],\n",
    "    'n_estimators': [25,50,100,200],\n",
    "    \"tol\" : np.logspace(-4,-1,4)\n",
    "}\n",
    "\n",
    "stratified_kfold = StratifiedKFold(n_splits=3,\n",
    "                                   shuffle=True,\n",
    "                                   random_state=27)\n",
    "\n",
    "grid_search_gbc = GridSearchCV(estimator=GradientBoostingClassifier(),\n",
    "                               param_grid=parameters,\n",
    "                               scoring=\"f1\",\n",
    "                               cv=stratified_kfold,\n",
    "                               n_jobs=1,\n",
    "                               verbose = 0)\n",
    "\n",
    "grid_search_gbc.fit(X_train, y_train)"
   ]
  },
  {
   "cell_type": "code",
   "execution_count": 42,
   "metadata": {
    "pycharm": {
     "name": "#%%\n"
    }
   },
   "outputs": [
    {
     "data": {
      "text/plain": [
       "{'learning_rate': 0.01,\n",
       " 'max_depth': 2,\n",
       " 'min_samples_leaf': 2,\n",
       " 'n_estimators': 100,\n",
       " 'tol': 0.0001}"
      ]
     },
     "execution_count": 42,
     "metadata": {},
     "output_type": "execute_result"
    }
   ],
   "source": [
    "grid_search_gbc.best_params_"
   ]
  },
  {
   "cell_type": "code",
   "execution_count": 43,
   "metadata": {
    "pycharm": {
     "name": "#%%\n"
    }
   },
   "outputs": [
    {
     "data": {
      "text/plain": [
       "0.7863247863247864"
      ]
     },
     "execution_count": 43,
     "metadata": {},
     "output_type": "execute_result"
    }
   ],
   "source": [
    "f1_score(y_test,grid_search_gbc.best_estimator_.predict(X_test))"
   ]
  },
  {
   "cell_type": "markdown",
   "metadata": {
    "pycharm": {
     "name": "#%% md\n"
    }
   },
   "source": [
    "### SVC"
   ]
  },
  {
   "cell_type": "code",
   "execution_count": 21,
   "metadata": {
    "pycharm": {
     "name": "#%%\n"
    }
   },
   "outputs": [
    {
     "name": "stdout",
     "output_type": "stream",
     "text": [
      "Fitting 4 folds for each of 32 candidates, totalling 128 fits\n",
      "[CV 1/4] END .......C=1, gamma=1, kernel=linear;, score=0.735 total time=   0.0s\n",
      "[CV 2/4] END .......C=1, gamma=1, kernel=linear;, score=0.784 total time=   0.0s\n",
      "[CV 3/4] END .......C=1, gamma=1, kernel=linear;, score=0.764 total time=   0.0s\n",
      "[CV 4/4] END .......C=1, gamma=1, kernel=linear;, score=0.797 total time=   0.0s\n",
      "[CV 1/4] END ..........C=1, gamma=1, kernel=rbf;, score=0.753 total time=   0.0s\n",
      "[CV 2/4] END ..........C=1, gamma=1, kernel=rbf;, score=0.786 total time=   0.0s\n",
      "[CV 3/4] END ..........C=1, gamma=1, kernel=rbf;, score=0.770 total time=   0.0s\n",
      "[CV 4/4] END ..........C=1, gamma=1, kernel=rbf;, score=0.788 total time=   0.0s\n",
      "[CV 1/4] END .....C=1, gamma=0.1, kernel=linear;, score=0.735 total time=   0.0s\n",
      "[CV 2/4] END .....C=1, gamma=0.1, kernel=linear;, score=0.784 total time=   0.0s\n",
      "[CV 3/4] END .....C=1, gamma=0.1, kernel=linear;, score=0.764 total time=   0.0s\n",
      "[CV 4/4] END .....C=1, gamma=0.1, kernel=linear;, score=0.797 total time=   0.0s\n",
      "[CV 1/4] END ........C=1, gamma=0.1, kernel=rbf;, score=0.739 total time=   0.0s\n",
      "[CV 2/4] END ........C=1, gamma=0.1, kernel=rbf;, score=0.788 total time=   0.0s\n",
      "[CV 3/4] END ........C=1, gamma=0.1, kernel=rbf;, score=0.770 total time=   0.0s\n",
      "[CV 4/4] END ........C=1, gamma=0.1, kernel=rbf;, score=0.786 total time=   0.0s\n",
      "[CV 1/4] END ...C=1, gamma=0.001, kernel=linear;, score=0.735 total time=   0.0s\n",
      "[CV 2/4] END ...C=1, gamma=0.001, kernel=linear;, score=0.784 total time=   0.0s\n",
      "[CV 3/4] END ...C=1, gamma=0.001, kernel=linear;, score=0.764 total time=   0.0s\n",
      "[CV 4/4] END ...C=1, gamma=0.001, kernel=linear;, score=0.797 total time=   0.0s\n",
      "[CV 1/4] END ......C=1, gamma=0.001, kernel=rbf;, score=0.759 total time=   0.0s\n",
      "[CV 2/4] END ......C=1, gamma=0.001, kernel=rbf;, score=0.760 total time=   0.0s\n",
      "[CV 3/4] END ......C=1, gamma=0.001, kernel=rbf;, score=0.760 total time=   0.0s\n",
      "[CV 4/4] END ......C=1, gamma=0.001, kernel=rbf;, score=0.760 total time=   0.0s\n",
      "[CV 1/4] END ..C=1, gamma=0.0001, kernel=linear;, score=0.735 total time=   0.0s\n",
      "[CV 2/4] END ..C=1, gamma=0.0001, kernel=linear;, score=0.784 total time=   0.0s\n",
      "[CV 3/4] END ..C=1, gamma=0.0001, kernel=linear;, score=0.764 total time=   0.0s\n",
      "[CV 4/4] END ..C=1, gamma=0.0001, kernel=linear;, score=0.797 total time=   0.0s\n",
      "[CV 1/4] END .....C=1, gamma=0.0001, kernel=rbf;, score=0.759 total time=   0.0s\n",
      "[CV 2/4] END .....C=1, gamma=0.0001, kernel=rbf;, score=0.760 total time=   0.0s\n",
      "[CV 3/4] END .....C=1, gamma=0.0001, kernel=rbf;, score=0.760 total time=   0.0s\n",
      "[CV 4/4] END .....C=1, gamma=0.0001, kernel=rbf;, score=0.760 total time=   0.0s\n",
      "[CV 1/4] END ......C=10, gamma=1, kernel=linear;, score=0.744 total time=   0.0s\n",
      "[CV 2/4] END ......C=10, gamma=1, kernel=linear;, score=0.777 total time=   0.0s\n",
      "[CV 3/4] END ......C=10, gamma=1, kernel=linear;, score=0.755 total time=   0.0s\n",
      "[CV 4/4] END ......C=10, gamma=1, kernel=linear;, score=0.790 total time=   0.0s\n",
      "[CV 1/4] END .........C=10, gamma=1, kernel=rbf;, score=0.747 total time=   0.0s\n",
      "[CV 2/4] END .........C=10, gamma=1, kernel=rbf;, score=0.778 total time=   0.0s\n",
      "[CV 3/4] END .........C=10, gamma=1, kernel=rbf;, score=0.772 total time=   0.0s\n",
      "[CV 4/4] END .........C=10, gamma=1, kernel=rbf;, score=0.762 total time=   0.0s\n",
      "[CV 1/4] END ....C=10, gamma=0.1, kernel=linear;, score=0.744 total time=   0.0s\n",
      "[CV 2/4] END ....C=10, gamma=0.1, kernel=linear;, score=0.777 total time=   0.0s\n",
      "[CV 3/4] END ....C=10, gamma=0.1, kernel=linear;, score=0.755 total time=   0.0s\n",
      "[CV 4/4] END ....C=10, gamma=0.1, kernel=linear;, score=0.790 total time=   0.0s\n",
      "[CV 1/4] END .......C=10, gamma=0.1, kernel=rbf;, score=0.744 total time=   0.0s\n",
      "[CV 2/4] END .......C=10, gamma=0.1, kernel=rbf;, score=0.790 total time=   0.0s\n",
      "[CV 3/4] END .......C=10, gamma=0.1, kernel=rbf;, score=0.781 total time=   0.0s\n",
      "[CV 4/4] END .......C=10, gamma=0.1, kernel=rbf;, score=0.788 total time=   0.0s\n",
      "[CV 1/4] END ..C=10, gamma=0.001, kernel=linear;, score=0.744 total time=   0.0s\n",
      "[CV 2/4] END ..C=10, gamma=0.001, kernel=linear;, score=0.777 total time=   0.0s\n",
      "[CV 3/4] END ..C=10, gamma=0.001, kernel=linear;, score=0.755 total time=   0.0s\n",
      "[CV 4/4] END ..C=10, gamma=0.001, kernel=linear;, score=0.790 total time=   0.0s\n",
      "[CV 1/4] END .....C=10, gamma=0.001, kernel=rbf;, score=0.759 total time=   0.0s\n",
      "[CV 2/4] END .....C=10, gamma=0.001, kernel=rbf;, score=0.760 total time=   0.0s\n",
      "[CV 3/4] END .....C=10, gamma=0.001, kernel=rbf;, score=0.760 total time=   0.0s\n",
      "[CV 4/4] END .....C=10, gamma=0.001, kernel=rbf;, score=0.760 total time=   0.0s\n",
      "[CV 1/4] END .C=10, gamma=0.0001, kernel=linear;, score=0.744 total time=   0.0s\n",
      "[CV 2/4] END .C=10, gamma=0.0001, kernel=linear;, score=0.777 total time=   0.0s\n",
      "[CV 3/4] END .C=10, gamma=0.0001, kernel=linear;, score=0.755 total time=   0.0s\n",
      "[CV 4/4] END .C=10, gamma=0.0001, kernel=linear;, score=0.790 total time=   0.0s\n",
      "[CV 1/4] END ....C=10, gamma=0.0001, kernel=rbf;, score=0.759 total time=   0.0s\n",
      "[CV 2/4] END ....C=10, gamma=0.0001, kernel=rbf;, score=0.760 total time=   0.0s\n",
      "[CV 3/4] END ....C=10, gamma=0.0001, kernel=rbf;, score=0.760 total time=   0.0s\n",
      "[CV 4/4] END ....C=10, gamma=0.0001, kernel=rbf;, score=0.760 total time=   0.0s\n",
      "[CV 1/4] END .....C=100, gamma=1, kernel=linear;, score=0.742 total time=   0.0s\n",
      "[CV 2/4] END .....C=100, gamma=1, kernel=linear;, score=0.772 total time=   0.0s\n",
      "[CV 3/4] END .....C=100, gamma=1, kernel=linear;, score=0.755 total time=   0.0s\n",
      "[CV 4/4] END .....C=100, gamma=1, kernel=linear;, score=0.780 total time=   0.0s\n",
      "[CV 1/4] END ........C=100, gamma=1, kernel=rbf;, score=0.728 total time=   0.0s\n",
      "[CV 2/4] END ........C=100, gamma=1, kernel=rbf;, score=0.698 total time=   0.0s\n",
      "[CV 3/4] END ........C=100, gamma=1, kernel=rbf;, score=0.699 total time=   0.0s\n",
      "[CV 4/4] END ........C=100, gamma=1, kernel=rbf;, score=0.750 total time=   0.0s\n",
      "[CV 1/4] END ...C=100, gamma=0.1, kernel=linear;, score=0.742 total time=   0.0s\n",
      "[CV 2/4] END ...C=100, gamma=0.1, kernel=linear;, score=0.772 total time=   0.0s\n",
      "[CV 3/4] END ...C=100, gamma=0.1, kernel=linear;, score=0.755 total time=   0.0s\n",
      "[CV 4/4] END ...C=100, gamma=0.1, kernel=linear;, score=0.780 total time=   0.0s\n",
      "[CV 1/4] END ......C=100, gamma=0.1, kernel=rbf;, score=0.742 total time=   0.0s\n",
      "[CV 2/4] END ......C=100, gamma=0.1, kernel=rbf;, score=0.787 total time=   0.0s\n",
      "[CV 3/4] END ......C=100, gamma=0.1, kernel=rbf;, score=0.774 total time=   0.0s\n",
      "[CV 4/4] END ......C=100, gamma=0.1, kernel=rbf;, score=0.785 total time=   0.0s\n",
      "[CV 1/4] END .C=100, gamma=0.001, kernel=linear;, score=0.742 total time=   0.0s\n",
      "[CV 2/4] END .C=100, gamma=0.001, kernel=linear;, score=0.772 total time=   0.0s\n",
      "[CV 3/4] END .C=100, gamma=0.001, kernel=linear;, score=0.755 total time=   0.0s\n",
      "[CV 4/4] END .C=100, gamma=0.001, kernel=linear;, score=0.780 total time=   0.0s\n",
      "[CV 1/4] END ....C=100, gamma=0.001, kernel=rbf;, score=0.737 total time=   0.0s\n",
      "[CV 2/4] END ....C=100, gamma=0.001, kernel=rbf;, score=0.789 total time=   0.0s\n",
      "[CV 3/4] END ....C=100, gamma=0.001, kernel=rbf;, score=0.759 total time=   0.0s\n",
      "[CV 4/4] END ....C=100, gamma=0.001, kernel=rbf;, score=0.795 total time=   0.0s\n",
      "[CV 1/4] END C=100, gamma=0.0001, kernel=linear;, score=0.742 total time=   0.0s\n",
      "[CV 2/4] END C=100, gamma=0.0001, kernel=linear;, score=0.772 total time=   0.0s\n",
      "[CV 3/4] END C=100, gamma=0.0001, kernel=linear;, score=0.755 total time=   0.0s\n",
      "[CV 4/4] END C=100, gamma=0.0001, kernel=linear;, score=0.780 total time=   0.0s\n",
      "[CV 1/4] END ...C=100, gamma=0.0001, kernel=rbf;, score=0.759 total time=   0.0s\n",
      "[CV 2/4] END ...C=100, gamma=0.0001, kernel=rbf;, score=0.760 total time=   0.0s\n",
      "[CV 3/4] END ...C=100, gamma=0.0001, kernel=rbf;, score=0.760 total time=   0.0s\n",
      "[CV 4/4] END ...C=100, gamma=0.0001, kernel=rbf;, score=0.760 total time=   0.0s\n",
      "[CV 1/4] END ....C=1000, gamma=1, kernel=linear;, score=0.749 total time=   0.2s\n",
      "[CV 2/4] END ....C=1000, gamma=1, kernel=linear;, score=0.786 total time=   0.3s\n",
      "[CV 3/4] END ....C=1000, gamma=1, kernel=linear;, score=0.759 total time=   0.4s\n",
      "[CV 4/4] END ....C=1000, gamma=1, kernel=linear;, score=0.765 total time=   0.6s\n",
      "[CV 1/4] END .......C=1000, gamma=1, kernel=rbf;, score=0.692 total time=   0.4s\n",
      "[CV 2/4] END .......C=1000, gamma=1, kernel=rbf;, score=0.675 total time=   0.4s\n",
      "[CV 3/4] END .......C=1000, gamma=1, kernel=rbf;, score=0.662 total time=   0.3s\n",
      "[CV 4/4] END .......C=1000, gamma=1, kernel=rbf;, score=0.678 total time=   0.4s\n",
      "[CV 1/4] END ..C=1000, gamma=0.1, kernel=linear;, score=0.749 total time=   0.4s\n",
      "[CV 2/4] END ..C=1000, gamma=0.1, kernel=linear;, score=0.786 total time=   0.3s\n",
      "[CV 3/4] END ..C=1000, gamma=0.1, kernel=linear;, score=0.759 total time=   0.4s\n",
      "[CV 4/4] END ..C=1000, gamma=0.1, kernel=linear;, score=0.765 total time=   0.3s\n",
      "[CV 1/4] END .....C=1000, gamma=0.1, kernel=rbf;, score=0.733 total time=   0.0s\n",
      "[CV 2/4] END .....C=1000, gamma=0.1, kernel=rbf;, score=0.782 total time=   0.1s\n",
      "[CV 3/4] END .....C=1000, gamma=0.1, kernel=rbf;, score=0.768 total time=   0.0s\n",
      "[CV 4/4] END .....C=1000, gamma=0.1, kernel=rbf;, score=0.760 total time=   0.0s\n",
      "[CV 1/4] END C=1000, gamma=0.001, kernel=linear;, score=0.749 total time=   0.2s\n",
      "[CV 2/4] END C=1000, gamma=0.001, kernel=linear;, score=0.786 total time=   0.3s\n",
      "[CV 3/4] END C=1000, gamma=0.001, kernel=linear;, score=0.759 total time=   0.4s\n",
      "[CV 4/4] END C=1000, gamma=0.001, kernel=linear;, score=0.765 total time=   0.4s\n",
      "[CV 1/4] END ...C=1000, gamma=0.001, kernel=rbf;, score=0.737 total time=   0.0s\n",
      "[CV 2/4] END ...C=1000, gamma=0.001, kernel=rbf;, score=0.774 total time=   0.0s\n",
      "[CV 3/4] END ...C=1000, gamma=0.001, kernel=rbf;, score=0.766 total time=   0.0s\n",
      "[CV 4/4] END ...C=1000, gamma=0.001, kernel=rbf;, score=0.800 total time=   0.0s\n",
      "[CV 1/4] END C=1000, gamma=0.0001, kernel=linear;, score=0.749 total time=   0.2s\n",
      "[CV 2/4] END C=1000, gamma=0.0001, kernel=linear;, score=0.786 total time=   0.2s\n",
      "[CV 3/4] END C=1000, gamma=0.0001, kernel=linear;, score=0.759 total time=   0.2s\n",
      "[CV 4/4] END C=1000, gamma=0.0001, kernel=linear;, score=0.765 total time=   0.3s\n",
      "[CV 1/4] END ..C=1000, gamma=0.0001, kernel=rbf;, score=0.737 total time=   0.0s\n",
      "[CV 2/4] END ..C=1000, gamma=0.0001, kernel=rbf;, score=0.789 total time=   0.0s\n",
      "[CV 3/4] END ..C=1000, gamma=0.0001, kernel=rbf;, score=0.759 total time=   0.0s\n",
      "[CV 4/4] END ..C=1000, gamma=0.0001, kernel=rbf;, score=0.795 total time=   0.0s\n"
     ]
    },
    {
     "data": {
      "text/html": [
       "<style>#sk-container-id-5 {color: black;background-color: white;}#sk-container-id-5 pre{padding: 0;}#sk-container-id-5 div.sk-toggleable {background-color: white;}#sk-container-id-5 label.sk-toggleable__label {cursor: pointer;display: block;width: 100%;margin-bottom: 0;padding: 0.3em;box-sizing: border-box;text-align: center;}#sk-container-id-5 label.sk-toggleable__label-arrow:before {content: \"▸\";float: left;margin-right: 0.25em;color: #696969;}#sk-container-id-5 label.sk-toggleable__label-arrow:hover:before {color: black;}#sk-container-id-5 div.sk-estimator:hover label.sk-toggleable__label-arrow:before {color: black;}#sk-container-id-5 div.sk-toggleable__content {max-height: 0;max-width: 0;overflow: hidden;text-align: left;background-color: #f0f8ff;}#sk-container-id-5 div.sk-toggleable__content pre {margin: 0.2em;color: black;border-radius: 0.25em;background-color: #f0f8ff;}#sk-container-id-5 input.sk-toggleable__control:checked~div.sk-toggleable__content {max-height: 200px;max-width: 100%;overflow: auto;}#sk-container-id-5 input.sk-toggleable__control:checked~label.sk-toggleable__label-arrow:before {content: \"▾\";}#sk-container-id-5 div.sk-estimator input.sk-toggleable__control:checked~label.sk-toggleable__label {background-color: #d4ebff;}#sk-container-id-5 div.sk-label input.sk-toggleable__control:checked~label.sk-toggleable__label {background-color: #d4ebff;}#sk-container-id-5 input.sk-hidden--visually {border: 0;clip: rect(1px 1px 1px 1px);clip: rect(1px, 1px, 1px, 1px);height: 1px;margin: -1px;overflow: hidden;padding: 0;position: absolute;width: 1px;}#sk-container-id-5 div.sk-estimator {font-family: monospace;background-color: #f0f8ff;border: 1px dotted black;border-radius: 0.25em;box-sizing: border-box;margin-bottom: 0.5em;}#sk-container-id-5 div.sk-estimator:hover {background-color: #d4ebff;}#sk-container-id-5 div.sk-parallel-item::after {content: \"\";width: 100%;border-bottom: 1px solid gray;flex-grow: 1;}#sk-container-id-5 div.sk-label:hover label.sk-toggleable__label {background-color: #d4ebff;}#sk-container-id-5 div.sk-serial::before {content: \"\";position: absolute;border-left: 1px solid gray;box-sizing: border-box;top: 0;bottom: 0;left: 50%;z-index: 0;}#sk-container-id-5 div.sk-serial {display: flex;flex-direction: column;align-items: center;background-color: white;padding-right: 0.2em;padding-left: 0.2em;position: relative;}#sk-container-id-5 div.sk-item {position: relative;z-index: 1;}#sk-container-id-5 div.sk-parallel {display: flex;align-items: stretch;justify-content: center;background-color: white;position: relative;}#sk-container-id-5 div.sk-item::before, #sk-container-id-5 div.sk-parallel-item::before {content: \"\";position: absolute;border-left: 1px solid gray;box-sizing: border-box;top: 0;bottom: 0;left: 50%;z-index: -1;}#sk-container-id-5 div.sk-parallel-item {display: flex;flex-direction: column;z-index: 1;position: relative;background-color: white;}#sk-container-id-5 div.sk-parallel-item:first-child::after {align-self: flex-end;width: 50%;}#sk-container-id-5 div.sk-parallel-item:last-child::after {align-self: flex-start;width: 50%;}#sk-container-id-5 div.sk-parallel-item:only-child::after {width: 0;}#sk-container-id-5 div.sk-dashed-wrapped {border: 1px dashed gray;margin: 0 0.4em 0.5em 0.4em;box-sizing: border-box;padding-bottom: 0.4em;background-color: white;}#sk-container-id-5 div.sk-label label {font-family: monospace;font-weight: bold;display: inline-block;line-height: 1.2em;}#sk-container-id-5 div.sk-label-container {text-align: center;}#sk-container-id-5 div.sk-container {/* jupyter's `normalize.less` sets `[hidden] { display: none; }` but bootstrap.min.css set `[hidden] { display: none !important; }` so we also need the `!important` here to be able to override the default hidden behavior on the sphinx rendered scikit-learn.org. See: https://github.com/scikit-learn/scikit-learn/issues/21755 */display: inline-block !important;position: relative;}#sk-container-id-5 div.sk-text-repr-fallback {display: none;}</style><div id=\"sk-container-id-5\" class=\"sk-top-container\"><div class=\"sk-text-repr-fallback\"><pre>GridSearchCV(cv=StratifiedKFold(n_splits=4, random_state=27, shuffle=True),\n",
       "             estimator=SVC(), n_jobs=1,\n",
       "             param_grid={&#x27;C&#x27;: [1, 10, 100, 1000],\n",
       "                         &#x27;gamma&#x27;: [1, 0.1, 0.001, 0.0001],\n",
       "                         &#x27;kernel&#x27;: [&#x27;linear&#x27;, &#x27;rbf&#x27;]},\n",
       "             scoring=&#x27;f1&#x27;, verbose=3)</pre><b>In a Jupyter environment, please rerun this cell to show the HTML representation or trust the notebook. <br />On GitHub, the HTML representation is unable to render, please try loading this page with nbviewer.org.</b></div><div class=\"sk-container\" hidden><div class=\"sk-item sk-dashed-wrapped\"><div class=\"sk-label-container\"><div class=\"sk-label sk-toggleable\"><input class=\"sk-toggleable__control sk-hidden--visually\" id=\"sk-estimator-id-11\" type=\"checkbox\" ><label for=\"sk-estimator-id-11\" class=\"sk-toggleable__label sk-toggleable__label-arrow\">GridSearchCV</label><div class=\"sk-toggleable__content\"><pre>GridSearchCV(cv=StratifiedKFold(n_splits=4, random_state=27, shuffle=True),\n",
       "             estimator=SVC(), n_jobs=1,\n",
       "             param_grid={&#x27;C&#x27;: [1, 10, 100, 1000],\n",
       "                         &#x27;gamma&#x27;: [1, 0.1, 0.001, 0.0001],\n",
       "                         &#x27;kernel&#x27;: [&#x27;linear&#x27;, &#x27;rbf&#x27;]},\n",
       "             scoring=&#x27;f1&#x27;, verbose=3)</pre></div></div></div><div class=\"sk-parallel\"><div class=\"sk-parallel-item\"><div class=\"sk-item\"><div class=\"sk-label-container\"><div class=\"sk-label sk-toggleable\"><input class=\"sk-toggleable__control sk-hidden--visually\" id=\"sk-estimator-id-12\" type=\"checkbox\" ><label for=\"sk-estimator-id-12\" class=\"sk-toggleable__label sk-toggleable__label-arrow\">estimator: SVC</label><div class=\"sk-toggleable__content\"><pre>SVC()</pre></div></div></div><div class=\"sk-serial\"><div class=\"sk-item\"><div class=\"sk-estimator sk-toggleable\"><input class=\"sk-toggleable__control sk-hidden--visually\" id=\"sk-estimator-id-13\" type=\"checkbox\" ><label for=\"sk-estimator-id-13\" class=\"sk-toggleable__label sk-toggleable__label-arrow\">SVC</label><div class=\"sk-toggleable__content\"><pre>SVC()</pre></div></div></div></div></div></div></div></div></div></div>"
      ],
      "text/plain": [
       "GridSearchCV(cv=StratifiedKFold(n_splits=4, random_state=27, shuffle=True),\n",
       "             estimator=SVC(), n_jobs=1,\n",
       "             param_grid={'C': [1, 10, 100, 1000],\n",
       "                         'gamma': [1, 0.1, 0.001, 0.0001],\n",
       "                         'kernel': ['linear', 'rbf']},\n",
       "             scoring='f1', verbose=3)"
      ]
     },
     "execution_count": 21,
     "metadata": {},
     "output_type": "execute_result"
    }
   ],
   "source": [
    "from sklearn.svm import SVC\n",
    "\n",
    "warnings.filterwarnings(\"ignore\")\n",
    "#warnings.filterwarnings(\"default\")\n",
    "\n",
    "parameters = {'C':[1,10,100,1000],\n",
    "              'gamma':[1,0.1,0.001,0.0001],\n",
    "              'kernel':['linear','rbf']}\n",
    "\n",
    "stratified_kfold = StratifiedKFold(n_splits=4,\n",
    "                                   shuffle=True,\n",
    "                                   random_state=27)\n",
    "\n",
    "grid_search_svc = GridSearchCV(estimator=SVC(),\n",
    "                               param_grid=parameters,\n",
    "                               scoring=\"f1\",\n",
    "                               cv=stratified_kfold,\n",
    "                               n_jobs=1,\n",
    "                               verbose = 3)\n",
    "\n",
    "grid_search_svc.fit(X_train, y_train)"
   ]
  },
  {
   "cell_type": "code",
   "execution_count": 22,
   "metadata": {
    "pycharm": {
     "name": "#%%\n"
    }
   },
   "outputs": [
    {
     "data": {
      "text/plain": [
       "{'C': 10, 'gamma': 0.1, 'kernel': 'rbf'}"
      ]
     },
     "execution_count": 22,
     "metadata": {},
     "output_type": "execute_result"
    }
   ],
   "source": [
    "grid_search_svc.best_params_"
   ]
  },
  {
   "cell_type": "code",
   "execution_count": 23,
   "metadata": {
    "pycharm": {
     "name": "#%%\n"
    }
   },
   "outputs": [
    {
     "data": {
      "text/plain": [
       "0.7857142857142857"
      ]
     },
     "execution_count": 23,
     "metadata": {},
     "output_type": "execute_result"
    }
   ],
   "source": [
    "f1_score(y_test,grid_search_svc.best_estimator_.predict(X_test))"
   ]
  },
  {
   "cell_type": "markdown",
   "metadata": {
    "pycharm": {
     "name": "#%% md\n"
    }
   },
   "source": [
    "Jusqu'ici, le modèle offrant les meilleures performances est la régression logistique (C = 1,4), pour un f1 score de 0.79.\n",
    "\n",
    "Ce score est très proche du modèle dummy classifier. Nos algorithmes de machine learning ont peu d'intérêt\n",
    "\n",
    "Cela semble a priori étonnant qu'une simple régression logistique aie de meilleures performances que des algorithmes généralement meilleurs comme Gradient Boosting. Cherchons des pistes d'explications.\n",
    "\n",
    "Cela peut être du à la faible quantité de données (1300 échantillons). En effet, les algorithmes fonctionnant sur la base de l'agglomération de pleins d'estimateurs simples (RFC, GB) ont besoin de beaucoup de données.\n",
    "\n",
    "Vérifions cela en affichant les courbes d'apprentissage (learning curve)\n",
    "\n",
    "#### Courbes d'apprentissage\n",
    "<br>\n",
    "\n",
    "##### fonction tracé de learning curve\n"
   ]
  },
  {
   "cell_type": "code",
   "execution_count": 66,
   "metadata": {
    "pycharm": {
     "name": "#%%\n"
    }
   },
   "outputs": [],
   "source": [
    "from sklearn.model_selection import learning_curve\n",
    "\n",
    "def plot_learning_curve(model, X, y, scoring, verbose):\n",
    "    \"\"\"\n",
    "    fonction d'affichage de la learning curve\n",
    "    \"\"\"\n",
    "    N, train_score, val_score = learning_curve(model, X, y, train_sizes=np.linspace(0.1,1,20), scoring = scoring, verbose = verbose)\n",
    "\n",
    "    plt.plot(N, train_score.mean(axis=1), label = 'train')\n",
    "    plt.plot(N, val_score.mean(axis=1), label = 'validation')\n",
    "\n",
    "    plt.xlabel(\"train sizes\")\n",
    "    plt.title (\"learning curve of \" + f\"{model}\")\n",
    "    plt.legend()\n",
    "    plt.show()"
   ]
  },
  {
   "cell_type": "code",
   "execution_count": 67,
   "metadata": {
    "pycharm": {
     "name": "#%%\n"
    }
   },
   "outputs": [
    {
     "data": {
      "image/png": "[encoded data removed]",
      "text/plain": [
       "<Figure size 432x288 with 1 Axes>"
      ]
     },
     "metadata": {},
     "output_type": "display_data"
    },
    {
     "data": {
      "image/png": "[encoded data removed]",
      "text/plain": [
       "<Figure size 432x288 with 1 Axes>"
      ]
     },
     "metadata": {},
     "output_type": "display_data"
    },
    {
     "data": {
      "image/png": "[encoded data removed]",
      "text/plain": [
       "<Figure size 432x288 with 1 Axes>"
      ]
     },
     "metadata": {},
     "output_type": "display_data"
    },
    {
     "data": {
      "image/png": "[encoded data removed]",
      "text/plain": [
       "<Figure size 432x288 with 1 Axes>"
      ]
     },
     "metadata": {},
     "output_type": "display_data"
    }
   ],
   "source": [
    "plot_learning_curve(grid_search_logreg.best_estimator_, X_train, y_train, scoring = \"f1\", verbose = 0)\n",
    "plot_learning_curve(grid_search_gbc.best_estimator_, X_train, y_train, scoring = \"f1\", verbose = 0)\n",
    "plot_learning_curve(grid_search_rfc.best_estimator_, X_train, y_train, scoring = \"f1\", verbose = 0)\n",
    "plot_learning_curve(grid_search_svc.best_estimator_, X_train, y_train, scoring = \"f1\", verbose = 0)"
   ]
  },
  {
   "cell_type": "markdown",
   "metadata": {
    "pycharm": {
     "name": "#%% md\n"
    }
   },
   "source": [
    "Régression logistique : Amélioration possible avec l'ajout de données (courbe d'apprentissage n'a pas atteint d'asymptote horizontale)\n",
    "\n",
    "modèle RFC : sur-apprentssage important\n",
    "\n",
    "Utiliser des algorithmes de data augmentation serait pertinent.\n",
    "Etant donné que la quantité de données est ici critique, contrairement à ce que j'ai annoncé plus haut, je vais ajouter des données dans la classe minoritaire (classe 0) pour l'équilibrer et ainsi augmenter le nombre de données, et voir si cela améliore les performances. (attention au data leakage : utilisation de pipeline)\n",
    "\n",
    "Je vais uniquement garder les best estimators de la régression logistique et du gradient boosting classifier pour la suite. (les 2 modèles les plus performants)\n"
   ]
  },
  {
   "cell_type": "markdown",
   "metadata": {
    "pycharm": {
     "name": "#%% md\n"
    }
   },
   "source": [
    "#### SMOTE"
   ]
  },
  {
   "cell_type": "code",
   "execution_count": 69,
   "metadata": {
    "pycharm": {
     "name": "#%%\n"
    }
   },
   "outputs": [
    {
     "name": "stdout",
     "output_type": "stream",
     "text": [
      "pipeline log reg score :  0.7368421052631579\n",
      "pipeline gbc score :  0.7153652392947105\n"
     ]
    }
   ],
   "source": [
    "from imblearn.pipeline import Pipeline\n",
    "from imblearn.over_sampling import SMOTE\n",
    "\n",
    "smote = SMOTE(sampling_strategy=1.0) # La quantité finale de classe 0 = la quantité finale de classe 1\n",
    "\n",
    "\n",
    "# définition pipeline log reg\n",
    "pipe_logreg = Pipeline(steps = [(\"smote\", smote),\n",
    "                                (\"model_logreg\", grid_search_logreg.best_estimator_ )\n",
    "                                ]\n",
    "                       )\n",
    "#définition pipeline gradient boosting classifier\n",
    "pipe_gbc = Pipeline(steps = [(\"smote\", smote),\n",
    "                                (\"model_logreg\", grid_search_gbc.best_estimator_)\n",
    "                                ]\n",
    "                       )\n",
    "\n",
    "\n",
    "pipe_logreg.fit(X_train,y_train)\n",
    "pipe_gbc.fit(X_train,y_train)\n",
    "\n",
    "score_logreg_augmented = f1_score(y_test, pipe_logreg.predict(X_test))\n",
    "score_gbc_augmented = f1_score(y_test, pipe_gbc.predict(X_test))\n",
    "\n",
    "print (\"pipeline log reg score : \", score_logreg_augmented)\n",
    "print (\"pipeline gbc score : \", score_gbc_augmented)\n"
   ]
  },
  {
   "cell_type": "markdown",
   "metadata": {
    "pycharm": {
     "name": "#%% md\n"
    }
   },
   "source": [
    "**Conclusion** : Le fait d'avoir ajouté des données dans la classe minoritaire via SMOTE  a diminué les performances du modèle. pas la bonne voie. cela a probablement biaisé dans le mauvais sens le jeu de données.\n",
    "\n",
    "**Autres pistes d'améliorations**  : Feature engineering ? quelles variables moduler ? Feature selection ?\n",
    "\n",
    "Pour la suite je ne chercherai à améliorer que le modèle Logistic Regression\n"
   ]
  },
  {
   "cell_type": "code",
   "execution_count": 70,
   "metadata": {
    "pycharm": {
     "name": "#%%\n"
    }
   },
   "outputs": [],
   "source": [
    "# Enregistrement du modèle final dans un fichier pickle\n",
    "\n",
    "modele_final = grid_search_logreg.best_estimator_\n",
    "pickle.dump(modele_final, open(\"model\", \"wb\"))"
   ]
  },
  {
   "cell_type": "code",
   "execution_count": 71,
   "metadata": {
    "pycharm": {
     "name": "#%%\n"
    }
   },
   "outputs": [],
   "source": [
    "model_final_reload = pickle.load(open(\"model\", \"rb\"))"
   ]
  },
  {
   "cell_type": "markdown",
   "metadata": {
    "pycharm": {
     "name": "#%% md\n"
    }
   },
   "source": [
    "### Feature Selection\n",
    "\n",
    "Il est possible que certaines des variables fournies ne soient pas utiles et dégradent les performances du modèle de machine learning. Afin de voir si je peux supprimer des variables pour améeliorer le score, ja vais utiliser la fonction RFECV (Recursive feature elimination by cross validation) de sklearn"
   ]
  },
  {
   "cell_type": "code",
   "execution_count": 72,
   "metadata": {
    "pycharm": {
     "name": "#%%\n"
    }
   },
   "outputs": [
    {
     "name": "stdout",
     "output_type": "stream",
     "text": [
      "Fitting estimator with 19 features.\n",
      "Fitting estimator with 18 features.\n",
      "Fitting estimator with 17 features.\n",
      "Fitting estimator with 16 features.\n",
      "Fitting estimator with 15 features.\n",
      "Fitting estimator with 14 features.\n",
      "Fitting estimator with 13 features.\n",
      "Fitting estimator with 12 features.\n",
      "Fitting estimator with 11 features.\n",
      "Fitting estimator with 10 features.\n",
      "Fitting estimator with 9 features.\n",
      "Fitting estimator with 8 features.\n",
      "Fitting estimator with 7 features.\n",
      "Fitting estimator with 6 features.\n",
      "Fitting estimator with 5 features.\n",
      "Fitting estimator with 4 features.\n",
      "Fitting estimator with 19 features.\n",
      "Fitting estimator with 18 features.\n",
      "Fitting estimator with 17 features.\n",
      "Fitting estimator with 16 features.\n",
      "Fitting estimator with 15 features.\n",
      "Fitting estimator with 14 features.\n",
      "Fitting estimator with 13 features.\n",
      "Fitting estimator with 12 features.\n",
      "Fitting estimator with 11 features.\n",
      "Fitting estimator with 10 features.\n",
      "Fitting estimator with 9 features.\n",
      "Fitting estimator with 8 features.\n",
      "Fitting estimator with 7 features.\n",
      "Fitting estimator with 6 features.\n",
      "Fitting estimator with 5 features.\n",
      "Fitting estimator with 4 features.\n",
      "Fitting estimator with 19 features.\n",
      "Fitting estimator with 18 features.\n",
      "Fitting estimator with 17 features.\n",
      "Fitting estimator with 16 features.\n",
      "Fitting estimator with 15 features.\n",
      "Fitting estimator with 14 features.\n",
      "Fitting estimator with 13 features.\n",
      "Fitting estimator with 12 features.\n",
      "Fitting estimator with 11 features.\n",
      "Fitting estimator with 10 features.\n",
      "Fitting estimator with 9 features.\n",
      "Fitting estimator with 8 features.\n",
      "Fitting estimator with 7 features.\n",
      "Fitting estimator with 6 features.\n",
      "Fitting estimator with 5 features.\n",
      "Fitting estimator with 4 features.\n",
      "Fitting estimator with 19 features.\n"
     ]
    },
    {
     "data": {
      "text/html": [
       "<style>#sk-container-id-13 {color: black;background-color: white;}#sk-container-id-13 pre{padding: 0;}#sk-container-id-13 div.sk-toggleable {background-color: white;}#sk-container-id-13 label.sk-toggleable__label {cursor: pointer;display: block;width: 100%;margin-bottom: 0;padding: 0.3em;box-sizing: border-box;text-align: center;}#sk-container-id-13 label.sk-toggleable__label-arrow:before {content: \"▸\";float: left;margin-right: 0.25em;color: #696969;}#sk-container-id-13 label.sk-toggleable__label-arrow:hover:before {color: black;}#sk-container-id-13 div.sk-estimator:hover label.sk-toggleable__label-arrow:before {color: black;}#sk-container-id-13 div.sk-toggleable__content {max-height: 0;max-width: 0;overflow: hidden;text-align: left;background-color: #f0f8ff;}#sk-container-id-13 div.sk-toggleable__content pre {margin: 0.2em;color: black;border-radius: 0.25em;background-color: #f0f8ff;}#sk-container-id-13 input.sk-toggleable__control:checked~div.sk-toggleable__content {max-height: 200px;max-width: 100%;overflow: auto;}#sk-container-id-13 input.sk-toggleable__control:checked~label.sk-toggleable__label-arrow:before {content: \"▾\";}#sk-container-id-13 div.sk-estimator input.sk-toggleable__control:checked~label.sk-toggleable__label {background-color: #d4ebff;}#sk-container-id-13 div.sk-label input.sk-toggleable__control:checked~label.sk-toggleable__label {background-color: #d4ebff;}#sk-container-id-13 input.sk-hidden--visually {border: 0;clip: rect(1px 1px 1px 1px);clip: rect(1px, 1px, 1px, 1px);height: 1px;margin: -1px;overflow: hidden;padding: 0;position: absolute;width: 1px;}#sk-container-id-13 div.sk-estimator {font-family: monospace;background-color: #f0f8ff;border: 1px dotted black;border-radius: 0.25em;box-sizing: border-box;margin-bottom: 0.5em;}#sk-container-id-13 div.sk-estimator:hover {background-color: #d4ebff;}#sk-container-id-13 div.sk-parallel-item::after {content: \"\";width: 100%;border-bottom: 1px solid gray;flex-grow: 1;}#sk-container-id-13 div.sk-label:hover label.sk-toggleable__label {background-color: #d4ebff;}#sk-container-id-13 div.sk-serial::before {content: \"\";position: absolute;border-left: 1px solid gray;box-sizing: border-box;top: 0;bottom: 0;left: 50%;z-index: 0;}#sk-container-id-13 div.sk-serial {display: flex;flex-direction: column;align-items: center;background-color: white;padding-right: 0.2em;padding-left: 0.2em;position: relative;}#sk-container-id-13 div.sk-item {position: relative;z-index: 1;}#sk-container-id-13 div.sk-parallel {display: flex;align-items: stretch;justify-content: center;background-color: white;position: relative;}#sk-container-id-13 div.sk-item::before, #sk-container-id-13 div.sk-parallel-item::before {content: \"\";position: absolute;border-left: 1px solid gray;box-sizing: border-box;top: 0;bottom: 0;left: 50%;z-index: -1;}#sk-container-id-13 div.sk-parallel-item {display: flex;flex-direction: column;z-index: 1;position: relative;background-color: white;}#sk-container-id-13 div.sk-parallel-item:first-child::after {align-self: flex-end;width: 50%;}#sk-container-id-13 div.sk-parallel-item:last-child::after {align-self: flex-start;width: 50%;}#sk-container-id-13 div.sk-parallel-item:only-child::after {width: 0;}#sk-container-id-13 div.sk-dashed-wrapped {border: 1px dashed gray;margin: 0 0.4em 0.5em 0.4em;box-sizing: border-box;padding-bottom: 0.4em;background-color: white;}#sk-container-id-13 div.sk-label label {font-family: monospace;font-weight: bold;display: inline-block;line-height: 1.2em;}#sk-container-id-13 div.sk-label-container {text-align: center;}#sk-container-id-13 div.sk-container {/* jupyter's `normalize.less` sets `[hidden] { display: none; }` but bootstrap.min.css set `[hidden] { display: none !important; }` so we also need the `!important` here to be able to override the default hidden behavior on the sphinx rendered scikit-learn.org. See: https://github.com/scikit-learn/scikit-learn/issues/21755 */display: inline-block !important;position: relative;}#sk-container-id-13 div.sk-text-repr-fallback {display: none;}</style><div id=\"sk-container-id-13\" class=\"sk-top-container\"><div class=\"sk-text-repr-fallback\"><pre>RFECV(cv=3, estimator=LogisticRegression(C=1.3738237958832638),\n",
       "      min_features_to_select=3, scoring=&#x27;f1&#x27;, verbose=2)</pre><b>In a Jupyter environment, please rerun this cell to show the HTML representation or trust the notebook. <br />On GitHub, the HTML representation is unable to render, please try loading this page with nbviewer.org.</b></div><div class=\"sk-container\" hidden><div class=\"sk-item sk-dashed-wrapped\"><div class=\"sk-label-container\"><div class=\"sk-label sk-toggleable\"><input class=\"sk-toggleable__control sk-hidden--visually\" id=\"sk-estimator-id-33\" type=\"checkbox\" ><label for=\"sk-estimator-id-33\" class=\"sk-toggleable__label sk-toggleable__label-arrow\">RFECV</label><div class=\"sk-toggleable__content\"><pre>RFECV(cv=3, estimator=LogisticRegression(C=1.3738237958832638),\n",
       "      min_features_to_select=3, scoring=&#x27;f1&#x27;, verbose=2)</pre></div></div></div><div class=\"sk-parallel\"><div class=\"sk-parallel-item\"><div class=\"sk-item\"><div class=\"sk-label-container\"><div class=\"sk-label sk-toggleable\"><input class=\"sk-toggleable__control sk-hidden--visually\" id=\"sk-estimator-id-34\" type=\"checkbox\" ><label for=\"sk-estimator-id-34\" class=\"sk-toggleable__label sk-toggleable__label-arrow\">estimator: LogisticRegression</label><div class=\"sk-toggleable__content\"><pre>LogisticRegression(C=1.3738237958832638)</pre></div></div></div><div class=\"sk-serial\"><div class=\"sk-item\"><div class=\"sk-estimator sk-toggleable\"><input class=\"sk-toggleable__control sk-hidden--visually\" id=\"sk-estimator-id-35\" type=\"checkbox\" ><label for=\"sk-estimator-id-35\" class=\"sk-toggleable__label sk-toggleable__label-arrow\">LogisticRegression</label><div class=\"sk-toggleable__content\"><pre>LogisticRegression(C=1.3738237958832638)</pre></div></div></div></div></div></div></div></div></div></div>"
      ],
      "text/plain": [
       "RFECV(cv=3, estimator=LogisticRegression(C=1.3738237958832638),\n",
       "      min_features_to_select=3, scoring='f1', verbose=2)"
      ]
     },
     "execution_count": 72,
     "metadata": {},
     "output_type": "execute_result"
    }
   ],
   "source": [
    "from sklearn.feature_selection import RFECV\n",
    "warnings.filterwarnings(\"ignore\")\n",
    "min_features_to_select=3\n",
    "selector = RFECV(model_final_reload,\n",
    "                 step = 1,\n",
    "                 min_features_to_select = min_features_to_select,\n",
    "                 scoring=\"f1\",\n",
    "                 cv = 3,\n",
    "                 verbose = 2)\n",
    "\n",
    "selector.fit(X  ,  y.to_numpy().reshape(len(y),))"
   ]
  },
  {
   "cell_type": "code",
   "execution_count": 73,
   "metadata": {
    "pycharm": {
     "name": "#%%\n"
    }
   },
   "outputs": [
    {
     "data": {
      "image/png": "[encoded data removed]",
      "text/plain": [
       "<Figure size 432x288 with 1 Axes>"
      ]
     },
     "metadata": {},
     "output_type": "display_data"
    }
   ],
   "source": [
    "plt.plot(np.arange(3,20), selector.grid_scores_.mean(axis=1))\n",
    "plt.title(\"évolution du score en fonction de l'ajout de variables\")\n",
    "plt.xlabel('nombre de variables')\n",
    "plt.ylabel('score')\n",
    "plt.show()"
   ]
  },
  {
   "cell_type": "markdown",
   "metadata": {
    "pycharm": {
     "name": "#%% md\n"
    }
   },
   "source": [
    "On a un maximum du score f1 pour 18 variables utilisées. Il y a un bond clair aux alentours de 15 variables. Je décide donc de garder l'ensemble des variables du dataset. Pour des questions d'explicabilité je décide d'afficher le classement général des features par importance"
   ]
  },
  {
   "cell_type": "code",
   "execution_count": 74,
   "metadata": {
    "pycharm": {
     "name": "#%%\n"
    }
   },
   "outputs": [
    {
     "data": {
      "text/html": [
       "<div>\n",
       "<style scoped>\n",
       "    .dataframe tbody tr th:only-of-type {\n",
       "        vertical-align: middle;\n",
       "    }\n",
       "\n",
       "    .dataframe tbody tr th {\n",
       "        vertical-align: top;\n",
       "    }\n",
       "\n",
       "    .dataframe thead th {\n",
       "        text-align: right;\n",
       "    }\n",
       "</style>\n",
       "<table border=\"1\" class=\"dataframe\">\n",
       "  <thead>\n",
       "    <tr style=\"text-align: right;\">\n",
       "      <th></th>\n",
       "      <th>Feature</th>\n",
       "      <th>Coef</th>\n",
       "    </tr>\n",
       "  </thead>\n",
       "  <tbody>\n",
       "    <tr>\n",
       "      <th>12</th>\n",
       "      <td>OREB</td>\n",
       "      <td>2.243209</td>\n",
       "    </tr>\n",
       "    <tr>\n",
       "      <th>0</th>\n",
       "      <td>GP</td>\n",
       "      <td>2.043636</td>\n",
       "    </tr>\n",
       "    <tr>\n",
       "      <th>17</th>\n",
       "      <td>BLK</td>\n",
       "      <td>1.280221</td>\n",
       "    </tr>\n",
       "    <tr>\n",
       "      <th>4</th>\n",
       "      <td>FGA</td>\n",
       "      <td>1.020591</td>\n",
       "    </tr>\n",
       "    <tr>\n",
       "      <th>15</th>\n",
       "      <td>AST</td>\n",
       "      <td>0.998630</td>\n",
       "    </tr>\n",
       "    <tr>\n",
       "      <th>5</th>\n",
       "      <td>FG%</td>\n",
       "      <td>0.812829</td>\n",
       "    </tr>\n",
       "    <tr>\n",
       "      <th>11</th>\n",
       "      <td>FT%</td>\n",
       "      <td>0.766142</td>\n",
       "    </tr>\n",
       "    <tr>\n",
       "      <th>3</th>\n",
       "      <td>FGM</td>\n",
       "      <td>0.741021</td>\n",
       "    </tr>\n",
       "    <tr>\n",
       "      <th>6</th>\n",
       "      <td>3P Made</td>\n",
       "      <td>0.703012</td>\n",
       "    </tr>\n",
       "    <tr>\n",
       "      <th>2</th>\n",
       "      <td>PTS</td>\n",
       "      <td>0.598859</td>\n",
       "    </tr>\n",
       "    <tr>\n",
       "      <th>14</th>\n",
       "      <td>REB</td>\n",
       "      <td>0.581577</td>\n",
       "    </tr>\n",
       "    <tr>\n",
       "      <th>16</th>\n",
       "      <td>STL</td>\n",
       "      <td>0.494947</td>\n",
       "    </tr>\n",
       "    <tr>\n",
       "      <th>8</th>\n",
       "      <td>3P%</td>\n",
       "      <td>0.176747</td>\n",
       "    </tr>\n",
       "    <tr>\n",
       "      <th>9</th>\n",
       "      <td>FTM</td>\n",
       "      <td>0.056138</td>\n",
       "    </tr>\n",
       "    <tr>\n",
       "      <th>10</th>\n",
       "      <td>FTA</td>\n",
       "      <td>-0.168717</td>\n",
       "    </tr>\n",
       "    <tr>\n",
       "      <th>7</th>\n",
       "      <td>3PA</td>\n",
       "      <td>-0.445653</td>\n",
       "    </tr>\n",
       "    <tr>\n",
       "      <th>13</th>\n",
       "      <td>DREB</td>\n",
       "      <td>-0.526970</td>\n",
       "    </tr>\n",
       "    <tr>\n",
       "      <th>1</th>\n",
       "      <td>MIN</td>\n",
       "      <td>-0.777083</td>\n",
       "    </tr>\n",
       "    <tr>\n",
       "      <th>18</th>\n",
       "      <td>TOV</td>\n",
       "      <td>-0.902933</td>\n",
       "    </tr>\n",
       "  </tbody>\n",
       "</table>\n",
       "</div>"
      ],
      "text/plain": [
       "    Feature      Coef\n",
       "12     OREB  2.243209\n",
       "0        GP  2.043636\n",
       "17      BLK  1.280221\n",
       "4       FGA  1.020591\n",
       "15      AST  0.998630\n",
       "5       FG%  0.812829\n",
       "11      FT%  0.766142\n",
       "3       FGM  0.741021\n",
       "6   3P Made  0.703012\n",
       "2       PTS  0.598859\n",
       "14      REB  0.581577\n",
       "16      STL  0.494947\n",
       "8       3P%  0.176747\n",
       "9       FTM  0.056138\n",
       "10      FTA -0.168717\n",
       "7       3PA -0.445653\n",
       "13     DREB -0.526970\n",
       "1       MIN -0.777083\n",
       "18      TOV -0.902933"
      ]
     },
     "execution_count": 74,
     "metadata": {},
     "output_type": "execute_result"
    }
   ],
   "source": [
    "pd.DataFrame({\"Feature\": X.columns.to_list(), \"Coef\" : model_final_reload.coef_.tolist()[0]}).sort_values(by = \"Coef\", ascending = False)"
   ]
  },
  {
   "cell_type": "markdown",
   "metadata": {
    "pycharm": {
     "name": "#%% md\n"
    }
   },
   "source": [
    "Variable la plus importante : Games played\n",
    "\n",
    "Il semble contradictoire qu'en parallèle, la variable \"Minutes played\" a un coefficient négatif : pousse le score vers 0.\n",
    "\n",
    "La plupart des variables ont un coefficient positif comme on s'y attend : plus celles ci sont importantes et plus le joueur a un impact dans les parties donc a priori influe positivement le score.\n",
    "\n",
    "Les variables ayant le coefficient le plus négatif sont \"Defensive rebonds\" et \"Turnovers\". Cela peut trouver son explication : Plus de DR et de TOV implique plus de défense en général. Or une equipe qui défend plus qu'elle n'attaque est peut - être plus susceptible de perdre la partie faute de marquer.\n",
    "\n",
    "\n",
    "\n",
    "\n",
    "\n"
   ]
  },
  {
   "cell_type": "markdown",
   "metadata": {
    "pycharm": {
     "name": "#%% md\n"
    }
   },
   "source": [
    "### Conclusion\n",
    "\n",
    "Je ne pousserai pas plus loin la recherche du meilleur modèle, bien que le f1 score ne soit pas encore satisfaisant au vu de la proximité avec le modèle Dummy classifier.\n",
    "\n",
    "En plus de faible quantité de données, cela peut être du à la corrélation importante entre les variables, et donc la nécéssité de feature engineering. J'espère pouvoir échanger avec les ingénieurs de MP DATA plus expérimentés afin d'éclaircir ce problème. Je procède maintenant au déploiement du modèle via FASTAPI\n",
    "\n",
    "\n",
    "Pour effectuer des requêtes sur des nouveaux joueurs, il faudra fournir toutes les données répertoriées dans le dataset, et donc remplir 19 nombres sur le nouveau joueur"
   ]
  }
 ],
 "metadata": {
  "kernelspec": {
   "display_name": "Python 3 (ipykernel)",
   "language": "python",
   "name": "python3"
  },
  "language_info": {
   "codemirror_mode": {
    "name": "ipython",
    "version": 3
   },
   "file_extension": ".py",
   "mimetype": "text/x-python",
   "name": "python",
   "nbconvert_exporter": "python",
   "pygments_lexer": "ipython3",
   "version": "3.9.12"
  }
 },
 "nbformat": 4,
 "nbformat_minor": 1
}
